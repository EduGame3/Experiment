{
  "nbformat": 4,
  "nbformat_minor": 0,
  "metadata": {
    "colab": {
      "name": "TAREA 1 RIESGO DE MERCADO.ipynb",
      "provenance": [],
      "collapsed_sections": [],
      "include_colab_link": true
    },
    "kernelspec": {
      "name": "python3",
      "display_name": "Python 3"
    }
  },
  "cells": [
    {
      "cell_type": "markdown",
      "metadata": {
        "id": "view-in-github",
        "colab_type": "text"
      },
      "source": [
        "<a href=\"https://colab.research.google.com/github/EduGame3/Experiment/blob/master/TAREA_1_RIESGO_DE_MERCADO.ipynb\" target=\"_parent\"><img src=\"https://colab.research.google.com/assets/colab-badge.svg\" alt=\"Open In Colab\"/></a>"
      ]
    },
    {
      "cell_type": "markdown",
      "metadata": {
        "id": "YQldeUsbOyQT",
        "colab_type": "text"
      },
      "source": [
        "#**TAREA 1, RIESGO DE MERCADO**"
      ]
    },
    {
      "cell_type": "markdown",
      "metadata": {
        "id": "s_QVxhc3Ok6P",
        "colab_type": "text"
      },
      "source": [
        "#**Acciones y Divisas** "
      ]
    },
    {
      "cell_type": "code",
      "metadata": {
        "id": "L7kuYx9Uwb1v",
        "colab_type": "code",
        "outputId": "f1640599-ce57-41a1-cddb-d488a63b503e",
        "colab": {
          "base_uri": "https://localhost:8080/",
          "height": 175
        }
      },
      "source": [
        "%load_ext rpy2.ipython\n",
        "!rm -rf RiesgosFinancieros\n",
        "!git clone \"https://github.com/pikey-msc/RiesgosFinancieros/\""
      ],
      "execution_count": 0,
      "outputs": [
        {
          "output_type": "stream",
          "text": [
            "The rpy2.ipython extension is already loaded. To reload it, use:\n",
            "  %reload_ext rpy2.ipython\n",
            "Cloning into 'RiesgosFinancieros'...\n",
            "remote: Enumerating objects: 10, done.\u001b[K\n",
            "remote: Counting objects: 100% (10/10), done.\u001b[K\n",
            "remote: Compressing objects: 100% (10/10), done.\u001b[K\n",
            "remote: Total 321 (delta 4), reused 0 (delta 0), pack-reused 311\u001b[K\n",
            "Receiving objects: 100% (321/321), 1.47 MiB | 18.38 MiB/s, done.\n",
            "Resolving deltas: 100% (187/187), done.\n"
          ],
          "name": "stdout"
        }
      ]
    },
    {
      "cell_type": "code",
      "metadata": {
        "id": "NGeSSAsfwitY",
        "colab_type": "code",
        "outputId": "c302ede0-4ee4-4606-fd14-ff5b1b4740ed",
        "colab": {
          "base_uri": "https://localhost:8080/",
          "height": 1000
        }
      },
      "source": [
        "%%R\n",
        "#require(quantmod)\n",
        "install.packages(\"quantmod\")\n",
        "library(quantmod)\n",
        "#require(data.table)\n",
        "install.packages(\"data.table\")\n",
        "library(data.table)\n",
        "#require(\"PerformanceAnalytics\")\n",
        "install.packages(\"PerformanceAnalytics\")\n",
        "library(\"PerformanceAnalytics\")\n",
        "\n",
        "install.packages(\"Deriv\")\n",
        "library(Deriv)\n",
        "\n",
        "\n",
        "library(dplyr)\n",
        "con = gzcon(url('https://github.com/systematicinvestor/SIT/raw/master/sit.gz', 'rb'))\n",
        "source(con)\n",
        "close(con)"
      ],
      "execution_count": 0,
      "outputs": [
        {
          "output_type": "stream",
          "text": [
            "/usr/local/lib/python3.6/dist-packages/rpy2/rinterface/__init__.py:146: RRuntimeWarning: Installing package into ‘/usr/local/lib/R/site-library’\n",
            "(as ‘lib’ is unspecified)\n",
            "\n",
            "  warnings.warn(x, RRuntimeWarning)\n",
            "/usr/local/lib/python3.6/dist-packages/rpy2/rinterface/__init__.py:146: RRuntimeWarning: trying URL 'https://cran.rstudio.com/src/contrib/quantmod_0.4-16.tar.gz'\n",
            "\n",
            "  warnings.warn(x, RRuntimeWarning)\n",
            "/usr/local/lib/python3.6/dist-packages/rpy2/rinterface/__init__.py:146: RRuntimeWarning: Content type 'application/x-gzip'\n",
            "  warnings.warn(x, RRuntimeWarning)\n",
            "/usr/local/lib/python3.6/dist-packages/rpy2/rinterface/__init__.py:146: RRuntimeWarning:  length 152106 bytes (148 KB)\n",
            "\n",
            "  warnings.warn(x, RRuntimeWarning)\n",
            "/usr/local/lib/python3.6/dist-packages/rpy2/rinterface/__init__.py:146: RRuntimeWarning: =\n",
            "  warnings.warn(x, RRuntimeWarning)\n",
            "/usr/local/lib/python3.6/dist-packages/rpy2/rinterface/__init__.py:146: RRuntimeWarning: \n",
            "\n",
            "  warnings.warn(x, RRuntimeWarning)\n",
            "/usr/local/lib/python3.6/dist-packages/rpy2/rinterface/__init__.py:146: RRuntimeWarning: downloaded 148 KB\n",
            "\n",
            "\n",
            "  warnings.warn(x, RRuntimeWarning)\n",
            "/usr/local/lib/python3.6/dist-packages/rpy2/rinterface/__init__.py:146: RRuntimeWarning: \n",
            "  warnings.warn(x, RRuntimeWarning)\n",
            "/usr/local/lib/python3.6/dist-packages/rpy2/rinterface/__init__.py:146: RRuntimeWarning: The downloaded source packages are in\n",
            "\t‘/tmp/RtmpUdNDUK/downloaded_packages’\n",
            "  warnings.warn(x, RRuntimeWarning)\n",
            "/usr/local/lib/python3.6/dist-packages/rpy2/rinterface/__init__.py:146: RRuntimeWarning: trying URL 'https://cran.rstudio.com/src/contrib/data.table_1.12.8.tar.gz'\n",
            "\n",
            "  warnings.warn(x, RRuntimeWarning)\n",
            "/usr/local/lib/python3.6/dist-packages/rpy2/rinterface/__init__.py:146: RRuntimeWarning:  length 4948391 bytes (4.7 MB)\n",
            "\n",
            "  warnings.warn(x, RRuntimeWarning)\n",
            "/usr/local/lib/python3.6/dist-packages/rpy2/rinterface/__init__.py:146: RRuntimeWarning: downloaded 4.7 MB\n",
            "\n",
            "\n",
            "  warnings.warn(x, RRuntimeWarning)\n",
            "/usr/local/lib/python3.6/dist-packages/rpy2/rinterface/__init__.py:146: RRuntimeWarning: trying URL 'https://cran.rstudio.com/src/contrib/PerformanceAnalytics_2.0.4.tar.gz'\n",
            "\n",
            "  warnings.warn(x, RRuntimeWarning)\n",
            "/usr/local/lib/python3.6/dist-packages/rpy2/rinterface/__init__.py:146: RRuntimeWarning:  length 2455098 bytes (2.3 MB)\n",
            "\n",
            "  warnings.warn(x, RRuntimeWarning)\n",
            "/usr/local/lib/python3.6/dist-packages/rpy2/rinterface/__init__.py:146: RRuntimeWarning: downloaded 2.3 MB\n",
            "\n",
            "\n",
            "  warnings.warn(x, RRuntimeWarning)\n",
            "/usr/local/lib/python3.6/dist-packages/rpy2/rinterface/__init__.py:146: RRuntimeWarning: trying URL 'https://cran.rstudio.com/src/contrib/Deriv_4.0.tar.gz'\n",
            "\n",
            "  warnings.warn(x, RRuntimeWarning)\n",
            "/usr/local/lib/python3.6/dist-packages/rpy2/rinterface/__init__.py:146: RRuntimeWarning:  length 34866 bytes (34 KB)\n",
            "\n",
            "  warnings.warn(x, RRuntimeWarning)\n",
            "/usr/local/lib/python3.6/dist-packages/rpy2/rinterface/__init__.py:146: RRuntimeWarning: downloaded 34 KB\n",
            "\n",
            "\n",
            "  warnings.warn(x, RRuntimeWarning)\n"
          ],
          "name": "stderr"
        }
      ]
    },
    {
      "cell_type": "code",
      "metadata": {
        "id": "BgrVmcRZJSwa",
        "colab_type": "code",
        "colab": {}
      },
      "source": [
        "%%R\n",
        "#FUNCIÓN DE INTERPOLACIÓN ALAMBRADA\n",
        "\n",
        " #función de interpolación de tasas por el método alamabrada\n",
        "talamb<-function(nodos,curva,plazos){\n",
        "  n <-max(ncol(plazos),1)\n",
        "  m <-max(ncol(nodos),1)\n",
        "  TC=matrix(0,1,n)\n",
        "  TL=matrix(0,1,n)\n",
        "  TF=matrix(0,1,n)\n",
        "  for (j in 1:n)\n",
        "  {\n",
        "    i=1\n",
        "    repeat\n",
        "    {\n",
        "      if(nodos[i]<= plazos[j] && plazos[j] <=nodos[i+1])\n",
        "      {\n",
        "        TC[j]=curva[i]\n",
        "        TL[j]=curva[i+1]\n",
        "        TF[j]=((((1+TL[j]*nodos[i+1]/360)/(1+TC[j]*nodos[i]/360))^((plazos[j]-nodos[i])/(nodos[i+1]-nodos[i]))*(1+TC[j]*nodos[i]/360))-1)*360/plazos[j]\n",
        "        break\n",
        "      }\n",
        "      else if (plazos[j]<nodos[1])\n",
        "      {\n",
        "        TC[j]=curva[1]\n",
        "        TL[j]=curva[1]\n",
        "        TF[j]=curva[1]\n",
        "        break\n",
        "      }\n",
        "      else if (plazos[j]>nodos[m])\n",
        "      {\n",
        "        TC[j]=curva[m]\n",
        "        TL[j]=curva[m]\n",
        "        TF[j]=curva[m]\n",
        "        break\n",
        "      }\n",
        "      else\n",
        "      {i=i+1}\n",
        "    }\n",
        "  }\n",
        "  as.matrix(t(as.numeric(rbind(TF))))\n",
        "}\n",
        "\n",
        "\n",
        "#funciones necesarias\n",
        "diagv=function(x)\t\t\t#función para diagonalizar un vector\n",
        "{\n",
        "  n01=nrow(as.matrix(x))\n",
        "  m01=ncol(as.matrix(x))\n",
        "  dimmax=max(n01,m01)\n",
        "  res=matrix(0,dimmax,dimmax)\n",
        "  for (i in 1:dimmax)\n",
        "  {\n",
        "    res[i,i]=x[i]\n",
        "  }\n",
        "  res\n",
        "}\n",
        "\n",
        "#interpolación\n",
        "talamb=function(nodos,curva,plazos) #función de interpolación de tasas por el método alamabrada\n",
        "{\n",
        "  n=max(ncol(plazos),1)\n",
        "  m=max(ncol(nodos),1)\n",
        "  TC=matrix(0,1,n)\n",
        "  TL=matrix(0,1,n)\n",
        "  TF=matrix(0,1,n)\n",
        "  for (j in 1:n)\n",
        "  {\n",
        "    i=1\n",
        "    repeat\n",
        "    {\n",
        "      if(nodos[i]<= plazos[j] && plazos[j] <=nodos[i+1])\n",
        "      {\n",
        "        TC[j]=curva[i]\n",
        "        TL[j]=curva[i+1]\n",
        "        TF[j]=((((1+TL[j]*nodos[i+1]/360)/(1+TC[j]*nodos[i]/360))^((plazos[j]-nodos[i])/(nodos[i+1]-nodos[i]))*(1+TC[j]*nodos[i]/360))-1)*360/plazos[j]\n",
        "        break\n",
        "      }\n",
        "      else if (plazos[j]<nodos[1])\n",
        "      {\n",
        "        TC[j]=curva[1]\n",
        "        TL[j]=curva[1]\n",
        "        TF[j]=curva[1]\n",
        "        break\n",
        "      }\n",
        "      else if (plazos[j]>nodos[m])\n",
        "      {\n",
        "        TC[j]=curva[m]\n",
        "        TL[j]=curva[m]\n",
        "        TF[j]=curva[m]\n",
        "        break\n",
        "      }\n",
        "      else\n",
        "      {i=i+1}\n",
        "    }\n",
        "  }\n",
        "  as.matrix(t(as.numeric(rbind(TF))))\n",
        "}\n",
        "\n"
      ],
      "execution_count": 0,
      "outputs": []
    },
    {
      "cell_type": "markdown",
      "metadata": {
        "id": "uxbFNV1kMHU3",
        "colab_type": "text"
      },
      "source": [
        "##**Definición de parámetros:**\n",
        "### 1.a) 1000 acciones de GCarso, -5000 de America Móvil y 1200 WalMart. \n",
        "### 1.b) 1500 dólares (peso dólar), 700 euros, y -600 libras esterlinas."
      ]
    },
    {
      "cell_type": "code",
      "metadata": {
        "id": "jpV1xX_1w5dO",
        "colab_type": "code",
        "colab": {}
      },
      "source": [
        "%%R\n",
        "fval=as.Date(\"20200228\",format=\"%Y%m%d\") #Fecha de valoración\n",
        "itpl=0 #poner 0 si se quiere interpolación lineal o 1 si se quiere tasa alambrada\n",
        "alpha=0.98 #Nivel de confianza para obtener estimaciones de riesgo\n",
        "#setwd(direc)\t\n",
        "\n",
        "#ACCIONES Y DIVISAS\n",
        "#Cargar los símbolos de yahoo finance para EQ\n",
        "Symbols<-c  (\"AMXL.MX\",\"GCARSOA1.MX\", \"WMT.MX\" )#tienen que ir en orden alfabético\n",
        "pos_eq=c(-5000,1000,1200) #monto inicial invertido en acciones\n",
        "#Cargar los símbolos de yahoo finance para FX\n",
        "SymbolsFX<-c(\"EURUSD=X\",\"GBPUSD=X\",\"USDMXN=X\" ) #tienen que ir en orden alfabético\n",
        "pos_fx=c(700,-600,1500) #monto inicial invertido en divisas\n",
        "nh=3660 #días de historia"
      ],
      "execution_count": 0,
      "outputs": []
    },
    {
      "cell_type": "markdown",
      "metadata": {
        "id": "0dhsEWHcw8wR",
        "colab_type": "text"
      },
      "source": [
        "## **Carga de datos**"
      ]
    },
    {
      "cell_type": "code",
      "metadata": {
        "id": "SgcWBuJiw9jq",
        "colab_type": "code",
        "outputId": "6294591c-dc8e-4d7e-8953-f7e065b137b9",
        "colab": {
          "base_uri": "https://localhost:8080/",
          "height": 175
        }
      },
      "source": [
        "%%R\n",
        "#   CARGA DE DATOS DE ACCIONES\n",
        "pos=cbind(t(pos_fx),t(pos_eq)) #cuanto compré de cada activo\n",
        "start_date=Sys.Date()-nh #fecha inicial     [los valores de toman 3660 dias atrás de la fecha de la compu, o llegan hasta el 28 de feb???]\n",
        "#   Creación del objeto para guardar los datos\n",
        "dataEnv<-new.env()\n",
        "dataEnvFX<-new.env()\n",
        "#   obtener los datos\n",
        "getSymbols.yahoo(Symbols,env=dataEnv,from=start_date)\n",
        "getSymbols.yahoo(SymbolsFX,env=dataEnvFX,from=start_date)\n",
        "#   muestra\n",
        "#print(tail(dataEnvFX$`GBPUSD=X`))\n",
        "#   limpiarlos, alinearnos y quedarnos con el precio de cierre \n",
        "bt.prep(dataEnv,align='remove.na',fill.gaps = T)\n",
        "bt.prep(dataEnvFX,align='remove.na',fill.gaps=T)\n",
        "#   muestra de datos\n",
        "#print(tail(dataEnv$prices))\n",
        "#head(dataEnvFX$prices)\n",
        "#   Nos quedamos con los precios (ya los teníamos)\n",
        "stock_prices = dataEnv$prices #acciones\n",
        "#print(tail(stock_prices[,]))\n",
        "stock_pricesFX=dataEnvFX$prices #divisas\n",
        "#print(tail(stock_pricesFX))\n",
        "#   cambiar todo a pesos mexicanos\n",
        "stock_pricesFX=cbind(stock_pricesFX[,1,with=F]*stock_pricesFX[,3,with=F],stock_pricesFX[,2,with=F]*stock_pricesFX[,3,with=F],stock_pricesFX[,3,with=F])\n",
        "#print(tail(stock_pricesFX)) #divisas\n",
        "stock_prices_EQFX=merge(stock_pricesFX,stock_prices,join = \"inner\")\n",
        "#print(head(stock_prices_EQFX)) #divisas y acciones\n",
        "#print(tail(stock_prices_EQFX))\n",
        "#   Preciso actuales\n",
        "#Preciso actuales\n",
        "#x0=as.data.table(as.matrix(stock_prices_EQFX[nrow(stock_prices_EQFX),])) #valores actuales\n",
        "x0=stock_prices_EQFX[nrow(stock_prices_EQFX),]\n",
        "print(x0)\n",
        "print(tail(stock_prices_EQFX))"
      ],
      "execution_count": 0,
      "outputs": [
        {
          "output_type": "display_data",
          "data": {
            "text/plain": [
              "           EURUSD.X GBPUSD.X USDMXN.X AMXL.MX GCARSOA1.MX WMT.MX\n",
              "2020-03-18 25.29229 27.83204  22.9606   15.32       54.85   2863\n",
              "           EURUSD.X GBPUSD.X USDMXN.X AMXL.MX GCARSOA1.MX  WMT.MX\n",
              "2020-03-10 23.72166 27.21260  20.8122   15.07       55.08 2434.00\n",
              "2020-03-11 23.52635 26.83853  20.7894   15.33       51.77 2428.00\n",
              "2020-03-12 24.11835 27.45225  21.4166   14.11       48.98 2277.77\n",
              "2020-03-13 24.57016 27.61330  21.9672   14.70       49.80 2380.00\n",
              "2020-03-17 25.22997 27.72381  22.6010   15.26       55.87 2736.00\n",
              "2020-03-18 25.29229 27.83204  22.9606   15.32       54.85 2863.00\n"
            ]
          },
          "metadata": {
            "tags": []
          }
        }
      ]
    },
    {
      "cell_type": "markdown",
      "metadata": {
        "id": "HTaB3tM8x-xx",
        "colab_type": "text"
      },
      "source": [
        "Paso 1: generación de rendimientos"
      ]
    },
    {
      "cell_type": "code",
      "metadata": {
        "id": "WzINmJ6Uw-Mc",
        "colab_type": "code",
        "outputId": "233510b6-5b62-49b4-bcf8-b23c29a82bc8",
        "colab": {
          "base_uri": "https://localhost:8080/",
          "height": 263
        }
      },
      "source": [
        "%%R\n",
        "stock_returns = Return.calculate(stock_prices_EQFX, method = c(\"continuous\"))\n",
        "#head(stock_returns[,1:3])\n",
        "#print(head(stock_returns))\n",
        "\n",
        "#CONFIRMACIÓN\n",
        "DeltaX=as.matrix(log(as.matrix(stock_prices_EQFX[2:nrow(stock_prices_EQFX)])/as.data.table(as.matrix(stock_prices_EQFX[1:(nrow(stock_prices_EQFX)-1)]))))\n",
        "#tail(DeltaX)\n",
        "head(DeltaX)"
      ],
      "execution_count": 0,
      "outputs": [
        {
          "output_type": "display_data",
          "data": {
            "text/plain": [
              "         EURUSD.X      GBPUSD.X      USDMXN.X      AMXL.MX  GCARSOA1.MX\n",
              "[1,] -0.000250565  0.0012022077 -0.0001677725 0.0142315822 -0.003681814\n",
              "[2,] -0.007316494  0.0001987766 -0.0051025219 0.0065509569  0.005413929\n",
              "[3,] -0.004152015  0.0007394573  0.0049427124 0.0065083211 -0.001515436\n",
              "[4,] -0.001893598 -0.0117933451  0.0037806324 0.0006485085  0.011181166\n",
              "[5,] -0.001254463  0.0025025602 -0.0034770161 0.0032362488  0.025329220\n",
              "[6,] -0.009878459 -0.0083061818 -0.0025516442 0.0051563118  0.022054804\n",
              "           WMT.MX\n",
              "[1,]  0.037844148\n",
              "[2,]  0.000000000\n",
              "[3,]  0.000000000\n",
              "[4,] -0.011641775\n",
              "[5,]  0.000000000\n",
              "[6,]  0.002869442\n"
            ]
          },
          "metadata": {
            "tags": []
          }
        }
      ]
    },
    {
      "cell_type": "markdown",
      "metadata": {
        "id": "u3J_qMzs1WOL",
        "colab_type": "text"
      },
      "source": [
        "Gráfica"
      ]
    },
    {
      "cell_type": "code",
      "metadata": {
        "id": "a3s35QGf0Tx2",
        "colab_type": "code",
        "outputId": "106e871e-3749-4bf1-92a2-54a01bfeae8b",
        "colab": {
          "base_uri": "https://localhost:8080/",
          "height": 497
        }
      },
      "source": [
        "%%R\n",
        "charts.PerformanceSummary(stock_returns,main='Stock Absolute Performance',legend.loc=\"bottomright\")"
      ],
      "execution_count": 0,
      "outputs": [
        {
          "output_type": "display_data",
          "data": {
            "image/png": "[encoded data removed]"
          },
          "metadata": {
            "tags": []
          }
        }
      ]
    },
    {
      "cell_type": "code",
      "metadata": {
        "id": "61_qnStg1Y-s",
        "colab_type": "code",
        "outputId": "bfbe0aa4-3245-4dd9-f518-2d2fa36c3735",
        "colab": {
          "base_uri": "https://localhost:8080/",
          "height": 34
        }
      },
      "source": [
        "%%R\n",
        "n=nrow(DeltaX)\n",
        "n\n",
        "m=ncol(DeltaX)\n",
        "m\n",
        "\n",
        "\n",
        "V0=x0*pos #Valor del portafolio\n",
        "#print(V0)\n",
        "VT=sum(V0)\n",
        "#print(sum(V0))\n",
        "#Cálculo de Distribución de Pérdidas y Ganancias\n",
        "X_ast<-matrix(0,n,m) #matriz de simulacion de precios\n",
        "Y_ast<-matrix(0,n,m) #matriz de simulacion de instrumentos financieros\n",
        "PL<-matrix(0,n,m) \n",
        "PLTdCAcc<-matrix(0,n,2) #POR FACTOR DE RIESGO\n",
        "PLT=matrix(0,n,1) #TOTAL\n",
        "for (i in (1:n))\n",
        "{\n",
        "  X_ast[i,]=x0*exp(DeltaX[i,]) #Simulación del precio\n",
        "  Y_ast[i,]=X_ast[i,]*pos\n",
        "  PL[i,]=Y_ast[i,]-V0  #Pérdidas y ganancias por posición\n",
        "  PLTdCAcc[i,]=c(sum(PL[i,1:(len(pos_fx))]),sum(PL[i,(len(pos_fx)+1):(len(pos_eq)+len(pos_fx))])) #Pérdidas y ganancias por factor de riesgo\n",
        "  PLT[i]=sum(PL[i,]) #Pérdidas y ganancias totales\n",
        "}\n",
        "#print(PL[1:10,])\n",
        "#print(PLTdCAcc[1:10,])\n",
        "#print(PLT[1:10,])\n",
        "#print(PLT[1:10,])\n",
        "print(class(V0))"
      ],
      "execution_count": 0,
      "outputs": [
        {
          "output_type": "display_data",
          "data": {
            "text/plain": [
              "[1] \"xts\" \"zoo\"\n"
            ]
          },
          "metadata": {
            "tags": []
          }
        }
      ]
    },
    {
      "cell_type": "markdown",
      "metadata": {
        "id": "dyura2db3Y78",
        "colab_type": "text"
      },
      "source": [
        "##**VaR por posición sin alisado.**"
      ]
    },
    {
      "cell_type": "code",
      "metadata": {
        "id": "OgScIGrWE7CA",
        "colab_type": "code",
        "outputId": "be30f61f-42ff-45e8-9b48-089cdab595d9",
        "colab": {
          "base_uri": "https://localhost:8080/",
          "height": 157
        }
      },
      "source": [
        "%%R\n",
        "#VaR por posición sin alisado\n",
        "VaRCont=matrix(0,1,m)\n",
        "CVaRCont=matrix(0,1,m)\n",
        "alpha=0.95\n",
        "\n",
        "\n",
        "for (i in (1:m))\n",
        "{\n",
        "VaRCont[i]=quantile(PL[,i],1-alpha,n)\n",
        "CVaRCont[i]= mean(PL[which(PL[,i]<VaRCont[i]),i])\n",
        "}\n",
        "\n",
        "#Resumen medidas de riesgo por posición\n",
        "VaRCont=as.data.table(VaRCont)\n",
        "CVaRCont=as.data.table(CVaRCont)\n",
        "\n",
        "#valores absolutos con respecto al portafolio sin alisado\n",
        "names(VaRCont)=names(x0)\n",
        "names(CVaRCont)=names(x0)\n",
        "#print('valores absolutos con respecto al portafolio sin alisado')\n",
        "#print(\"VaR\")\n",
        "#print(VaRCont/abs(as.matrix(V0)))\n",
        "#print('CVaR')\n",
        "#print(CVaRCont/abs(as.matrix(V0)))\n",
        "\n",
        "\n",
        "#medias de riesgo por factor de riesgo acciones y divisas\n",
        "\n",
        "VaRfr=matrix(0,1,2)\n",
        "CVaRfr=matrix(0,1,2)\n",
        "\n",
        "for (i in (1:2))\n",
        "{\n",
        "  VaRfr[i]=quantile(PLTdCAcc[,i],1-alpha,n)\n",
        "  CVaRfr[i]= mean(PLTdCAcc[which(PLTdCAcc[,i]<VaRfr[i]),i])\n",
        "}\n",
        "\n",
        "\n",
        "\n",
        "VaRfr=as.data.table(VaRfr)\n",
        "CVaRfr=as.data.table(CVaRfr)\n",
        "#print('')\n",
        "#print('medias de riesgo por factor de riesgo acciones y divisas')\n",
        "print(VaRfr)\n",
        "print(CVaRfr)\n",
        "\n",
        "names(VaRfr)=c(\"divisas\", \"acciones\")\n",
        "names(CVaRfr)=c(\"divisas\", \"acciones\")\n",
        "#VALORES ABSOLUTOS\n",
        "VaRfr/c(abs(as.matrix(sum(V0[,1:(len(pos_fx)+1)]))),abs(as.matrix(sum(V0[,(len(pos_fx)+1):(len(pos_eq)+len(pos_fx))]))))\n",
        "CVaRfr/c(abs(as.matrix(sum(V0[,1:(len(pos_fx)+1)]))),abs(as.matrix(sum(V0[,(len(pos_fx)+1):(len(pos_eq)+len(pos_fx))]))))\n",
        "\n",
        "\n",
        "#hist(as.matrix(PL[,3]))\n",
        "#hist(as.matrix(PL[,2]))\n",
        "\n",
        "\n",
        "#VaR Total\n",
        "VaRTotal=quantile(PLT,1-alpha,n)\n",
        "CVaRTotal= mean(PLT[which(PLT<VaRTotal),])\n",
        "\n",
        "#VALOR ABSOLUTOS\n",
        "#print('VaR Total')\n",
        "#print(VaRTotal)\n",
        "#print(VaRTotal/sum(V0))\n",
        "#print('CVaR Total')\n",
        "#print(CVaRTotal)\n",
        "#print(CVaRTotal/sum(V0))\n",
        "print(VaRCont)\n",
        "print(CVaRCont)"
      ],
      "execution_count": 0,
      "outputs": [
        {
          "output_type": "display_data",
          "data": {
            "text/plain": [
              "          V1        V2\n",
              "1: -418.6353 -74117.65\n",
              "          V1      V2\n",
              "1: -586.3544 -214713\n",
              "    EURUSD.X  GBPUSD.X  USDMXN.X   AMXL.MX GCARSOA1.MX    WMT.MX\n",
              "1: -258.4515 -235.0441 -382.3951 -1805.043   -1672.527 -73597.78\n",
              "   EURUSD.X  GBPUSD.X  USDMXN.X   AMXL.MX GCARSOA1.MX    WMT.MX\n",
              "1: -348.861 -339.1339 -536.6855 -2545.851   -2399.763 -214786.7\n"
            ]
          },
          "metadata": {
            "tags": []
          }
        }
      ]
    },
    {
      "cell_type": "markdown",
      "metadata": {
        "id": "DiPxesELs8GT",
        "colab_type": "text"
      },
      "source": [
        "Observamos que para V2 (acciones) tenemos un CVaR que casi triplica el VaR, con eso podemos decir que tenemos una cola pesada, i.e. datos que superan por mucho el valor en riego, en cambio para V1 (divisas) el CVaR no aumenta mucho comparado con el VaR y es natural pues en los datos históricos se encuentran pocos (comparados con los que se tomaron) datos que muestren un escenario de tensión.\n"
      ]
    },
    {
      "cell_type": "markdown",
      "metadata": {
        "id": "mqPEFE-X6yDp",
        "colab_type": "text"
      },
      "source": [
        "##**VaR por posición con alisado**"
      ]
    },
    {
      "cell_type": "code",
      "metadata": {
        "id": "D2FJ027UNFIB",
        "colab_type": "code",
        "cellView": "code",
        "colab": {}
      },
      "source": [
        "%%R\n",
        "#Medidas de riesgo CON alisado\n",
        "\n",
        "#Se necesita definir\n",
        "#1) El valor del peso inicial del primer escenario \"w0\"\n",
        "#2) La función de cuantil con vector de probabilidades no iguales\n",
        "#3) La función de CVaR con probabilidades no iguales\n",
        "\n",
        "#w0=0.05\n",
        "\n",
        "#Creación de dos funciones que sirven para este fin\n",
        "# Percentil con pesos de probabilidades\n",
        "# \n",
        "# v  un vector de observaciones\n",
        "# w Un vector numérico de valores positivos, en general es la distrubición.\n",
        "# p  el valor de la probabilidad entre 0 y 1.\n",
        "# \n",
        "# Esta función no interpola\n",
        "\n",
        "w0<-0.05\n",
        "\n",
        "wquantile <- function(v,w=rep(1,length(v)),p=.5) \n",
        "{ \n",
        "  if ( !is.numeric(w) || length(v) != length(w) ) \n",
        "    stop(\"Los valores y los pesos tienen que tener misma longitud\") \n",
        "  if ( !is.numeric(p) || any( p<0 | p>1) ) \n",
        "    stop(\"Percentil tiene que ser 0<=p<=1\") \n",
        "  if ( min(w) < 0 ) stop(\"Los pesos tiene que ser mayores que 0\") \n",
        "  ranking <- order(v) \n",
        "  sumw <- cumsum(w[ranking]) \n",
        "  plist <- sumw / sumw[ length(sumw) ] \n",
        "  v [ ranking [ which.max( plist >= p ) ] ]  \n",
        "} \n",
        "\n",
        "#CVaR con alisado\n",
        "wcvar <- function(v,w=rep(1,length(v)),p=.5) \n",
        "{ \n",
        "  if ( !is.numeric(w) || length(v) != length(w) ) \n",
        "    stop(\"Los valores y los pesos tienen que tener misma longitud\") \n",
        "  if ( !is.numeric(p) || any( p<0 | p>1) ) \n",
        "    stop(\"Percentil tiene que ser 0<=p<=1\") \n",
        "  if ( min(w) < 0 ) stop(\"Los pesos tiene que ser mayores que 0\") \n",
        "  ranking <- order(v) \n",
        "  sumw <- cumsum(w[ranking]) \n",
        "  plist <- sumw / sumw[ length(sumw) ] \n",
        "  loss= v [ ranking [ which( plist < p ) ] ]  \n",
        "  esc=w [ ranking [ which( plist < p ) ] ]  \n",
        "  sum(loss*esc)/(sum(esc))\n",
        "} \n",
        "\n",
        "\n",
        "#esc_cvar=which(cumsum(p_esc[order(PLT[,1])])<pdca)\n",
        "\n",
        "\n",
        "#p_esc[esc_cvar]\n",
        "\n",
        "#tshs=cbind(PLT,p_esc)\n"
      ],
      "execution_count": 0,
      "outputs": []
    },
    {
      "cell_type": "code",
      "metadata": {
        "id": "lmONF8QZ7YI0",
        "colab_type": "code",
        "outputId": "6be420f6-a98b-470c-d5ef-ceb11623027d",
        "colab": {
          "base_uri": "https://localhost:8080/",
          "height": 140
        }
      },
      "source": [
        "%%R\n",
        "lambda =uniroot(function(x) w0*(1-x^(n))/(1-x)-1, c(0,0.99), tol = 1e-28)$root\n",
        "lambda\n",
        "\n",
        "#generamos la función que genera \"n\" escenarios con base en w0 y lambda\n",
        "genera_esc=function(lamda,w0,n)\n",
        "{\n",
        "  p_esc=matrix(0,n,1)\n",
        "  for (i in (1:n))\n",
        "  {\n",
        "    p_esc[i]=w0*lambda^(i-1)\n",
        "  }\n",
        "  p_esc\n",
        "}\n",
        "\n",
        "p_esc=genera_esc(lambda,w0,n)\n",
        "t(p_esc[1:10])\n",
        "sum(p_esc) #validamos que sume 1\n",
        "\n",
        "#Creamos las cajas de VaR y CVaR con alisado\n",
        "VaRca=matrix(0,1,ncol(PL))\n",
        "CVaRca=matrix(0,1,ncol(PL))\n",
        "\n",
        "#IMPORTANTE: VALIDAR QUE SE TENGA EL MISMO ORDEN DE ESCENARIOS, ES POR ESO QUE METEMOS P_ESC[ORDER(P_ESC)]\n",
        "for (j in (1:m))\n",
        "{\n",
        "  VaRca[j]=wquantile(as.matrix(PL[,j]), p_esc[order(p_esc)], 1-alpha)\n",
        "  CVaRca[j]=wcvar(as.matrix(PL[,j]), as.matrix(p_esc[order(p_esc)]), 1-alpha)\n",
        "}\n",
        "\n",
        "#Resumen medidas de riesgo por posición\n",
        "VaRca=as.data.table(VaRca)\n",
        "CVaRca=as.data.table(CVaRca)\n",
        "\n",
        "#valores absolutos con respecto al portafolio sin alisado\n",
        "names(VaRca)=names(x0)\n",
        "names(CVaRca)=names(x0)\n",
        "VaRca/abs(as.matrix(V0))\n",
        "CVaRca/abs(as.matrix(V0))\n",
        "\n",
        "\n",
        "#medias de riesgo por factor de riesgo acciones y divisas\n",
        "\n",
        "VaRfrca=matrix(0,1,2)\n",
        "CVaRfrca=matrix(0,1,2)\n",
        "\n",
        "\n",
        "for (j in (1:2))\n",
        "{\n",
        "  VaRfrca[j]=wquantile(as.matrix(PLTdCAcc[,j]), p_esc[order(p_esc)], 1-alpha)\n",
        "  CVaRfrca[j]= wcvar(as.matrix(PLTdCAcc[,j]), as.matrix(p_esc[order(p_esc)]), 1-alpha)\n",
        "}\n",
        "\n",
        "\n",
        "\n",
        "VaRfrca=as.data.table(VaRfrca)\n",
        "CVaRfrca=as.data.table(CVaRfrca)\n",
        "\n",
        "names(VaRfrca)=c(\"divisas\", \"acciones\")\n",
        "names(CVaRfrca)=c(\"divisas\", \"acciones\")\n",
        "#VALORES ABSOLUTOS\n",
        "VaRfrca/c(abs(as.matrix(sum(V0[,1:(len(pos_fx)+1)]))),abs(as.matrix(sum(V0[,(len(pos_fx)+1):(len(pos_eq)+len(pos_fx))]))))\n",
        "CVaRfrca/c(abs(as.matrix(sum(V0[,1:(len(pos_fx)+1)]))),abs(as.matrix(sum(V0[,(len(pos_fx)+1):(len(pos_eq)+len(pos_fx))]))))\n",
        "\n",
        "\n",
        "VaRcaT=wquantile(as.matrix(PLT), p_esc[order(p_esc)], 1-alpha)\n",
        "CVaRcaT=wcvar(as.matrix(PLT), p_esc[order(p_esc)], 1-alpha)\n",
        "\n",
        "\n",
        "V0\n",
        "VaRCont/abs(as.matrix(V0))\n",
        "VaRca/abs(as.matrix(V0))\n",
        "CVaRCont/abs(as.matrix(V0))\n",
        "CVaRca/abs(as.matrix(V0))\n",
        "\n",
        "\n",
        "c(sum(V0[,1:3]),sum(V0[,4:5]))\n",
        "VaRfr/c(abs(as.matrix(sum(V0[,1:3]))),abs(as.matrix(sum(V0[,4:5]))))\n",
        "VaRfrca/c(abs(as.matrix(sum(V0[,1:3]))),abs(as.matrix(sum(V0[,4:5]))))\n",
        "CVaRfr/c(abs(as.matrix(sum(V0[,1:3]))),abs(as.matrix(sum(V0[,4:5]))))\n",
        "CVaRfrca/c(abs(as.matrix(sum(V0[,1:3]))),abs(as.matrix(sum(V0[,4:5]))))\n",
        "\n",
        "\n",
        "sum(V0)\n",
        "print('VaR')\n",
        "print(VaRTotal/abs(sum(V0)))\n",
        "print(VaRcaT/abs(sum(V0)))\n",
        "print('CVaR')\n",
        "print(CVaRTotal/abs(sum(V0)))\n",
        "print(CVaRcaT/abs(sum(V0)))"
      ],
      "execution_count": 0,
      "outputs": [
        {
          "output_type": "display_data",
          "data": {
            "text/plain": [
              "[1] \"VaR\"\n",
              "         5% \n",
              "-0.02142841 \n",
              "[1] -0.0357848\n",
              "[1] \"CVaR\"\n",
              "[1] -0.06226436\n",
              "[1] -0.06039824\n"
            ]
          },
          "metadata": {
            "tags": []
          }
        }
      ]
    },
    {
      "cell_type": "markdown",
      "metadata": {
        "id": "ydhhMA-H4klR",
        "colab_type": "text"
      },
      "source": [
        "Observamos que aunque hay una gran diferencia en proporción con el VaR sin alisado, la distancia entre VaR y CVaR puede considerarse grande pero noo tanto como en el caso anterior, pero aun así el valor casi se duplica."
      ]
    },
    {
      "cell_type": "markdown",
      "metadata": {
        "id": "PpYdaarz3RA2",
        "colab_type": "text"
      },
      "source": [
        "# **Bonos**"
      ]
    },
    {
      "cell_type": "code",
      "metadata": {
        "id": "rAfq7pI7buTI",
        "colab_type": "code",
        "outputId": "3a1daed9-a10a-4109-dfda-ec14bd2bd83c",
        "colab": {
          "base_uri": "https://localhost:8080/",
          "height": 175
        }
      },
      "source": [
        "%load_ext rpy2.ipython\n",
        "!rm -rf RiesgosFinancieros\n",
        "!git clone \"https://github.com/pikey-msc/RiesgosFinancieros/\"\n"
      ],
      "execution_count": 0,
      "outputs": [
        {
          "output_type": "stream",
          "text": [
            "The rpy2.ipython extension is already loaded. To reload it, use:\n",
            "  %reload_ext rpy2.ipython\n",
            "Cloning into 'RiesgosFinancieros'...\n",
            "remote: Enumerating objects: 10, done.\u001b[K\n",
            "remote: Counting objects: 100% (10/10), done.\u001b[K\n",
            "remote: Compressing objects: 100% (10/10), done.\u001b[K\n",
            "remote: Total 321 (delta 4), reused 0 (delta 0), pack-reused 311\u001b[K\n",
            "Receiving objects: 100% (321/321), 1.47 MiB | 18.16 MiB/s, done.\n",
            "Resolving deltas: 100% (187/187), done.\n"
          ],
          "name": "stdout"
        }
      ]
    },
    {
      "cell_type": "markdown",
      "metadata": {
        "id": "hdBgOc9db2vM",
        "colab_type": "text"
      },
      "source": [
        "# Definición de parámetros para valorar:\n",
        "BONOS CETE\n",
        "BONOS M\n",
        "BONDES D"
      ]
    },
    {
      "cell_type": "markdown",
      "metadata": {
        "id": "bZvhy8zdccGi",
        "colab_type": "text"
      },
      "source": [
        "Cargamos parámetros para valoración:"
      ]
    },
    {
      "cell_type": "code",
      "metadata": {
        "id": "9xQDSuPQRWMH",
        "colab_type": "code",
        "colab": {}
      },
      "source": [
        "%%R\n",
        "fval=as.Date(\"20200228\",format=\"%Y%m%d\") #Fecha de valoración\n",
        "itpl=0 #poner 0 si se quiere interpolación lineal o 1 si se quiere tasa alambrada\n",
        "alpha=0.98 #Nivel de confianza para obtener estimaciones de riesgo\n",
        "#setwd(direc)\t\n",
        "\n",
        "\n",
        "#CETES\n",
        "base=\"RiesgosFinancieros/2020-2/Insumos/tasa_guber.txt\"\n",
        "plazos_bcc=cbind( 180)\n",
        "contratos_bcc=cbind(-1500)\n",
        "nominal_bcc=10 #CETE\n",
        "\n",
        "#BONOS M\n",
        "btasadesc_bm=\"RiesgosFinancieros/2020-2/Insumos/tasa_yield.txt\"\n",
        "tfcupon_bm=cbind( 0.065) #Tasafija del cupón\n",
        "plazos_bm=cbind( 3600) #Vencimiento del bono\n",
        "plazocupon_bm=cbind( 182) #plazos_bm fijos de cada cupón\n",
        "contratos_bm=cbind(-10000) #posición invertida\n",
        "nominal_bm=100\n",
        "\n",
        "#BONDES D\n",
        "btasadescst=\"RiesgosFinancieros/2020-2/Insumos/tasa_guber_st.txt\"\n",
        "btasafondeo=\"RiesgosFinancieros/2020-2/Insumos/tfondeo.txt\"\n",
        "plazos_bdm=cbind( 707) #Vencimiento del bono\n",
        "plazocupon_bdm=cbind( 28) #plazos_bdm fijos de cada cupón\n",
        "contratos_bdm=cbind(10000) #posición invertida\n",
        "nominal_bdm=100\n",
        "\n",
        "\n",
        "\n"
      ],
      "execution_count": 0,
      "outputs": []
    },
    {
      "cell_type": "markdown",
      "metadata": {
        "id": "wYq9vgjOcix0",
        "colab_type": "text"
      },
      "source": [
        "# Carga de datos"
      ]
    },
    {
      "cell_type": "code",
      "metadata": {
        "id": "zP3dhNYMRWMP",
        "colab_type": "code",
        "colab": {}
      },
      "source": [
        "%%R\n",
        "#LEER DATOS DE CETES #CARGA DE DATOS DE BONO CUPÓN CERO\n",
        "data<-read.table(base)\n",
        "n<-nrow(data)\n",
        "m_gov=ncol(data)\n",
        "#x_orig_gov=data.frame(data[2:n,1:m_gov])\n",
        "x_orig_gov=data.table(mutate(data[2:n,1:m_gov],Date=as.Date(V1,format=\"%Y%m%d\")))\n",
        "x_orig_gov=x_orig_gov%>%select(-V1)\n",
        "nodos_gov=data.frame(data[1,2:m_gov])\n",
        "\n",
        "#LEER DATOS DE BONOS M\n",
        "#carga de datos\n",
        "#carga de tasas de descuento\n",
        "data1<-read.table(btasadesc_bm)\n",
        "n<-nrow(data1)\n",
        "m_tybm=ncol(data1)\n",
        "X_orig_tybm=as.data.table(mutate(data1[2:n,1:m_tybm],Date=as.Date(V1,format=\"%Y%m%d\")))\n",
        "X_orig_tybm=X_orig_tybm%>%select(-V1)\n",
        "nodos_tybm=data.frame(data1[1,2:m_tybm])\n",
        "\n",
        "\n",
        "##CARGA DE DATOS DE BONDE D\n",
        "#carga de datos\n",
        "#carga de tasas de descuento\n",
        "data1<-read.table(base)\n",
        "n<-nrow(data1)\n",
        "m_bd=ncol(data1)\n",
        "##X_orig_bd=as.data.table(mutate(data1[2:n,1:m_tybm],Date=as.Date(V1,format=\"%Y%m%d\")))\n",
        "#X_orig_bd%>%select(-V1)\n",
        "\n",
        "X1_orig=mutate(data.frame(data1[2:n,1:m_bd]), V1=as.Date(V1,format=\"%Y%m%d\"))\n",
        "#nodos=data.frame(data1[1,2:m_bd])\n",
        "n=n-1\n",
        "\n",
        "data3<-read.table(btasadescst)\n",
        "n3<-nrow(data3)\n",
        "m3_bd=ncol(data3)\n",
        "X3_orig_bd=as.data.table(mutate(data3[2:n,1:m3_bd],Date=as.Date(V1,format=\"%Y%m%d\")))\n",
        "X3_orig_bd=X3_orig_bd%>%select(-V1)\n",
        "\n",
        "X3a_orig=mutate(data.frame(data1[2:n,1:m_bd]), V1=as.Date(V1,format=\"%Y%m%d\"))\n",
        "nodos3_bd=data.frame(data3[1,2:m3_bd])\n",
        "n3=n3-1\n",
        "\n",
        "data2<-read.table(btasafondeo)\n",
        "n2<-nrow(data2)\n",
        "X2_orig_bd=data.frame(data2[2:n2,1:2])\n",
        "X2_orig_bd=mutate(X2_orig_bd, V1=as.Date(V1,format=\"%Y%m%d\"), Date=as.Date(V1,format=\"%Y%m%d\"), V2=as.numeric(as.character(V2)))\n",
        "tfh=seq(min(X2_orig_bd$V1), max(X2_orig_bd$V1), \"days\") #sucesión de dias para tasa fondeo\n",
        "tfhd=data.frame(ID=1:count(tfh),fecha=tfh)\n",
        "\n",
        "#Cruzar la sucesión de todos los días versus el de tasa de fondeo\n",
        "tfhd=setDT(tfhd)[, Date := tfh][order(-Date)]\n",
        "X2_orig_bd=setDT(X2_orig_bd)[, Date := V1][order(-Date)]\n",
        "# rolling join unión por rolling, rellena las fechas que faltaban con el último valor conocido \"roll=Inf\"\n",
        "X2_orig_bd=X2_orig_bd[tfhd, on = .(Date), roll = Inf] \n",
        "#buscar fecha de valuación en tfondeo\n",
        "tf_act=X2_orig_bd[fecha==fval,]$V2/100\n",
        "tf_int=X2_orig_bd[fecha<=fval & fecha>=(fval-plazocupon_bdm[1])]$V2/100\n",
        "\n",
        "X1_orig=setDT(X1_orig)[, Date:= V1][order(-Date)] #Para alinear con valor presente y tasa de fondeo.\n"
      ],
      "execution_count": 0,
      "outputs": []
    },
    {
      "cell_type": "markdown",
      "metadata": {
        "id": "re1W63Xxcqk6",
        "colab_type": "text"
      },
      "source": [
        "# Integración de Insumos"
      ]
    },
    {
      "cell_type": "markdown",
      "metadata": {
        "id": "dFkiz2PAcuD7",
        "colab_type": "text"
      },
      "source": [
        "Aseguramiento de que todos los factores de riesgo estén alineados en sus fechas, nos quedamos con la intersección. Posteriormente, filtramos cada histórico factor de riesgo hacia esta intersección de todos."
      ]
    },
    {
      "cell_type": "code",
      "metadata": {
        "colab_type": "code",
        "outputId": "9bf02f91-1bf3-495a-ba02-b6cf1776dc9c",
        "id": "GQbzH4XRmJUN",
        "colab": {
          "base_uri": "https://localhost:8080/",
          "height": 228
        }
      },
      "source": [
        "%%R\n",
        "#INTERSECCIÓN DE FECHAS DE TODOS LOS INSUMOS    \n",
        "  \n",
        "#head(x_orig_gov)  \n",
        "lin_gub=data.table(Date=as.Date(X_orig_tybm[x_orig_gov,on=.(Date),nomatch=0]$Date)) #yield y guber\n",
        "lin_gub_bmy=data.table(Date=as.Date(lin_gub[X3_orig_bd,on=.(Date),nomatch=0]$Date)) #guber y bonos M con,st (bonde)\n",
        "print(lin_gub_bmy)\n",
        "#print(lin_gub)"
      ],
      "execution_count": 0,
      "outputs": [
        {
          "output_type": "display_data",
          "data": {
            "text/plain": [
              "           Date\n",
              "  1: 2020-03-06\n",
              "  2: 2020-03-05\n",
              "  3: 2020-03-04\n",
              "  4: 2020-03-03\n",
              "  5: 2020-03-02\n",
              " ---           \n",
              "268: 2019-03-20\n",
              "269: 2019-03-19\n",
              "270: 2019-03-18\n",
              "271: 2019-03-17\n",
              "272: 2019-03-14\n"
            ]
          },
          "metadata": {
            "tags": []
          }
        }
      ]
    },
    {
      "cell_type": "code",
      "metadata": {
        "id": "kMNQXZpl0x7Y",
        "colab_type": "code",
        "colab": {}
      },
      "source": [
        "%%R\n",
        "n=nrow(lin_gub_bmy) #Historia de todos\n",
        "\n",
        "\n",
        "#historia de curva gubernamental\n",
        "x_orig_gov=lin_gub_bmy[x_orig_gov,on=.(Date),nomatch=0][order(-Date)]\n",
        "x_orig_gov=x_orig_gov%>%select(-Date)\n",
        "\n",
        "#historia de curva yield\n",
        "X_orig_tybm=lin_gub_bmy[X_orig_tybm,on=.(Date),nomatch=0][order(-Date)]\n",
        "X_orig_tybm=X_orig_tybm%>%select(-Date)\n",
        "\n",
        "\n",
        "#Historia de curvas de bonde\n",
        "#CONSIDERAR LA CURVA GUBERNAMENTAL X1_ORIG_GOV\n",
        "X3_orig_bd=lin_gub_bmy[X3_orig_bd,on=.(Date),nomatch=0][order(-Date)]\n",
        "X3_orig_bd=X3_orig_bd%>%select(-Date)\n",
        "\n",
        "#print(x_orig_gov)\n"
      ],
      "execution_count": 0,
      "outputs": []
    },
    {
      "cell_type": "markdown",
      "metadata": {
        "id": "-jBoCn2Wcykt",
        "colab_type": "text"
      },
      "source": [
        "# Pasos para medir el riesgo por el método de Simulación Histórica"
      ]
    },
    {
      "cell_type": "markdown",
      "metadata": {
        "id": "Bz4Qmyb-cz5p",
        "colab_type": "text"
      },
      "source": [
        "Para todos los instrumentos hay que definir y calcular los siguientes elementos:\\\n",
        "1.Historico de factores de riesgo\\\n",
        "2.Vector de precios actual\\\n",
        "3.Valoración al día actual"
      ]
    },
    {
      "cell_type": "markdown",
      "metadata": {
        "id": "wAQ_eiVhv2Wv",
        "colab_type": "text"
      },
      "source": [
        "##BONO M \n",
        "\n"
      ]
    },
    {
      "cell_type": "code",
      "metadata": {
        "id": "EFy_Mrcqv7-J",
        "colab_type": "code",
        "outputId": "d266d242-c713-494e-92d0-402da926f5b1",
        "colab": {
          "base_uri": "https://localhost:8080/",
          "height": 52
        }
      },
      "source": [
        "%%R\n",
        "#BONO M  CÁLCULO\n",
        "#Posición inicial\n",
        "#interpolación de tasas y volatilidades\n",
        "m=ncol(plazos_bm)\n",
        "X_bm=matrix(0,n,m)\n",
        "for (i in 1:(n))\n",
        "{\n",
        "  X_bm[i,]=if(itpl==0){approx(nodos_tybm,X_orig_tybm[i,],plazos_bm,rule=2)$y}else{talamb(nodos_tybm,X_orig_tybm[i,],plazos_bm)}\n",
        "}\n",
        "\n",
        "\n",
        "\n",
        "#Función de valoración por tasa yield\n",
        "bonoMyield=function(x, plazos_bm, plazocupon_bm, tfcupon_bm, nominal_bm, contratos_bm) #valoración bono tasa fija\n",
        "{\n",
        "  N=as.integer(plazos_bm/plazocupon_bm)+1   \n",
        "  a=(1-(1+x*plazocupon_bm/360)^(-N))/(plazocupon_bm*x/360)\n",
        "  p1=plazos_bm-plazocupon_bm*(N-1)   \n",
        "  ((contratos_bm*nominal_bm*tfcupon_bm*plazocupon_bm/360)*a+(contratos_bm*nominal_bm)/((1+x*plazocupon_bm/360)^N))*(1+x*plazocupon_bm/360)^(1-p1/plazocupon_bm)   \n",
        "}\n",
        "\n",
        "x0_bm=t(as.matrix(X_bm[1,])) #tasas de descuento valor actual\n",
        "V0_bm=bonoMyield(x0_bm,plazos_bm, plazocupon_bm, tfcupon_bm, nominal_bm, contratos_bm)\n",
        "V0_bm"
      ],
      "execution_count": 0,
      "outputs": [
        {
          "output_type": "display_data",
          "data": {
            "text/plain": [
              "          [,1]\n",
              "[1,] -931308.5\n"
            ]
          },
          "metadata": {
            "tags": []
          }
        }
      ]
    },
    {
      "cell_type": "markdown",
      "metadata": {
        "id": "lolA4cfrwiQL",
        "colab_type": "text"
      },
      "source": [
        "## Bondes D"
      ]
    },
    {
      "cell_type": "code",
      "metadata": {
        "id": "Sa8BHfZ-wkqZ",
        "colab_type": "code",
        "outputId": "9b2fe495-bd02-409d-d1d9-3a23cc1c5100",
        "colab": {
          "base_uri": "https://localhost:8080/",
          "height": 52
        }
      },
      "source": [
        "%%R\n",
        "#BONDE D CÁLCULO\n",
        "\n",
        "X2_pr=lin_gub[X2_orig_bd, on = .(Date),nomatch=0][order(-Date)] #Se alinea la tasa de fondeo por fecha con la tasa de valor presente.\n",
        "m=ncol(plazos_bdm)\n",
        "\n",
        "\n",
        "N_bd=as.integer(plazos_bdm/plazocupon_bdm)+1 #número de cupones a pagar\n",
        "VTplazos_bdm=matrix(0,1,sum(N_bd)) #vector de todos los plazos_bdm de todos los contratos_bdm\n",
        "contratos_bdmT=matrix(0,1,sum(N_bd)) #vector de todos los contratos_bdm de todos los flujos de todos los contratos_bdm\n",
        "nominal_bdmT=matrix(0,1,sum(N_bd)) #vector de todos los nominal_bdmes de todos los flujos de todos los contratos_bdm\n",
        "plazocupon_bdmT=matrix(0,1,sum(N_bd)) #vector de todos los plazos_bdmcupon de todos los flujos de todos los contratos_bdm\n",
        "tasafijaT_bd=matrix(0,1,sum(N_bd)) #vector de tasas fijas de todos los flujos de todos los contratos_bdm\n",
        "ulNomT_bd=matrix(0,1,sum(N_bd)) #vector de contratos_bdm a final de flujo\n",
        "\n",
        "\n",
        "plazini_bd=plazos_bdm-plazocupon_bdm*(N_bd-1) #vector de plazos_bdm iniciales\n",
        "ddv=plazocupon_bdm-plazini_bd #dias trasncurridos del cupón vigente\n",
        "tfcupon=matrix(0,1,m)  #El primero cupón de cada bono\n",
        "tfcupondev=matrix(0,1,m) #cupón de los días devengados\n",
        "tfcupgen=((1+tf_act/360)^(plazocupon_bdm[1])-1)*360/plazocupon_bdm[1] #el segundo al último cupón de todos los bonos\n",
        "#calcula cupones de bonos\n",
        "for (j in (1:m))\n",
        "{\n",
        "  tfcupondev[j]=(prod(1+tf_int[(1:ddv[j])]/360)-1)*360/ddv[j]\n",
        "  tfcupon[j]=((1+tfcupondev[j]*ddv[j]/360)*(1+tf_act/360)^(plazocupon_bdm[1]-ddv[j])-1)*360/plazocupon_bdm[1]\n",
        "}\n",
        "\n",
        "\n",
        "for (j in (1:m))\n",
        "{\n",
        "  if (j==1)\n",
        "  {\n",
        "    VTplazos_bdm[,1:sum(N_bd[1:j])]=seq(plazini_bd[j],plazos_bdm[j], by=plazocupon_bdm[j])\n",
        "    contratos_bdmT[,1:sum(N_bd[1:j])]=seq(contratos_bdm[j],contratos_bdm[j])\n",
        "    plazocupon_bdmT[,1:sum(N_bd[1:j])]=seq(plazocupon_bdm[j],plazocupon_bdm[j])\n",
        "    ulNomT_bd[,sum(N_bd[1:j])]=contratos_bdm[j]\n",
        "    tasafijaT_bd[,1]=tfcupon[j]\n",
        "    tasafijaT_bd[,2:sum(N_bd[1:j])]=seq(tfcupgen,tfcupgen)\n",
        "  }\n",
        "  else\n",
        "  {\n",
        "    VTplazos_bdm[,(sum(N_bd[1:j-1])+1):sum(N_bd[1:j])]=seq(plazini_bd[j],plazos_bdm[j], by=plazocupon_bdm[j])\n",
        "    contratos_bdmT[,(sum(N_bd[1:j-1])+1):sum(N_bd[1:j])]=seq(contratos_bdm[j],contratos_bdm[j])\t\t\t\t\t\n",
        "    plazocupon_bdmT[,(sum(N_bd[1:j-1])+1):sum(N_bd[1:j])]=seq(plazocupon_bdm[j],plazocupon_bdm[j])\n",
        "    tasafijaT_bd[,(sum(N_bd[1:j-1])+1)]=tfcupon[j]\n",
        "    tasafijaT_bd[,(sum(N_bd[1:j-1])+2):sum(N_bd[1:j])]=seq(tfcupgen,tfcupgen)\n",
        "    ulNomT_bd[,sum(N_bd[1:j])]=contratos_bdm[j]\n",
        "  }\n",
        "}\n",
        "\n",
        "Xvp_bd=matrix(0,n,ncol(VTplazos_bdm))\n",
        "Xst_bd=matrix(0,n,ncol(VTplazos_bdm))\n",
        "\n",
        "for (i in (1:n))\n",
        "{\n",
        "  Xvp_bd[i,]=if(itpl==0){approx(nodos_gov,x_orig_gov[i,],VTplazos_bdm,rule=2)$y}else{talamb(nodos_gov,x_orig_gov[i,],VTplazos_bdm)}\n",
        "  Xst_bd[i,]=if(itpl==0){approx(nodos3_bd,X3_orig_bd[i,],VTplazos_bdm,rule=2)$y}else{talamb(nodos3_bd,X3_orig_bd[i,],VTplazos_bdm)}\n",
        "  \n",
        "}\n",
        "\n",
        "X_bd_tc=matrix(1,n,ncol(contratos_bdmT))*X2_pr$V2/100\n",
        "X_bd_ext=cbind(X_bd_tc,as.matrix(Xvp_bd),as.matrix(Xst_bd))\n",
        "\n",
        "bondeD=function(contratos_bdmT,  nominal_bdm, tf_act, plazocupon_bdmT, VTplazos_bdm, Xvp, Xst, N,ddv)\n",
        "{\n",
        "  tfcupon=matrix(0,1,m)  #El primero cupón de cada bono\n",
        "  tfcupondev=matrix(0,1,m) #cupón de los días devengados\n",
        "  tfcupgen=((1+tf_act/360)^(plazocupon_bdm[1])-1)*360/plazocupon_bdm[1] #el segundo al último cupón de todos los bonos\n",
        "  tasafijaT=matrix(0,1,sum(N))\n",
        "  #calcula cupones de bonos\n",
        "  for (j in (1:m))\n",
        "  {\n",
        "    tfcupondev[j]=(prod(1+tf_int[(1:ddv[j])]/360)-1)*360/ddv[j]\n",
        "    tfcupon[j]=((1+tfcupondev[j]*ddv[j]/360)*(1+tf_act/360)^(plazocupon_bdm[1]-ddv[j])-1)*360/plazocupon_bdm[1]\n",
        "  }\n",
        "  \n",
        "  \n",
        "  for (j in (1:m))\n",
        "  {\n",
        "    if (j==1)\n",
        "    {\n",
        "      tasafijaT[,1]=tfcupon[j]\n",
        "      tasafijaT[,2:sum(N[1:j])]=seq(tfcupgen,tfcupgen)\n",
        "    }\n",
        "    else\n",
        "    {\n",
        "      tasafijaT[,(sum(N[1:j-1])+1)]=tfcupon[j]\n",
        "      tasafijaT[,(sum(N[1:j-1])+2):sum(N[1:j])]=seq(tfcupgen,tfcupgen)\n",
        "    }\n",
        "  }\n",
        "  \n",
        "  \n",
        "  V0=matrix(0,1,count(N))\n",
        "  V0f=((((contratos_bdmT*(tasafijaT)*(plazocupon_bdmT/360))+ulNomT_bd)/(1+(Xvp+Xst)*VTplazos_bdm/360)))*nominal_bdm\n",
        "  for (j in (1:count(N)))\n",
        "  {\n",
        "    if(j==1)\n",
        "    {\n",
        "      V0[j]=sum(V0f[j:N[j]])\n",
        "    }\n",
        "    else\n",
        "    {\n",
        "      V0[j]=sum(V0f[(sum(N[1:j-1])+1):(sum(N[1:j]))])\n",
        "    }\n",
        "  }\n",
        "  V0\n",
        "} \n",
        "\n",
        "\n",
        "\n",
        "V0_bd=bondeD(contratos_bdmT, nominal_bdm, tf_act, plazocupon_bdmT, VTplazos_bdm, Xvp_bd[1,], Xst_bd[1,], N_bd,ddv)\n",
        "V0_bd"
      ],
      "execution_count": 0,
      "outputs": [
        {
          "output_type": "display_data",
          "data": {
            "text/plain": [
              "         [,1]\n",
              "[1,] 952635.9\n"
            ]
          },
          "metadata": {
            "tags": []
          }
        }
      ]
    },
    {
      "cell_type": "markdown",
      "metadata": {
        "id": "EbJH8k5GxWrr",
        "colab_type": "text"
      },
      "source": [
        "## CETES"
      ]
    },
    {
      "cell_type": "code",
      "metadata": {
        "id": "53jKdJPVxY_g",
        "colab_type": "code",
        "outputId": "2468315a-97d4-4f79-eb23-c685123a30fe",
        "colab": {
          "base_uri": "https://localhost:8080/",
          "height": 34
        }
      },
      "source": [
        "%%R\n",
        "\n",
        "#CETE CÁLCULO\n",
        "#paso para interpolar las tasas\n",
        "m=ncol(plazos_bcc)\n",
        "x_bcc=matrix(0,n,m)\n",
        "for (i in 1:(n))\n",
        "{\n",
        "  #x[i,]=approx(nodos_gov,x_orig_gov[i,],plazos_bcc)$y\n",
        "  x_bcc[i,]=if(itpl==0){approx(nodos_gov,x_orig_gov[i,],plazos_bcc,rule=2)$y}else{talamb(nodos_gov,x_orig_gov[i,],plazos_bcc)}\n",
        "}\n",
        "\n",
        "x0_bcc=x_bcc[1,]\n",
        "\n",
        "#función\n",
        "bonocupcero = function(i,t)\n",
        "{\n",
        "  1/(1+i*t/360)\n",
        "}\n",
        "\n",
        "V0_bcc=as.matrix(bonocupcero(x0_bcc,plazos_bcc))*contratos_bcc*nominal_bcc #Valor actual de cada bono\n",
        "\n",
        "VT0_bcc=sum(V0_bcc) #Valor total del portafolio al tiempo 0\n",
        "VT0_bcc"
      ],
      "execution_count": 0,
      "outputs": [
        {
          "output_type": "display_data",
          "data": {
            "text/plain": [
              "[1] -14423.89\n"
            ]
          },
          "metadata": {
            "tags": []
          }
        }
      ]
    },
    {
      "cell_type": "markdown",
      "metadata": {
        "id": "fomjk490c_Tm",
        "colab_type": "text"
      },
      "source": [
        "# Integración de factores y cálculo de riesgo en conjunto, y aplicación de simulación"
      ]
    },
    {
      "cell_type": "code",
      "metadata": {
        "id": "ix7N-zKGG2on",
        "colab_type": "code",
        "outputId": "15d94dac-8018-42bd-e22c-d36d5a8d94c2",
        "colab": {
          "base_uri": "https://localhost:8080/",
          "height": 52
        }
      },
      "source": [
        "%%R\n",
        "#DIMENSION DE TODOS LOS INSTRUMENTOS\n",
        "#Son 3 instrumentos financieros \n",
        "n_if=matrix(0,3,1)\n",
        "n_if[1]=ncol(x_bcc) #cetes\n",
        "n_if[2]=ncol(X_bd_ext) #bonde\n",
        "n_if[3]=ncol(X_bm) #bonos m\n",
        "\n",
        "print(ncol(X_bd_ext))\n",
        "#valor del portafolios\n",
        "\n",
        "V0_port=cbind(V0_bcc, V0_bd,V0_bm)\n",
        "V0T_port=sum(V0_port)\n",
        "\n",
        "\n",
        "\n",
        "#INTEGRACIÓN DE TODOS LOS FACTORES DE RIESGO EN UNA MATRIZ\n",
        "X_port=cbind(x_bcc,X_bd_ext,X_bm) #Factores de riesgo del portafolios de 8(9) instrumentos financieros\n",
        "\n",
        "#Cálculo de variaciones Delta_X DEL PORTAFOLIOS\n",
        "\n",
        "\n",
        "#Me parece que el error se corrige con esto, sustitye esta línea:\n",
        "#DeltaX_port=as.matrix(log(X_port[1:(n-1)]/X_port[2:(n)]))\n",
        "#por\n",
        "#DeltaX_port=as.matrix(log(X_port[1:(n-1),]/X_port[2:(n),]))\n",
        "\n",
        "DeltaX_port=as.matrix(log(X_port[1:(n-1),]/X_port[2:(n),]))  #************************************************\n",
        "DeltaX_port[is.nan(DeltaX_port)] <- 0 #quitamos NaN\n",
        "DeltaX_port[is.na(DeltaX_port)] <- 0 #quitamos Na\n",
        "DeltaX_port[is.infinite(DeltaX_port)] <- 0 #quitamos Na\n",
        "\n",
        "\n",
        "Ns=nrow(DeltaX_port) #Definimos número de escenarios históricos\n",
        "#alpha=0.98 #Nivel de Confianza para las medidas de riesgo\n",
        "\n",
        "DeltaX_s=DeltaX_port\n",
        "#print(head(DeltaX_s))\n",
        "print(ncol(DeltaX_s))\n",
        "#print(V0T_port)"
      ],
      "execution_count": 0,
      "outputs": [
        {
          "output_type": "display_data",
          "data": {
            "text/plain": [
              "[1] 78\n",
              "[1] 80\n"
            ]
          },
          "metadata": {
            "tags": []
          }
        }
      ]
    },
    {
      "cell_type": "markdown",
      "metadata": {
        "id": "VXuyQcc622Cx",
        "colab_type": "text"
      },
      "source": [
        "# Medición de Riesgo"
      ]
    },
    {
      "cell_type": "markdown",
      "metadata": {
        "id": "MkFd85063HTZ",
        "colab_type": "text"
      },
      "source": [
        "## Riesgo de Bondes D"
      ]
    },
    {
      "cell_type": "code",
      "metadata": {
        "id": "BTbDAKfJ3E0K",
        "colab_type": "code",
        "outputId": "17b4e49f-5f2c-4b69-b836-46184d965d51",
        "colab": {
          "base_uri": "https://localhost:8080/",
          "height": 87
        }
      },
      "source": [
        "%%R\n",
        "\n",
        "#Cálculo de matriz de pérdidas y ganancias BONDES\n",
        "#dimensión\n",
        "m=count(N_bd)    #PASO CLAVE\n",
        "X_s_bd=matrix(0,Ns,n_if[2]) #Factores de riesgo simulados con base en DeltaX_s x0*(1+Delta_Xs)   #PASO CLAVE\n",
        "V_bd=matrix(0,Ns,m)\n",
        "Vfr1_bd=matrix(0,Ns,m)\n",
        "Vfr2_bd=matrix(0,Ns,m)\n",
        "Vfr3_bd=matrix(0,Ns,m)\n",
        "PG_bd=matrix(0,Ns,m) #Pèrdidas y ganancias\n",
        "PGfr1_bd=matrix(0,Ns,m)\n",
        "PGfr2_bd=matrix(0,Ns,m)\n",
        "PGfr3_bd=matrix(0,Ns,m)\n",
        "PGT_bd=matrix(0,Ns,1)\n",
        "PGfr1T_bd=matrix(0,Ns,1)\n",
        "PGfr2T_bd=matrix(0,Ns,1)\n",
        "PGfr3T_bd=matrix(0,Ns,1)\n",
        "\n",
        "DeltaX_s_bd=DeltaX_s[,sum(n_if[1:2],1):sum(n_if[2:3])]    #PASO CLAVE\n",
        "x0_bd=X_bd_ext[1,]    #PASO CLAVE\n",
        "\n",
        "for (i in 1:Ns)\n",
        "{\n",
        "  X_s_bd[i,]=x0_bd*(1+DeltaX_s_bd[i,])\n",
        "  #PASO CLAVE\n",
        "  V_bd[i,]=bondeD(contratos_bdmT, nominal_bdm, X_s_bd[i,1], plazocupon_bdmT, VTplazos_bdm, X_s_bd[i,(n_if[2]/3+1):(n_if[2]*2/3)], X_s_bd[i,(n_if[2]*2/3+1):(n_if[2])], N_bd,ddv)\n",
        "  #PASO CLAVE\n",
        "  Vfr1_bd[i,]=bondeD(contratos_bdmT, nominal_bdm, X_s_bd[i,1], plazocupon_bdmT, VTplazos_bdm, x0_bd[(n_if[2]/3+1):(n_if[2]*2/3)], x0_bd[(n_if[2]*2/3+1):(n_if[2])], N_bd,ddv)\n",
        "  #PASO CLAVE\n",
        "  Vfr2_bd[i,]=bondeD(contratos_bdmT, nominal_bdm, x0_bd[1], plazocupon_bdmT, VTplazos_bdm, X_s_bd[i,(n_if[2]/3+1):(n_if[2]*2/3)], x0_bd[(n_if[2]*2/3+1):(n_if[2])], N_bd,ddv)\n",
        "  #PASO CLAVE\n",
        "  Vfr3_bd[i,]=bondeD(contratos_bdmT, nominal_bdm, x0_bd[1], plazocupon_bdmT, VTplazos_bdm, x0_bd[(n_if[2]/3+1):(n_if[2]*2/3)], X_s_bd[i,(n_if[2]*2/3+1):(n_if[2])], N_bd,ddv)\n",
        "  #PASO CLAVE\n",
        "  PG_bd[i,]=V_bd[i,]-V0_bd\n",
        "  PGfr1_bd[i,]=Vfr1_bd[i,]-V0_bd\n",
        "  PGfr2_bd[i,]=Vfr2_bd[i,]-V0_bd\n",
        "  PGfr3_bd[i,]=Vfr3_bd[i,]-V0_bd\n",
        "  PGT_bd[i,]=sum(PG_bd[i,])\n",
        "  PGfr1T_bd[i,]=sum(PGfr1_bd[i,])\n",
        "  PGfr2T_bd[i,]=sum(PGfr2_bd[i,])\n",
        "  PGfr3T_bd[i,]=sum(PGfr3_bd[i,])\n",
        "}\n",
        "\n",
        "\n",
        "PG_bd[1:5,]\n",
        "PGfr1_bd[1:5,]\n",
        "PGfr2_bd[1:5,]\n",
        "PGT_bd[1:5,]\n",
        "\n",
        "\n",
        "#VaR por posición\n",
        "VaRCont_bd=matrix(0,1,m)\n",
        "VaRfr1_bd=matrix(0,1,m)\n",
        "VaRfr2_bd=matrix(0,1,m)\n",
        "VaRfr3_bd=matrix(0,1,m)\n",
        "CVaRCont_bd=matrix(0,1,m)\n",
        "CVaRfr1_bd=matrix(0,1,m)\n",
        "CVaRfr2_bd=matrix(0,1,m)\n",
        "CVaRfr3_bd=matrix(0,1,m)\n",
        "for (i in (1:m))\n",
        "{\n",
        "  VaRCont_bd[i]=quantile(PG_bd[,i],1-alpha,Ns)\n",
        "  VaRfr1_bd[i]=quantile(PGfr1_bd[,i],1-alpha,Ns)\n",
        "  VaRfr2_bd[i]=quantile(PGfr2_bd[,i],1-alpha,Ns)\n",
        "  VaRfr3_bd[i]=quantile(PGfr3_bd[,i],1-alpha,Ns)\n",
        "  CVaRfr1_bd[i]= mean(merge(which(PGfr1_bd[,i]<VaRfr1_bd[i]),cbind(seq(1,Ns),PGfr1_bd[,i]), by.x=1,by.y=1)[,2])\n",
        "  CVaRfr2_bd[i]= mean(merge(which(PGfr2_bd[,i]<VaRfr2_bd[i]),cbind(seq(1,Ns),PGfr2_bd[,i]), by.x=1,by.y=1)[,2])\n",
        "  CVaRfr3_bd[i]= mean(merge(which(PGfr3_bd[,i]<VaRfr3_bd[i]),cbind(seq(1,Ns),PGfr3_bd[,i]), by.x=1,by.y=1)[,2])\n",
        "  CVaRCont_bd[i]= mean(merge(which(PG_bd[,i]<VaRCont_bd[i]),cbind(seq(1,Ns),PG_bd[,i]), by.x=1,by.y=1)[,2])\n",
        "}\n",
        "\n",
        "VaRCont_bd\n",
        "VaRfr1_bd\n",
        "VaRfr2_bd\n",
        "CVaRCont_bd\n",
        "CVaRfr1_bd\n",
        "CVaRfr2_bd\n",
        "\n",
        "\n",
        "#VaR Total\n",
        "\n",
        "VaRTotal_bd=quantile(PGT_bd,1-alpha,Ns)\n",
        "CVaRTotal_bd= mean(merge(which(PGT_bd<VaRTotal_bd),cbind(seq(1,Ns),PGT_bd), by.x=1,by.y=1)[,2])\n",
        "VaRTotalfr1_bd=quantile(PGfr1T_bd,1-alpha,Ns)\n",
        "CVaRTotalfr1_bd= mean(PGfr1T_bd[which(PGfr1T_bd<VaRTotalfr1_bd),])\n",
        "VaRTotalfr2_bd=quantile(PGfr2T_bd,1-alpha,Ns)\n",
        "CVaRTotalfr2_bd= mean(PGfr2T_bd[which(PGfr2T_bd<VaRTotalfr2_bd),])\n",
        "VaRTotalfr3_bd=quantile(PGfr3T_bd,1-alpha,Ns)\n",
        "CVaRTotalfr3_bd= mean(PGfr3T_bd[which(PGfr2T_bd<VaRTotalfr2_bd),])\n",
        "\n",
        "\n",
        "cbind(VaRTotal_bd,sum(V0_bd), VaRCont_bd, V0_bd)\n",
        "cbind(CVaRTotal_bd,sum(V0_bd), CVaRCont_bd, V0_bd)\n",
        "print(cbind(VaRTotal_bd,VaRTotalfr1_bd,VaRTotalfr2_bd,VaRTotalfr3_bd))\n",
        "print(cbind(CVaRTotal_bd,CVaRTotalfr1_bd,CVaRTotalfr2_bd,CVaRTotalfr3_bd))"
      ],
      "execution_count": 0,
      "outputs": [
        {
          "output_type": "display_data",
          "data": {
            "text/plain": [
              "   VaRTotal_bd VaRTotalfr1_bd VaRTotalfr2_bd VaRTotalfr3_bd\n",
              "2%   -4006.265      -6025.375      -3489.982      -2169.471\n",
              "     CVaRTotal_bd CVaRTotalfr1_bd CVaRTotalfr2_bd CVaRTotalfr3_bd\n",
              "[1,]    -4467.455       -6794.885       -4065.527       -2377.596\n"
            ]
          },
          "metadata": {
            "tags": []
          }
        }
      ]
    },
    {
      "cell_type": "markdown",
      "metadata": {
        "id": "nqHYp5vD3oE5",
        "colab_type": "text"
      },
      "source": [
        "# Riesgo integral"
      ]
    },
    {
      "cell_type": "code",
      "metadata": {
        "id": "gDa4BHcz3p1a",
        "colab_type": "code",
        "outputId": "9d0ed0d7-febd-462a-a690-20af5dfcea8f",
        "colab": {
          "base_uri": "https://localhost:8080/",
          "height": 87
        }
      },
      "source": [
        "%%R\n",
        "\n",
        "#Tasa de Interés\n",
        "#1. Dado que swaps y bondes son de tasa de interés usaremos PGT_bd y PGT_sw\n",
        "#2. Para futuros usaremos PGfr1T_fwtdc y PGfr2T_fwtdc\n",
        "PGPort_TI=PGT_bd #Pérdidas y ganancias\n",
        "VaRPort_TI=quantile(PGPort_TI,1-alpha,Ns) #VaR\n",
        "CVaRPort_TI= mean(PGPort_TI[which(PGPort_TI<VaRPort_TI)]) #CVaR\n",
        "\n",
        "#Medición de riesgo de todo el portafolios\n",
        "#Sumar todos los PGT de todos los instrumentos\n",
        "\n",
        "PGT_Port=PGPort_TI\n",
        "VaRTotal_Port=quantile(PGT_Port,1-alpha,Ns) #VaR\n",
        "CVaRTotal_Port= mean(PGT_Port[which(PGT_Port<VaRTotal_Port)]) #CVaR\n",
        "print(VaRTotal_Port)\n",
        "print(CVaRTotal_Port)\n",
        "print(V0T_port)"
      ],
      "execution_count": 0,
      "outputs": [
        {
          "output_type": "display_data",
          "data": {
            "text/plain": [
              "       2% \n",
              "-4006.265 \n",
              "[1] -4467.455\n",
              "[1] 6903.581\n"
            ]
          },
          "metadata": {
            "tags": []
          }
        }
      ]
    },
    {
      "cell_type": "markdown",
      "metadata": {
        "id": "DQRH4kHoMidu",
        "colab_type": "text"
      },
      "source": [
        "Mediremos solo el Valor en Riesgo de los Bondes D dado que los CETES y los Bondes M no representan un riesgo considerable por ser bonos considerados libres de riesgo. Observamos que para los Bondes D el CVaR no está muy alejado del VaR lo que nos indica que en caso de revasar la pérdida estimada, hay poca probabilidad de que sea por una cantidad mucho mayor."
      ]
    },
    {
      "cell_type": "markdown",
      "metadata": {
        "id": "iTDGnpLydaTY",
        "colab_type": "text"
      },
      "source": [
        "# VaR CON ALISADO"
      ]
    },
    {
      "cell_type": "code",
      "metadata": {
        "id": "Bj8FNndWebuG",
        "colab_type": "code",
        "outputId": "7c14f601-0a13-4dfc-8e67-267b2126b5e4",
        "colab": {
          "base_uri": "https://localhost:8080/",
          "height": 52
        }
      },
      "source": [
        "%%R\n",
        "#Medidas de riesgo CON alisado\n",
        "\n",
        "#Se necesita definir\n",
        "#1) El valor del peso inicial del primer escenario \"w0\"\n",
        "#2) La función de cuantil con vector de probabilidades no iguales\n",
        "#3) La función de CVaR con probabilidades no iguales\n",
        "\n",
        "#w0=0.05\n",
        "\n",
        "#Creación de dos funciones que sirven para este fin\n",
        "# Percentil con pesos de probabilidades\n",
        "# \n",
        "# v  un vector de observaciones\n",
        "# w Un vector numérico de valores positivos, en general es la distrubición.\n",
        "# p  el valor de la probabilidad entre 0 y 1.\n",
        "# \n",
        "# Esta función no interpola\n",
        "\n",
        "w0<-0.05\n",
        "\n",
        "wquantile <- function(v,w=rep(1,length(v)),p=.5) \n",
        "{ \n",
        "  if ( !is.numeric(w) || length(v) != length(w) ) \n",
        "    stop(\"Los valores y los pesos tienen que tener misma longitud\") \n",
        "  if ( !is.numeric(p) || any( p<0 | p>1) ) \n",
        "    stop(\"Percentil tiene que ser 0<=p<=1\") \n",
        "  if ( min(w) < 0 ) stop(\"Los pesos tiene que ser mayores que 0\") \n",
        "  ranking <- order(v) \n",
        "  sumw <- cumsum(w[ranking]) \n",
        "  plist <- sumw / sumw[ length(sumw) ] \n",
        "  v [ ranking [ which.max( plist >= p ) ] ]  \n",
        "} \n",
        "\n",
        "#CVaR con alisado\n",
        "wcvar <- function(v,w=rep(1,length(v)),p=.5) \n",
        "{ \n",
        "  if ( !is.numeric(w) || length(v) != length(w) ) \n",
        "    stop(\"Los valores y los pesos tienen que tener misma longitud\") \n",
        "  if ( !is.numeric(p) || any( p<0 | p>1) ) \n",
        "    stop(\"Percentil tiene que ser 0<=p<=1\") \n",
        "  if ( min(w) < 0 ) stop(\"Los pesos tiene que ser mayores que 0\") \n",
        "  ranking <- order(v) \n",
        "  sumw <- cumsum(w[ranking]) \n",
        "  plist <- sumw / sumw[ length(sumw) ] \n",
        "  loss= v [ ranking [ which( plist < p ) ] ]  \n",
        "  esc=w [ ranking [ which( plist < p ) ] ]  \n",
        "  sum(loss*esc)/(sum(esc))\n",
        "} \n",
        "\n",
        "V0_bcc=as.matrix(bonocupcero(x0_bcc,plazos_bcc))*contratos_bcc*nominal_bcc\n",
        "print(V0_bcc)"
      ],
      "execution_count": 0,
      "outputs": [
        {
          "output_type": "display_data",
          "data": {
            "text/plain": [
              "          [,1]\n",
              "[1,] -14423.89\n"
            ]
          },
          "metadata": {
            "tags": []
          }
        }
      ]
    },
    {
      "cell_type": "code",
      "metadata": {
        "id": "OKTWS3meecVn",
        "colab_type": "code",
        "outputId": "6cd78bba-6205-4920-c6e4-257b815cde10",
        "colab": {
          "base_uri": "https://localhost:8080/",
          "height": 157
        }
      },
      "source": [
        "%%R\n",
        "lambda =uniroot(function(x) w0*(1-x^(n))/(1-x)-1, c(0,0.99), tol = 1e-28)$root\n",
        "print(lambda)\n",
        "\n",
        "#generamos la función que genera \"n\" escenarios con base en w0 y lambda\n",
        "genera_esc=function(lamda,w0,n)\n",
        "{\n",
        "  p_esc=matrix(0,n,1)\n",
        "  for (i in (1:n))\n",
        "  {\n",
        "    p_esc[i]=w0*lambda^(i-1)\n",
        "  }\n",
        "  p_esc\n",
        "}\n",
        "\n",
        "p_esc=genera_esc(lambda,w0,n-1)\n",
        "t(p_esc[1:10])\n",
        "sum(p_esc) #validamos que sume 1\n",
        "#print(p_esc)\n",
        "#Creamos las cajas de VaR y CVaR con alisado\n",
        "VaRca=matrix(0,1,ncol(PGT_Port))\n",
        "CVaRca=matrix(0,1,ncol(PGT_Port))\n",
        "\n",
        "#IMPORTANTE: VALIDAR QUE SE TENGA EL MISMO ORDEN DE ESCENARIOS, ES POR ESO QUE METEMOS P_ESC[ORDER(P_ESC)]\n",
        "#for (j in (1:m))  \n",
        "for (j in 1:m)   #**************************************************************************\n",
        "{\n",
        "  VaRca[j]=wquantile(as.matrix(PGT_Port[,j]), p_esc[order(p_esc)], 1-alpha)\n",
        "  CVaRca[j]=wcvar(as.matrix(PGT_Port[,j]), as.matrix(p_esc[order(p_esc)]), 1-alpha)\n",
        "}\n",
        "\n",
        "#Resumen medidas de riesgo por posición\n",
        "VaRca=as.data.table(VaRca)\n",
        "CVaRca=as.data.table(CVaRca)\n",
        "#print(VaRca)\n",
        "#print(CVaRca)\n",
        "#valores absolutos con respecto al portafolio sin alisado\n",
        "#x0<-X3_find #*********************************************************************************\n",
        "\n",
        "precioCete<-9.997833246\n",
        "x0 <- c(precioCete, V0_bm , V0_bd)\n",
        "#V0 <- V0T_port #******************************************************************************\n",
        "V0 <- c(V0_bcc, V0_bm,V0_bd) #*****************************************************************\n",
        "V0<- matrix(V0,nrow=1 ,ncol=3)\n",
        "names(VaRca)=names(x0)\n",
        "names(CVaRca)=names(x0)\n",
        "VaRca/abs(as.matrix(V0))\n",
        "CVaRca/abs(as.matrix(V0))\n",
        "#print(V0)\n",
        "\n",
        "VaRfrca=matrix(0,1,2) \n",
        "CVaRfrca=matrix(0,1,2) \n",
        "\n",
        "#for (j in (1:2)) \n",
        "for (j in 1:1) #***************************************************************************\n",
        "{\n",
        "  VaRfrca[j]=wquantile(as.matrix(PGT_Port[,j]), p_esc[order(p_esc)], 1-alpha)\n",
        "  CVaRfrca[j]= wcvar(as.matrix(PGT_Port[,j]), as.matrix(p_esc[order(p_esc)]), 1-alpha)\n",
        "}\n",
        "\n",
        "\n",
        "\n",
        "VaRfrca=as.data.table(VaRfrca)\n",
        "CVaRfrca=as.data.table(CVaRfrca)\n",
        "\n",
        "names(VaRfrca)=c(\"divisas\", \"acciones\")\n",
        "names(CVaRfrca)=c(\"divisas\", \"acciones\")\n",
        "\n",
        "pos_eq <- 1 #agrupamos en pos_eq el copon cero\n",
        "pos_fx <- 2 #agrupamos en pos_fx el bono m y d\n",
        "\n",
        "#VALORES ABSOLUTOS                #V0[,(1:len(pos_fx)+1)]\n",
        "VaRfrca/c(abs(as.matrix(sum(V0[,(1:(length(pos_fx))+1)]))),abs(as.matrix(sum(V0[,(len(pos_fx)+1):(len(pos_eq)+len(pos_fx))]))))\n",
        "CVaRfrca/c(abs(as.matrix(sum(V0[,(1:(len(pos_fx))+1)]))),abs(as.matrix(sum(V0[,(len(pos_fx)+1):(len(pos_eq)+len(pos_fx))]))))\n",
        "\n",
        "\n",
        "VaRcaT=wquantile(as.matrix(PGT_Port), p_esc[order(p_esc)], 1-alpha)\n",
        "CVaRcaT=wcvar(as.matrix(PGT_Port), p_esc[order(p_esc)], 1-alpha)\n",
        "\n",
        "\n",
        "VaRCont <- VaRTotal_Port\n",
        "CVaRCont <- CVaRTotal_Port\n",
        "V0\n",
        "VaRCont/abs(as.matrix(V0))\n",
        "VaRca/abs(as.matrix(V0))\n",
        "CVaRCont/abs(as.matrix(V0))\n",
        "CVaRca/abs(as.matrix(V0))\n",
        "\n",
        "\n",
        "#c(sum(V0[,1:3]),sum(V0[,4:5]))           #*******************************************************************************\n",
        "#VaRfr/c(abs(as.matrix(sum(V0[,1:3]))),abs(as.matrix(sum(V0[,4:5]))))\n",
        "#VaRfrca/c(abs(as.matrix(sum(V0[,1:3]))),abs(as.matrix(sum(V0[,4:5]))))\n",
        "#CVaRfr/c(abs(as.matrix(sum(V0[,1:3]))),abs(as.matrix(sum(V0[,4:5]))))\n",
        "#CVaRfrca/c(abs(as.matrix(sum(V0[,1:3]))),abs(as.matrix(sum(V0[,4:5]))))  #************************************************\n",
        "#VaRfr<-VaRPort_ACC\n",
        "VaRfrca<-VaRPort_TI\n",
        "#CVaRfr<-VaRPort_ACC\n",
        "CVaRfrca<-CVaRPort_TI\n",
        "VaRTotal<-VaRTotal_Port\n",
        "CVaRTotal<-CVaRTotal_Port\n",
        "\n",
        "c(sum(V0[,1:2]))\n",
        "#VaRfr/abs(as.matrix(sum(V0[,1:2])))\n",
        "VaRfrca/abs(as.matrix(sum(V0[,1:2])))\n",
        "#CVaRfr/abs(as.matrix(sum(V0[,1:2])))\n",
        "CVaRfrca/abs(as.matrix(sum(V0[,1:2])))\n",
        "\n",
        "\n",
        "sum(V0)\n",
        "print('VaR')\n",
        "print(VaRTotal/abs(sum(V0)))\n",
        "print(VaRcaT/abs(sum(V0)))\n",
        "print('CVaR')\n",
        "print(CVaRTotal/abs(sum(V0)))\n",
        "print(CVaRcaT/abs(sum(V0)))"
      ],
      "execution_count": 0,
      "outputs": [
        {
          "output_type": "display_data",
          "data": {
            "text/plain": [
              "[1] 0.95\n",
              "[1] \"VaR\"\n",
              "        2% \n",
              "-0.5803169 \n",
              "[1] -0.5876341\n",
              "[1] \"CVaR\"\n",
              "[1] -0.6471214\n",
              "[1] -0.6687559\n"
            ]
          },
          "metadata": {
            "tags": []
          }
        }
      ]
    },
    {
      "cell_type": "markdown",
      "metadata": {
        "id": "pdDL_7sENfIB",
        "colab_type": "text"
      },
      "source": [
        "En el caso con alisado se observa lo mismo que en el sin alisado pero las dimensiones son bastante diferentes dado la cantidad de datos utilizados."
      ]
    },
    {
      "cell_type": "markdown",
      "metadata": {
        "id": "QCj25_cz73Jq",
        "colab_type": "text"
      },
      "source": [
        "# **Futuros**"
      ]
    },
    {
      "cell_type": "code",
      "metadata": {
        "id": "pQ4DwK_ybbuG",
        "colab_type": "code",
        "outputId": "298f4424-e819-4fd6-e55b-4bbd5bd48419",
        "colab": {
          "base_uri": "https://localhost:8080/",
          "height": 175
        }
      },
      "source": [
        "%load_ext rpy2.ipython\n",
        "!rm -rf RiesgosFinancieros\n",
        "!git clone \"https://github.com/pikey-msc/RiesgosFinancieros/\"\n"
      ],
      "execution_count": 0,
      "outputs": [
        {
          "output_type": "stream",
          "text": [
            "The rpy2.ipython extension is already loaded. To reload it, use:\n",
            "  %reload_ext rpy2.ipython\n",
            "Cloning into 'RiesgosFinancieros'...\n",
            "remote: Enumerating objects: 10, done.\u001b[K\n",
            "remote: Counting objects: 100% (10/10), done.\u001b[K\n",
            "remote: Compressing objects: 100% (10/10), done.\u001b[K\n",
            "remote: Total 321 (delta 4), reused 0 (delta 0), pack-reused 311\u001b[K\n",
            "Receiving objects: 100% (321/321), 1.47 MiB | 17.13 MiB/s, done.\n",
            "Resolving deltas: 100% (187/187), done.\n"
          ],
          "name": "stdout"
        }
      ]
    },
    {
      "cell_type": "code",
      "metadata": {
        "id": "0MIYNyFqboc2",
        "colab_type": "code",
        "colab": {}
      },
      "source": [
        "%%R\n",
        "fval=as.Date(\"20200228\",format=\"%Y%m%d\") #Fecha de valoración\n",
        "itpl=0 #poner 0 si se quiere interpolación lineal o 1 si se quiere tasa alambrada\n",
        "alpha=0.98 #Nivel de confianza para obtener estimaciones de riesgo\n",
        "nh=3660 #número de días de historia\n",
        "yext=1 #si se usa la historia de internet o fija\n",
        "#setwd(direc)\t\n",
        "\n",
        "\n",
        "\n",
        "#FORWARDS TDC (como es tipo de cambio en el cual intervienen las divisas, lo llamé como pos_fx) ***********************************************************\n",
        "bext=\"RiesgosFinancieros/2020-2/Tarea/tasa_libor.txt\"\n",
        "bdom=\"RiesgosFinancieros/2020-2/Tarea/tasa_fwd.txt\"\n",
        "btsp=\"RiesgosFinancieros/2020-2/Tarea/tasa_spot.txt\"\n",
        "SymbolsFX_ftdc<-c(\"USDMXN=X\", \"GBPUSD=X\" ) #tienen que ir en orden alfabético\n",
        "plazos_fwd=cbind(5)\n",
        "contratos_fwd=cbind(100)\n",
        "pos_fx <- contratos_fwd\n",
        "kst_fwd=cbind(19.83)\n",
        "nominal_fwd=1\n",
        "yext=1 #si se carga información de yahoo en la fecha definida por fval o SymbolsFX, en caso contrario se utiliza información que se tendrá que cargar de tasas_spot.txt\n",
        "trlib=1 #1 si la curva libor viene a 182 0 si no.\n",
        "\n",
        "#FORWARDS DE IPC (como el IPC es un índice y depende del precio de acciones de varias compañías, lo llamé pos_eq) ******************************************\n",
        "#Descontamos con gubernamental\n",
        "base=\"RiesgosFinancieros/2020-2/Tarea/tasa_guber.txt\"\n",
        "SymbolsEQ_find<-c(\"^MXX\", \"GCARSOA1.MX\" ) #tienen que ir en orden alfabético\n",
        "plazos_fwd_ind=cbind(53)\n",
        "contratos_fwd_ind=cbind(50)\n",
        "pos_eq <- contratos_fwd_ind\n",
        "kst_fwd_ind=cbind(-49525)\n",
        "nominal_fwd_ind=1\n"
      ],
      "execution_count": 0,
      "outputs": []
    },
    {
      "cell_type": "markdown",
      "metadata": {
        "id": "s3Oy9waEdUBF",
        "colab_type": "text"
      },
      "source": [
        "# Carga de datos"
      ]
    },
    {
      "cell_type": "code",
      "metadata": {
        "id": "Vp5JPb5XdUu8",
        "colab_type": "code",
        "outputId": "f8ad0e29-2bc2-42e1-d60f-9a40099e495d",
        "colab": {
          "base_uri": "https://localhost:8080/",
          "height": 544
        }
      },
      "source": [
        "%%R\n",
        "\n",
        "\n",
        "#CARGA DE DATOS DE  FORWARDS DE TDC\n",
        "#datas\n",
        "#data<-read.table(\"tasa_tiie.txt\")\n",
        "data1<-read.table(bext) #extranjero que es la libor arriba esta \n",
        "data2<-read.table(bdom)\n",
        "\n",
        "########minimos para parametrizar\n",
        "n1=nrow(data1) #vemos cuantas filas tiene\n",
        "n2=nrow(data2)\n",
        "m1_ftdc=ncol(data1) #vemos cuantas collumnas tiene\n",
        "m2_ftdc=ncol(data2)\n",
        "n=min(n1,n2)-1 # minimo de las dos\n",
        "\n",
        "###NODOS###\n",
        "nodos1_ftdc=data.frame(data1[1,2:m1_ftdc])\n",
        "nodos2_ftdc=data.frame(data2[1,2:m2_ftdc])\n",
        "print(nodos1_ftdc)\n",
        "####MATRICES DEL MISMO TAMAÑO MENOS DOLAR\n",
        "\n",
        "x1_ftdc=as.data.table(mutate(data1[2:n,1:m1_ftdc],Date=as.Date(V1,format=\"%Y%m%d\"))) #estas son las tasas de 2:n y desd fecha hasta el ultimo nodo, creamos date para reconocer la fecha\n",
        "x1_ftdc=x1_ftdc%>%select(-V1)\n",
        "x2_ftdc=as.data.table(mutate(data2[2:n,1:m2_ftdc],Date=as.Date(V1,format=\"%Y%m%d\")))#domestica\n",
        "x2_ftdc=x2_ftdc%>%select(-V1)\n",
        "\n",
        "###Para Dolar\n",
        "\n",
        "if (yext==1)\n",
        "{\n",
        "  #Cargar los símbolos de yahoo finance para FX\n",
        "  start_date=fval-3660 #fecha inicial\n",
        "  \n",
        "  #Creación del objeto para guardar los datos\n",
        "  dataEnvFX<-new.env()\n",
        "  \n",
        "  #obtener los datos\n",
        "  getSymbols.yahoo(SymbolsFX_ftdc,env=dataEnvFX,from=start_date, to=(fval))\n",
        "  #limpiarlos, alinearnos y quedarnos con el precio de cierre \n",
        "  bt.prep(dataEnvFX,align='remove.na',fill.gaps=T)\n",
        "  \n",
        "  #muestra de datos\n",
        "  head(dataEnvFX$prices[,2])\n",
        "  \n",
        "  #Nos quedamos con los precios\n",
        "  X3_ftdc=data.table(Date=as.Date(index(dataEnvFX$prices[,2])),coredata(dataEnvFX$prices[,2]))\n",
        "} else  \n",
        "{ \n",
        "data3<-read.table(btsp)\n",
        "print(head(data3))\n",
        "n3<-nrow(data3)\n",
        "m3<-ncol(data3)\n",
        "X3=data.table(as.matrix(as.double(as.matrix(data3[2:(n+1),m3]))))\n",
        "X3_find=as.data.table(mutate(data3[2:(n+1),1:m3],Date=as.Date(V1,format=\"%Y%m%d\")))\n",
        "}\n",
        "\n",
        "\n",
        "# CARGA DE DATOS DE  FORWARD DE IPC\n",
        "\n",
        "data<-read.table(base)\n",
        "n<-nrow(data)\n",
        "m_gov=ncol(data)\n",
        "#x_orig_gov=data.frame(data[2:n,1:m_gov])\n",
        "x_orig_gov=as.data.table(mutate(data[2:n,1:m_gov],Date=as.Date(V1,format=\"%Y%m%d\")))\n",
        "x_orig_gov=x_orig_gov%>%select(-V1)\n",
        "nodos_gov=data.frame(data[1,2:m_gov])\n",
        "\n",
        "  #Cargar los símbolos de yahoo finance para EQ\n",
        "  start_date=fval-nh #fecha inicial\n",
        "  \n",
        "  #Creación del objeto para guardar los datos\n",
        "  dataEnvEQ<-new.env()\n",
        "  \n",
        "  #obtener los datos\n",
        "  getSymbols.yahoo(SymbolsEQ_find,env=dataEnvEQ,from=start_date, to=(fval))\n",
        "  #limpiarlos, alinearnos y quedarnos con el precio de cierre \n",
        "  bt.prep(dataEnvEQ,align='remove.na',fill.gaps=T)\n",
        "  \n",
        "  #muestra de datos\n",
        "#  head(dataEnvEQ$prices)\n",
        "  \n",
        "  #Nos quedamos con los precios\n",
        "  X3_find=data.table(Date=as.Date(index(dataEnvEQ$prices[,2])),coredata(dataEnvEQ$prices[,2]))\n",
        "  print(head (X3_find))\n",
        "  print(head(x_orig_gov))\n"
      ],
      "execution_count": 0,
      "outputs": [
        {
          "output_type": "display_data",
          "data": {
            "text/plain": [
              "  V2 V3 V4 V5  V6  V7  V8  V9  V10  V11  V12  V13  V14  V15  V16  V17\n",
              "1  1  7 30 90 180 270 360 720 1080 1440 1800 2160 2520 2880 3240 3600\n",
              "         Date      MXX\n",
              "1: 2010-02-22 32034.34\n",
              "2: 2010-02-23 31850.24\n",
              "3: 2010-02-24 31788.54\n",
              "4: 2010-02-25 31649.10\n",
              "5: 2010-02-26 31634.54\n",
              "6: 2010-03-01 31765.14\n",
              "           V2         V3         V4         V5         V6         V7         V8\n",
              "1: 0.07906000 0.07808887 0.07709264 0.07897000 0.07988264 0.08042400 0.08063634\n",
              "2: 0.07722139 0.07808887 0.07709264 0.07878888 0.08006502 0.08042400 0.08082002\n",
              "3: 0.07722139 0.07808887 0.07744709 0.07897000 0.07951788 0.08023954 0.08082002\n",
              "4: 0.07813334 0.07808887 0.07744709 0.07897000 0.07951788 0.08023954 0.08082002\n",
              "5: 0.07722139 0.07808887 0.07744709 0.07951337 0.08042978 0.08150517 0.08174244\n",
              "6: 0.07722139 0.07802004 0.07744709 0.07969450 0.08061216 0.08183675 0.08211584\n",
              "           V9        V10        V11        V12        V13        V14        V15\n",
              "1: 0.08111017 0.08475054 0.08799784 0.09131343 0.09413113 0.09718213 0.10142256\n",
              "2: 0.08090854 0.08435811 0.08886566 0.09131224 0.09288080 0.09604609 0.10095870\n",
              "3: 0.08090464 0.08498099 0.08997304 0.09229434 0.09333689 0.09589873 0.10165724\n",
              "4: 0.08018166 0.08355430 0.08739567 0.08964867 0.09152134 0.09369363 0.09934898\n",
              "5: 0.08137725 0.08570076 0.09028780 0.09301676 0.09466370 0.09680468 0.10243388\n",
              "6: 0.08180786 0.08606051 0.09014564 0.09367154 0.09486520 0.09823601 0.10349057\n",
              "         V16       V17       V18       V19       V20       V21       Date\n",
              "1: 0.1058224 0.1104565 0.1388027 0.1775079 0.2287571 0.2973447 2020-03-06\n",
              "2: 0.1062402 0.1118325 0.1376561 0.1785716 0.2216318 0.2991903 2020-03-05\n",
              "3: 0.1077483 0.1128102 0.1366114 0.1748460 0.2139762 0.2833846 2020-03-04\n",
              "4: 0.1052630 0.1092318 0.1331730 0.1663083 0.2106910 0.2676971 2020-03-03\n",
              "5: 0.1083077 0.1124022 0.1366660 0.1691053 0.2052162 0.2740801 2020-03-02\n",
              "6: 0.1086765 0.1131309 0.1367676 0.1717620 0.2132537 0.2598649 2020-02-28\n"
            ]
          },
          "metadata": {
            "tags": []
          }
        }
      ]
    },
    {
      "cell_type": "markdown",
      "metadata": {
        "id": "CiTXjdyIfwBN",
        "colab_type": "text"
      },
      "source": [
        "#INTERSECCIÓN DE FECHAS DE TODOS LOS INSUMOS    \n"
      ]
    },
    {
      "cell_type": "code",
      "metadata": {
        "id": "Y-vBTCM4fzdd",
        "colab_type": "code",
        "outputId": "2da1dd62-46eb-4906-b675-b73a72cff0ad",
        "colab": {
          "base_uri": "https://localhost:8080/",
          "height": 140
        }
      },
      "source": [
        "%%R\n",
        "#INTERSECCIÓN DE FECHAS DE TODOS LOS INSUMOS    \n",
        "  \n",
        "#head(x_orig_gov)  \n",
        "lin_gub=data.table(Date=as.Date(X3_ftdc[x_orig_gov,on=.(Date),nomatch=0]$Date)) #Fechas acciones, equity y guber\n",
        "lin_gub_bmybdst_flib=data.table(Date=as.Date(lin_gub[x1_ftdc,on=.(Date),nomatch=0]$Date)) #Fechas acciones, equity, guber, st (bonde), libor\n",
        "lin_gub_bmybdst_flibfwd=data.table(Date=as.Date(lin_gub_bmybdst_flib[x2_ftdc,on=.(Date),nomatch=0]$Date)) #Fechas acciones, equity, guber, st (bonde), libor, fwd\n",
        "lin_gub_bmybdst_flibfwdspind=data.table(Date=as.Date(lin_gub_bmybdst_flibfwd[X3_find,on=.(Date),nomatch=0]$Date)) #Fechas acciones, equity, guber, st (bonde), libor, fwd, spot, equity or index \n",
        "print(head(lin_gub_bmybdst_flibfwdspind))"
      ],
      "execution_count": 0,
      "outputs": [
        {
          "output_type": "display_data",
          "data": {
            "text/plain": [
              "         Date\n",
              "1: 2019-03-14\n",
              "2: 2019-03-19\n",
              "3: 2019-03-20\n",
              "4: 2019-03-21\n",
              "5: 2019-03-25\n",
              "6: 2019-03-26\n"
            ]
          },
          "metadata": {
            "tags": []
          }
        }
      ]
    },
    {
      "cell_type": "code",
      "metadata": {
        "id": "1MFt8PvCgadc",
        "colab_type": "code",
        "outputId": "9a8547f1-9bfd-48e3-e48c-0d48caf2c688",
        "colab": {
          "base_uri": "https://localhost:8080/",
          "height": 140
        }
      },
      "source": [
        "%%R\n",
        "n=nrow(lin_gub_bmybdst_flibfwdspind) #Historia de todos\n",
        "\n",
        "\n",
        "#historia de curva gubernamental\n",
        "x_orig_gov=lin_gub_bmybdst_flibfwdspind[x_orig_gov,on=.(Date),nomatch=0][order(-Date)]\n",
        "x_orig_gov=x_orig_gov%>%select(-Date)\n",
        "\n",
        "#historia de curvas de forward tdc\n",
        "x1_ftdc=lin_gub_bmybdst_flibfwdspind[x1_ftdc,on=.(Date),nomatch=0][order(-Date)]\n",
        "x1_ftdc=x1_ftdc%>%select(-Date)/100\n",
        "x2_ftdc=lin_gub_bmybdst_flibfwdspind[x2_ftdc,on=.(Date),nomatch=0][order(-Date)]\n",
        "x2_ftdc=x2_ftdc%>%select(-Date)/100\n",
        "X3_ftdc=lin_gub_bmybdst_flibfwdspind[X3_ftdc,on=.(Date),nomatch=0][order(-Date)]\n",
        "X3_ftdc=X3_ftdc%>%select(-Date)\n",
        "\n",
        "#historia de curvas de forward ind\n",
        "#CONSIDERAR LA CURVA GUBERNAMENTAL X1_ORIG_GOV\n",
        "X3_find=lin_gub_bmybdst_flibfwdspind[X3_find,on=.(Date),nomatch=0][order(-Date)]\n",
        "X3_find=X3_find%>%select(-Date)\n",
        "print(head(X3_find))"
      ],
      "execution_count": 0,
      "outputs": [
        {
          "output_type": "display_data",
          "data": {
            "text/plain": [
              "        MXX\n",
              "1: 41607.42\n",
              "2: 42737.28\n",
              "3: 43045.68\n",
              "4: 43818.07\n",
              "5: 44802.54\n",
              "6: 44774.54\n"
            ]
          },
          "metadata": {
            "tags": []
          }
        }
      ]
    },
    {
      "cell_type": "markdown",
      "metadata": {
        "id": "yJIY0ubUg5gy",
        "colab_type": "text"
      },
      "source": [
        "Pasos para medir el riesgo por el método de Simulación Histórica\n",
        "Para todos los instrumentos hay que definir y calcular los siguientes elementos:\n",
        "1.Historico de factores de riesgo\n",
        "2.Vector de precios actual\n",
        "3.Valoración al día actual\n",
        "\n",
        "Forwards de tipo de cambio"
      ]
    },
    {
      "cell_type": "code",
      "metadata": {
        "id": "HCAG327ig6UZ",
        "colab_type": "code",
        "outputId": "f131c040-b447-4d52-894d-0c56e6241dd1",
        "colab": {
          "base_uri": "https://localhost:8080/",
          "height": 87
        }
      },
      "source": [
        "%%R\n",
        "#FORWARDS Y/O FUTUROS DE TIPO DE CAMBIO CÁLCULO\n",
        "\n",
        "################MATRICES DE INTERPOLACION LINEAL ####################\n",
        "\n",
        "m=ncol(plazos_fwd)\n",
        "X1_fwtdc=matrix(0,n,m)\n",
        "X2_fwtdc=matrix(0,n,m)\n",
        "print(m)\n",
        "for (j in 1:n)\n",
        "{\n",
        "  X1_fwtdc[j,]=if(itpl==0){approx(nodos1_ftdc,x1_ftdc[j,],plazos_fwd,rule=2)$y}else{talamb(nodos1_ftdc,x1_ftdc[j,],plazos_fwd)}\n",
        "  X2_fwtdc[j,]=if(itpl==0){approx(nodos2_ftdc,x2_ftdc[j,],plazos_fwd,rule=2)$y}else{talamb(nodos2_ftdc,x2_ftdc[j,],plazos_fwd)}\n",
        "  if(trlib==1){X1_fwtdc[j,]=((1+X1_fwtdc[j,])^(plazos_fwd/180)-1)*360/plazos_fwd} #transformación de act 180 a 360\n",
        "}\n",
        "\n",
        "\n",
        "futuroTC = function(t,tl,tn,s,k) #t=dias por vencer, tn=tasa nacional para tipo de cambio forward, tl= tasa extranjera pra tipo de cambio forward, S=spot\n",
        "{\n",
        "  f=s*((1+tn*t/360)/(1+tl*t/360)) #Se obtiene el tipo de cambio forward\n",
        "  t(as.numeric((f-k)/(1+t*tn/360))) #Se obtiene el valor del payoff a valor presente con el valor z que define si es largo o corto\n",
        "}\n",
        "\n",
        "X3_ftdc=as.matrix(X3_ftdc)\n",
        "X_futtdc=cbind(X1_fwtdc,X2_fwtdc,X3_ftdc)\n",
        "\n",
        "V0_fwtdc=futuroTC(plazos_fwd,X1_fwtdc[1,],X2_fwtdc[1,],X3_ftdc[1,],kst_fwd)*contratos_fwd*nominal_fwd\n",
        "print(class(V0_fwtdc))\n",
        "print(V0_fwtdc)\n",
        "#print(X_futtdc)"
      ],
      "execution_count": 0,
      "outputs": [
        {
          "output_type": "display_data",
          "data": {
            "text/plain": [
              "[1] 1\n",
              "[1] \"matrix\"\n",
              "          [,1]\n",
              "[1,] -53.23399\n"
            ]
          },
          "metadata": {
            "tags": []
          }
        }
      ]
    },
    {
      "cell_type": "markdown",
      "metadata": {
        "id": "Lq5Zjxmehd7K",
        "colab_type": "text"
      },
      "source": [
        "# Forward de índices"
      ]
    },
    {
      "cell_type": "code",
      "metadata": {
        "id": "ckVcB1_phejo",
        "colab_type": "code",
        "outputId": "2856510d-c708-4de9-d4d2-c25328a2b48b",
        "colab": {
          "base_uri": "https://localhost:8080/",
          "height": 70
        }
      },
      "source": [
        "%%R\n",
        "#FORWARDS Y/O FUTUROS DE ÍNDICES CÁLCULO\n",
        "\n",
        "################MATRICES DE INTERPOLACION LINEAL ####################\n",
        "\n",
        "m_ind=ncol(plazos_fwd_ind)\n",
        "X1_fwind=matrix(0,n,m_ind) #DIVIDENDOS\n",
        "X2_fwind=matrix(0,n,m_ind)\n",
        "\n",
        "for (j in 1:n)\n",
        "{\n",
        "  \n",
        "  X2_fwind[j,]=if(itpl==0){approx(nodos_gov,x_orig_gov[j,],plazos_fwd_ind,rule=2)$y}else{talamb(nodos_gov,x_orig_gov[j,],plazos_fwd_ind)}\n",
        "  if(trlib==1){X1_fwtdc[j,]=((1+X1_fwtdc[j,])^(plazos_fwd/180)-1)*360/plazos_fwd} #transformación de act 180 a 360\n",
        "}\n",
        "\n",
        "X3_find=as.matrix(X3_find)\n",
        "X_futind=cbind(X1_fwind,X2_fwind,matrix(X3_find,n,ncol(X1_fwind)))\n",
        "\n",
        "V0_fwind=futuroTC(plazos_fwd_ind,X1_fwind[1,],X2_fwind[1,],X3_find[1,],kst_fwd_ind)*contratos_fwd_ind*nominal_fwd_ind\n",
        "\n",
        "print(V0_fwind)\n",
        "print(class(V0_fwind))"
      ],
      "execution_count": 0,
      "outputs": [
        {
          "output_type": "display_data",
          "data": {
            "text/plain": [
              "        [,1]\n",
              "[1,] 4528398\n",
              "[1] \"matrix\"\n"
            ]
          },
          "metadata": {
            "tags": []
          }
        }
      ]
    },
    {
      "cell_type": "markdown",
      "metadata": {
        "id": "P0hwRM5jhl4k",
        "colab_type": "text"
      },
      "source": [
        "## Integración de factores y cálculo de riesgo en conjunto, y aplicación de simulación"
      ]
    },
    {
      "cell_type": "code",
      "metadata": {
        "id": "hbLy5ASPhmZU",
        "colab_type": "code",
        "outputId": "29bec5ae-b865-4ec2-f2ef-a265f1e403cf",
        "colab": {
          "base_uri": "https://localhost:8080/",
          "height": 70
        }
      },
      "source": [
        "%%R\n",
        "#DIMENSION DE TODOS LOS INSTRUMENTOS\n",
        "#Son 2 instrumentos financieros \n",
        "n_if=matrix(0,2,1)\n",
        "n_if[1]=ncol(X_futtdc) #fwd tdc\n",
        "n_if[2]=ncol(X_futind) #fwd ind\n",
        "\n",
        "#valor del portafolios\n",
        "\n",
        "V0_port=cbind(V0_fwtdc, V0_fwind)\n",
        "V0T_port=sum(V0_port)\n",
        "\n",
        "print(V0T_port)\n",
        "\n",
        "#INTEGRACIÓN DE TODOS LOS FACTORES DE RIESGO EN UNA MATRIZ\n",
        "X_port=cbind(X_futtdc,X_futind) #Factores de riesgo del portafolios\n",
        "\n",
        "\n",
        "#Cálculo de variaciones Delta_X DEL PORTAFOLIOS\n",
        "DeltaX_port=as.matrix(log(X_port[1:(n-1),]/X_port[2:(n),]))\n",
        "DeltaX_port[is.nan(DeltaX_port)] <- 0 #quitamos NaN\n",
        "DeltaX_port[is.na(DeltaX_port)] <- 0 #quitamos Na\n",
        "DeltaX_port[is.infinite(DeltaX_port)] <- 0 #quitamos Na\n",
        "\n",
        "\n",
        "Ns=nrow(DeltaX_port) #Definimos número de simulaciones\n",
        "alpha=0.98 #Nivel de Confianza para las medidas de riesgo\n",
        "\n",
        "DeltaX_s=DeltaX_port\n",
        "print(V0_port)\n",
        "#print(class(V0T_port))"
      ],
      "execution_count": 0,
      "outputs": [
        {
          "output_type": "display_data",
          "data": {
            "text/plain": [
              "[1] 4528345\n",
              "          [,1]    [,2]\n",
              "[1,] -53.23399 4528398\n"
            ]
          },
          "metadata": {
            "tags": []
          }
        }
      ]
    },
    {
      "cell_type": "markdown",
      "metadata": {
        "id": "6mPSgk9ZhsQ1",
        "colab_type": "text"
      },
      "source": [
        "# Medición de Riesgo"
      ]
    },
    {
      "cell_type": "markdown",
      "metadata": {
        "id": "BfAXDUVShvdf",
        "colab_type": "text"
      },
      "source": [
        "## Riesgo Forward TdC"
      ]
    },
    {
      "cell_type": "code",
      "metadata": {
        "id": "9X0JMEuLhxYo",
        "colab_type": "code",
        "outputId": "ccfeaff8-ef9a-4541-cd1b-a0ebb8c59cb8",
        "colab": {
          "base_uri": "https://localhost:8080/",
          "height": 87
        }
      },
      "source": [
        "%%R\n",
        "#Cálculo de matriz de pérdidas y ganancias FUTUROS TDC\n",
        "#dimensión\n",
        "m=ncol(plazos_fwd)  #PASO CLAVE\n",
        "X_s_fwtdc=matrix(0,Ns,n_if[1]) #Factores de riesgo simulados con base en DeltaX_s x0*(1+Delta_Xs) #PASO CLAVE\n",
        "V_fwtdc=matrix(0,Ns,m)\n",
        "Vfr1_fwtdc=matrix(0,Ns,m) # valor parcial del forward ante cambios en la libor\n",
        "Vfr2_fwtdc=matrix(0,Ns,m) #forward\n",
        "Vfr3_fwtdc=matrix(0,Ns,m) #spot\n",
        "PG_fwtdc=matrix(0,Ns,m) #Pèrdidas y ganancias\n",
        "PGfr1_fwtdc=matrix(0,Ns,m)\n",
        "PGfr2_fwtdc=matrix(0,Ns,m)\n",
        "PGfr3_fwtdc=matrix(0,Ns,m)\n",
        "PGT_fwtdc=matrix(0,Ns,1)\n",
        "PGfr1T_fwtdc=matrix(0,Ns,1)\n",
        "PGfr2T_fwtdc=matrix(0,Ns,1)\n",
        "PGfr3T_fwtdc=matrix(0,Ns,1)\n",
        "\n",
        "DeltaX_s_fwtdc=DeltaX_s[,1:(n_if[1])]  #PASO CLAVE\n",
        "x0_fwtdc=X_futtdc[1,] #PASO CLAVE\n",
        "\n",
        "for (i in 1:Ns)\n",
        "{\n",
        "  X_s_fwtdc[i,]=x0_fwtdc*(1+DeltaX_s_fwtdc[i,])\n",
        "  #PASO CLAVE\n",
        "  V_fwtdc[i,]=futuroTC(plazos_fwd,X_s_fwtdc[i,1:((n_if[1]-1)/2)],X_s_fwtdc[i,((n_if[1]-1)/2+1):(n_if[1]-1)],X_s_fwtdc[i,(n_if[1])],kst_fwd)*contratos_fwd*nominal_fwd     \n",
        "  #PASO CLAVE\n",
        "  Vfr1_fwtdc[i,]=futuroTC(plazos_fwd,X_s_fwtdc[i,1:((n_if[1]-1)/2)],x0_fwtdc[((n_if[1]-1)/2+1):(n_if[1]-1)],x0_fwtdc[(n_if[1])],kst_fwd)*contratos_fwd*nominal_fwd\n",
        "  #PASO CLAVE\n",
        "  Vfr2_fwtdc[i,]=futuroTC(plazos_fwd,x0_fwtdc[1:((n_if[1]-1)/2)],X_s_fwtdc[i,((n_if[1]-1)/2+1):(n_if[1]-1)],x0_fwtdc[(n_if[1])],kst_fwd)*contratos_fwd*nominal_fwd\n",
        "  #PASO CLAVE\n",
        "  Vfr3_fwtdc[i,]=futuroTC(plazos_fwd,x0_fwtdc[1:((n_if[1]-1)/2)],x0_fwtdc[((n_if[1]-1)/2+1):(n_if[1]-1)],X_s_fwtdc[i,(n_if[1])],kst_fwd)*contratos_fwd*nominal_fwd\n",
        "  PG_fwtdc[i,]=V_fwtdc[i,]-V0_fwtdc\n",
        "  PGfr1_fwtdc[i,]=Vfr1_fwtdc[i,]-V0_fwtdc\n",
        "  PGfr2_fwtdc[i,]=Vfr2_fwtdc[i,]-V0_fwtdc\n",
        "  PGfr3_fwtdc[i,]=Vfr3_fwtdc[i,]-V0_fwtdc\n",
        "  PGT_fwtdc[i,]=sum(PG_fwtdc[i,])\n",
        "  PGfr1T_fwtdc[i,]=sum(PGfr1_fwtdc[i,])\n",
        "  PGfr2T_fwtdc[i,]=sum(PGfr2_fwtdc[i,])\n",
        "  PGfr3T_fwtdc[i,]=sum(PGfr3_fwtdc[i,])\n",
        "}\n",
        "\n",
        "\n",
        "\n",
        "PG_fwtdc[1:5,]\n",
        "PGfr1_fwtdc[1:5,]\n",
        "PGfr2_fwtdc[1:5,]\n",
        "PGT_fwtdc[1:5,]\n",
        "\n",
        "\n",
        "#VaR por posición\n",
        "VaRCont_fwtdc=matrix(0,1,m)\n",
        "VaRfr1_fwtdc=matrix(0,1,m)\n",
        "VaRfr2_fwtdc=matrix(0,1,m)\n",
        "VaRfr3_fwtdc=matrix(0,1,m)\n",
        "CVaRCont_fwtdc=matrix(0,1,m)\n",
        "CVaRfr1_fwtdc=matrix(0,1,m)\n",
        "CVaRfr2_fwtdc=matrix(0,1,m)\n",
        "CVaRfr3_fwtdc=matrix(0,1,m)\n",
        "for (i in (1:m))\n",
        "{\n",
        "  VaRCont_fwtdc[i]=quantile(PG_fwtdc[,i],1-alpha,Ns)\n",
        "  VaRfr1_fwtdc[i]=quantile(PGfr1_fwtdc[,i],1-alpha,Ns)\n",
        "  VaRfr2_fwtdc[i]=quantile(PGfr2_fwtdc[,i],1-alpha,Ns)\n",
        "  VaRfr3_fwtdc[i]=quantile(PGfr3_fwtdc[,i],1-alpha,Ns)\n",
        "  CVaRfr1_fwtdc[i]= mean(merge(which(PGfr1_fwtdc[,i]<VaRfr1_fwtdc[i]),cbind(seq(1,Ns),PGfr1_fwtdc[,i]), by.x=1,by.y=1)[,2])\n",
        "  CVaRfr2_fwtdc[i]= mean(merge(which(PGfr2_fwtdc[,i]<VaRfr2_fwtdc[i]),cbind(seq(1,Ns),PGfr2_fwtdc[,i]), by.x=1,by.y=1)[,2])\n",
        "  CVaRfr3_fwtdc[i]= mean(merge(which(PGfr3_fwtdc[,i]<VaRfr3_fwtdc[i]),cbind(seq(1,Ns),PGfr3_fwtdc[,i]), by.x=1,by.y=1)[,2])\n",
        "  CVaRCont_fwtdc[i]= mean(merge(which(PG_fwtdc[,i]<VaRCont_fwtdc[i]),cbind(seq(1,Ns),PG_fwtdc[,i]), by.x=1,by.y=1)[,2])\n",
        "}\n",
        "\n",
        "VaRCont_fwtdc\n",
        "VaRfr1_fwtdc\n",
        "VaRfr2_fwtdc\n",
        "CVaRCont_fwtdc\n",
        "CVaRfr1_fwtdc\n",
        "CVaRfr2_fwtdc\n",
        "\n",
        "\n",
        "#VaR Total\n",
        "VaRTotal_fwtdc=quantile(PGT_fwtdc,1-alpha,Ns)\n",
        "CVaRTotal_fwtdc= mean(merge(which(PGT_fwtdc<VaRTotal_fwtdc),cbind(seq(1,Ns),PGT_fwtdc), by.x=1,by.y=1)[,2])\n",
        "VaRTotalfr1_fwtdc=quantile(PGfr1T_fwtdc,1-alpha,Ns)\n",
        "CVaRTotalfr1_fwtdc= mean(PGfr1T_fwtdc[which(PGfr1T_fwtdc<VaRTotalfr1_fwtdc),])\n",
        "VaRTotalfr2_fwtdc=quantile(PGfr2T_fwtdc,1-alpha,Ns)\n",
        "CVaRTotalfr2_fwtdc= mean(PGfr2T_fwtdc[which(PGfr2T_fwtdc<VaRTotalfr2_fwtdc),])\n",
        "VaRTotalfr3_fwtdc=quantile(PGfr3T_fwtdc,1-alpha,Ns)\n",
        "CVaRTotalfr3_fwtdc= mean(PGfr3T_fwtdc[which(PGfr2T_fwtdc<VaRTotalfr2_fwtdc),])\n",
        "\n",
        "\n",
        "cbind(VaRTotal_fwtdc,sum(V0_fwtdc), VaRCont_fwtdc, V0_fwtdc)\n",
        "cbind(CVaRTotal_fwtdc,sum(V0_fwtdc), CVaRCont_fwtdc, V0_fwtdc)\n",
        "print(cbind(VaRTotal_fwtdc,VaRTotalfr1_fwtdc,VaRTotalfr2_fwtdc,VaRTotalfr3_fwtdc))\n",
        "print(cbind(CVaRTotal_fwtdc,CVaRTotalfr1_fwtdc,CVaRTotalfr2_fwtdc,CVaRTotalfr3_fwtdc))\n",
        "\n",
        "#print(PG_fwtdc)"
      ],
      "execution_count": 0,
      "outputs": [
        {
          "output_type": "display_data",
          "data": {
            "text/plain": [
              "   VaRTotal_fwtdc VaRTotalfr1_fwtdc VaRTotalfr2_fwtdc VaRTotalfr3_fwtdc\n",
              "2%      -20.96141        -0.0074393       -0.01657155         -20.96879\n",
              "     CVaRTotal_fwtdc CVaRTotalfr1_fwtdc CVaRTotalfr2_fwtdc CVaRTotalfr3_fwtdc\n",
              "[1,]       -29.36882        -0.01356686        -0.02155012            -3.0811\n"
            ]
          },
          "metadata": {
            "tags": []
          }
        }
      ]
    },
    {
      "cell_type": "markdown",
      "metadata": {
        "id": "8AOEJ929OC6r",
        "colab_type": "text"
      },
      "source": [
        "La distancia entre CVaR y VaR puede que no sea tanta como en otros csos anteriormente vistos pero todavía puede considerarse una diferencia importante."
      ]
    },
    {
      "cell_type": "markdown",
      "metadata": {
        "id": "xyyPS8RfiO8r",
        "colab_type": "text"
      },
      "source": [
        "## Riesgo Forwards Índices"
      ]
    },
    {
      "cell_type": "code",
      "metadata": {
        "id": "p1-6QNfDlD24",
        "colab_type": "code",
        "outputId": "57ad95ea-feb0-435f-dcfc-3fa0abef1142",
        "colab": {
          "base_uri": "https://localhost:8080/",
          "height": 157
        }
      },
      "source": [
        "%%R\n",
        "#Cálculo de matriz de pérdidas y ganancias FUTUROS IPC\n",
        "m=ncol(plazos_fwd_ind)  #PASO CLAVE\n",
        "X_s_fwind=matrix(0,Ns,n_if[2]) #Factores de riesgo simulados con base en DeltaX_s x0*(1+Delta_Xs) #PASO CLAVE\n",
        "V_fwind=matrix(0,Ns,m)\n",
        "Vfr1_fwind=matrix(0,Ns,m)\n",
        "Vfr2_fwind=matrix(0,Ns,m)\n",
        "Vfr3_fwind=matrix(0,Ns,m)\n",
        "PG_fwind=matrix(0,Ns,m) #Pèrdidas y ganancias\n",
        "PGfr1_fwind=matrix(0,Ns,m)\n",
        "PGfr2_fwind=matrix(0,Ns,m)\n",
        "PGfr3_fwind=matrix(0,Ns,m)\n",
        "PGT_fwind=matrix(0,Ns,1)\n",
        "PGfr1T_fwind=matrix(0,Ns,1)\n",
        "PGfr2T_fwind=matrix(0,Ns,1)\n",
        "PGfr3T_fwind=matrix(0,Ns,1)\n",
        "\n",
        "DeltaX_s_fwind=DeltaX_s[,sum(n_if[1],1):sum(n_if[1:2])]  #PASO CLAVE\n",
        "x0_fwind=X_futind[1,] #PASO CLAVE\n",
        "\n",
        "\n",
        "for (i in 1:Ns)\n",
        "{\n",
        "  X_s_fwind[i,]=x0_fwind*(1+DeltaX_s_fwind[i,])\n",
        "  #PASO CLAVE\n",
        "  V_fwind[i,]=futuroTC(plazos_fwd_ind,X_s_fwind[i,1:(n_if[2]/3)],X_s_fwind[i,(n_if[2]/3+1):(n_if[2]*2/3)],X_s_fwind[i,(n_if[2]*2/3+1):n_if[2]],kst_fwd_ind)*contratos_fwd_ind*nominal_fwd_ind     \n",
        "  Vfr1_fwind[i,]=futuroTC(plazos_fwd_ind,X_s_fwind[i,1:(n_if[2]/3)],x0_fwind[(n_if[2]/3+1):(n_if[2]*2/3)],x0_fwind[(n_if[2]*2/3+1):n_if[2]],kst_fwd_ind)*contratos_fwd_ind*nominal_fwd_ind\n",
        "  #PASO CLAVE\n",
        "  Vfr2_fwind[i,]=futuroTC(plazos_fwd_ind,x0_fwind[1:(n_if[2]/3)],X_s_fwind[i,(n_if[2]/3+1):(n_if[2]*2/3)],x0_fwind[(n_if[2]*2/3+1):n_if[2]],kst_fwd_ind)*contratos_fwd_ind*nominal_fwd_ind\n",
        "  #PASO CLAVE\n",
        "  Vfr3_fwind[i,]=futuroTC(plazos_fwd_ind,x0_fwind[1:(n_if[2]/3)],x0_fwind[(n_if[2]/3+1):(n_if[2]*2/3)],X_s_fwind[i,(n_if[2]*2/3+1):n_if[2]],kst_fwd_ind)*contratos_fwd_ind*nominal_fwd_ind\n",
        "  PG_fwind[i,]=V_fwind[i,]-V0_fwind\n",
        "  PGfr1_fwind[i,]=Vfr1_fwind[i,]-V0_fwind\n",
        "  PGfr2_fwind[i,]=Vfr2_fwind[i,]-V0_fwind\n",
        "  PGfr3_fwind[i,]=Vfr3_fwind[i,]-V0_fwind\n",
        "  PGT_fwind[i,]=sum(PG_fwind[i,])\n",
        "  PGfr1T_fwind[i,]=sum(PGfr1_fwind[i,])\n",
        "  PGfr2T_fwind[i,]=sum(PGfr2_fwind[i,])\n",
        "  PGfr3T_fwind[i,]=sum(PGfr3_fwind[i,])\n",
        "}\n",
        "\n",
        "\n",
        "PG_fwind[1:5,]\n",
        "#PGfr1_fwind[1:5,]\n",
        "#PGfr2_fwind[1:5,]\n",
        "#PGT_fwind[1:5,]\n",
        "\n",
        "\n",
        "\n",
        "#VaR por posición\n",
        "VaRCont_fwind=matrix(0,1,m)\n",
        "VaRfr1_fwind=matrix(0,1,m)\n",
        "VaRfr2_fwind=matrix(0,1,m)\n",
        "VaRfr3_fwind=matrix(0,1,m)\n",
        "CVaRCont_fwind=matrix(0,1,m)\n",
        "CVaRfr1_fwind=matrix(0,1,m)\n",
        "CVaRfr2_fwind=matrix(0,1,m)\n",
        "CVaRfr3_fwind=matrix(0,1,m)\n",
        "for (i in (1:m))\n",
        "{\n",
        "  VaRCont_fwind[i]=quantile(PG_fwind[,i],1-alpha,Ns)\n",
        "  VaRfr1_fwind[i]=quantile(PGfr1_fwind[,i],1-alpha,Ns)\n",
        "  VaRfr2_fwind[i]=quantile(PGfr2_fwind[,i],1-alpha,Ns)\n",
        "  VaRfr3_fwind[i]=quantile(PGfr3_fwind[,i],1-alpha,Ns)\n",
        "  CVaRfr1_fwind[i]= mean(merge(which(PGfr1_fwind[,i]<VaRfr1_fwind[i]),cbind(seq(1,Ns),PGfr1_fwind[,i]), by.x=1,by.y=1)[,2])\n",
        "  CVaRfr2_fwind[i]= mean(merge(which(PGfr2_fwind[,i]<VaRfr2_fwind[i]),cbind(seq(1,Ns),PGfr2_fwind[,i]), by.x=1,by.y=1)[,2])\n",
        "  CVaRfr3_fwind[i]= mean(merge(which(PGfr3_fwind[,i]<VaRfr3_fwind[i]),cbind(seq(1,Ns),PGfr3_fwind[,i]), by.x=1,by.y=1)[,2])\n",
        "  CVaRCont_fwind[i]= mean(merge(which(PG_fwind[,i]<VaRCont_fwind[i]),cbind(seq(1,Ns),PG_fwind[,i]), by.x=1,by.y=1)[,2])\n",
        "}\n",
        "VaRCont_fwind\n",
        "VaRfr1_fwind\n",
        "VaRfr2_fwind\n",
        "CVaRCont_fwind\n",
        "CVaRfr1_fwind\n",
        "CVaRfr2_fwind\n",
        "\n",
        "\n",
        "#VaR Total\n",
        "\n",
        "VaRTotal_fwind=quantile(PGT_fwind,1-alpha,Ns)\n",
        "CVaRTotal_fwind= mean(merge(which(PGT_fwind<VaRTotal_fwind),cbind(seq(1,Ns),PGT_fwind), by.x=1,by.y=1)[,2])\n",
        "VaRTotalfr1_fwind=quantile(PGfr1T_fwind,1-alpha,Ns)\n",
        "CVaRTotalfr1_fwind= mean(PGfr1T_fwind[which(PGfr1T_fwind<VaRTotalfr1_fwind),])\n",
        "VaRTotalfr2_fwind=quantile(PGfr2T_fwind,1-alpha,Ns)\n",
        "CVaRTotalfr2_fwind= mean(PGfr2T_fwind[which(PGfr2T_fwind<VaRTotalfr2_fwind),])\n",
        "VaRTotalfr3_fwind=quantile(PGfr3T_fwind,1-alpha,Ns)\n",
        "CVaRTotalfr3_fwind= mean(PGfr3T_fwind[which(PGfr3T_fwind<VaRTotalfr3_fwind),])\n",
        "\n",
        "\n",
        "print(cbind(VaRTotal_fwind,sum(V0_fwind), VaRCont_fwind, V0_fwind))\n",
        "print(cbind(CVaRTotal_fwind,sum(V0_fwind), CVaRCont_fwind, V0_fwind))\n",
        "print(cbind(VaRTotal_fwind,VaRTotalfr1_fwind,VaRTotalfr2_fwind,VaRTotalfr3_fwind))\n",
        "print(cbind(CVaRTotal_fwind,CVaRTotalfr1_fwind,CVaRTotalfr2_fwind,CVaRTotalfr3_fwind))\n",
        "\n",
        "#print(m)"
      ],
      "execution_count": 0,
      "outputs": [
        {
          "output_type": "display_data",
          "data": {
            "text/plain": [
              "   VaRTotal_fwind                          \n",
              "2%      -44765.96 4528398 -44765.96 4528398\n",
              "     CVaRTotal_fwind                          \n",
              "[1,]       -48207.43 4528398 -48207.43 4528398\n",
              "   VaRTotal_fwind VaRTotalfr1_fwind VaRTotalfr2_fwind VaRTotalfr3_fwind\n",
              "2%      -44765.96                 0         -477.6108         -44836.01\n",
              "     CVaRTotal_fwind CVaRTotalfr1_fwind CVaRTotalfr2_fwind CVaRTotalfr3_fwind\n",
              "[1,]       -48207.43                NaN          -644.4458          -48196.87\n"
            ]
          },
          "metadata": {
            "tags": []
          }
        }
      ]
    },
    {
      "cell_type": "markdown",
      "metadata": {
        "id": "NjeaZ7bmibI9",
        "colab_type": "text"
      },
      "source": [
        "### Riesgo integral\n",
        "## **VaR sin alisado**"
      ]
    },
    {
      "cell_type": "code",
      "metadata": {
        "id": "-Q14QHR1mCZ2",
        "colab_type": "code",
        "outputId": "1acc9dd5-7dea-4bdf-d03e-e4108fb3c2a7",
        "colab": {
          "base_uri": "https://localhost:8080/",
          "height": 87
        }
      },
      "source": [
        "%%R\n",
        "\n",
        "\n",
        "#Medición de riesgo por factor de riesgo de todo el portafolios\n",
        "\n",
        "#1. Forward TDC \n",
        "#2. Forward de IPC\n",
        "PGPort_ACC= PGfr3T_fwind #Pérdidas y ganancias\n",
        "VaRPort_ACC=quantile(PGPort_ACC,1-alpha,Ns) #VaR\n",
        "CVaRPort_ACC= mean(PGPort_ACC[which(PGPort_ACC<VaRPort_ACC)]) #CVaR\n",
        "\n",
        "\n",
        "#Tasa de Interés\n",
        "#1. Dado que swaps y bondes son de tasa de interés usaremos PGT_bd y PGT_sw\n",
        "#2. Para futuros usaremos PGfr1T_fwtdc y PGfr2T_fwtdc\n",
        "PGPort_TI=PGfr1T_fwtdc+PGfr2T_fwtdc +PGfr2T_fwind #Pérdidas y ganancias\n",
        "VaRPort_TI=quantile(PGPort_TI,1-alpha,Ns) #VaR\n",
        "CVaRPort_TI= mean(PGPort_TI[which(PGPort_TI<VaRPort_TI)]) #CVaR\n",
        "\n",
        "#Tipo de cambio\n",
        "#1. Dado que swaps y bondes son de tasa de interés no usamos nada\n",
        "#2. Para futuros usamos sólo PGfr3T_fwtdc\n",
        "PGPort_TDC=PGfr3T_fwtdc  #Pérdidas y ganancias\n",
        "VaRPort_TDC=quantile(PGPort_TDC,1-alpha,Ns) #VaR\n",
        "CVaRPort_TDC= mean(PGPort_TDC[which(PGPort_TDC<VaRPort_TDC)]) #CVaR\n",
        "\n",
        "\n",
        "#Medición de riesgo de todo el portafolios\n",
        "#Sumar todos los PGT de todos los instrumentos\n",
        "\n",
        "PGT_Port=PGPort_ACC+PGPort_TI+PGPort_TDC\n",
        "VaRTotal_Port=quantile(PGT_Port,1-alpha,Ns) #VaR\n",
        "CVaRTotal_Port= mean(PGT_Port[which(PGT_Port<VaRTotal_Port)]) #CVaR\n",
        "print(VaRTotal_Port)\n",
        "print(CVaRTotal_Port)\n",
        "print(V0T_port)\n",
        "#print(PGT_Port[1,1])\n",
        "#print(PGT_Port)\n",
        "#print(length(PGT_Port))"
      ],
      "execution_count": 0,
      "outputs": [
        {
          "output_type": "display_data",
          "data": {
            "text/plain": [
              "       2% \n",
              "-44752.52 \n",
              "[1] -48198.13\n",
              "[1] 4528345\n"
            ]
          },
          "metadata": {
            "tags": []
          }
        }
      ]
    },
    {
      "cell_type": "markdown",
      "metadata": {
        "id": "ZdKHFfKEyfSM",
        "colab_type": "text"
      },
      "source": [
        "##**VaR con alisado**\n"
      ]
    },
    {
      "cell_type": "code",
      "metadata": {
        "id": "Z-pOvzMEylPp",
        "colab_type": "code",
        "colab": {}
      },
      "source": [
        "%%R\n",
        "#Medidas de riesgo CON alisado\n",
        "\n",
        "#Se necesita definir\n",
        "#1) El valor del peso inicial del primer escenario \"w0\"\n",
        "#2) La función de cuantil con vector de probabilidades no iguales\n",
        "#3) La función de CVaR con probabilidades no iguales\n",
        "\n",
        "#w0=0.05\n",
        "\n",
        "#Creación de dos funciones que sirven para este fin\n",
        "# Percentil con pesos de probabilidades\n",
        "# \n",
        "# v  un vector de observaciones\n",
        "# w Un vector numérico de valores positivos, en general es la distrubición.\n",
        "# p  el valor de la probabilidad entre 0 y 1.\n",
        "# \n",
        "# Esta función no interpola\n",
        "\n",
        "w0<-0.05\n",
        "\n",
        "wquantile <- function(v,w=rep(1,length(v)),p=.5) \n",
        "{ \n",
        "  if ( !is.numeric(w) || length(v) != length(w) ) \n",
        "    stop(\"Los valores y los pesos tienen que tener misma longitud\") \n",
        "  if ( !is.numeric(p) || any( p<0 | p>1) ) \n",
        "    stop(\"Percentil tiene que ser 0<=p<=1\") \n",
        "  if ( min(w) < 0 ) stop(\"Los pesos tiene que ser mayores que 0\") \n",
        "  ranking <- order(v) \n",
        "  sumw <- cumsum(w[ranking]) \n",
        "  plist <- sumw / sumw[ length(sumw) ] \n",
        "  v [ ranking [ which.max( plist >= p ) ] ]  \n",
        "} \n",
        "\n",
        "#CVaR con alisado\n",
        "wcvar <- function(v,w=rep(1,length(v)),p=.5) \n",
        "{ \n",
        "  if ( !is.numeric(w) || length(v) != length(w) ) \n",
        "    stop(\"Los valores y los pesos tienen que tener misma longitud\") \n",
        "  if ( !is.numeric(p) || any( p<0 | p>1) ) \n",
        "    stop(\"Percentil tiene que ser 0<=p<=1\") \n",
        "  if ( min(w) < 0 ) stop(\"Los pesos tiene que ser mayores que 0\") \n",
        "  ranking <- order(v) \n",
        "  sumw <- cumsum(w[ranking]) \n",
        "  plist <- sumw / sumw[ length(sumw) ] \n",
        "  loss= v [ ranking [ which( plist < p ) ] ]  \n",
        "  esc=w [ ranking [ which( plist < p ) ] ]  \n",
        "  sum(loss*esc)/(sum(esc))\n",
        "} \n",
        "\n",
        "\n"
      ],
      "execution_count": 0,
      "outputs": []
    },
    {
      "cell_type": "code",
      "metadata": {
        "id": "5dHPxR-O0sC8",
        "colab_type": "code",
        "outputId": "06adf731-8dd3-4aff-f4db-5ecf850f3dcc",
        "colab": {
          "base_uri": "https://localhost:8080/",
          "height": 105
        }
      },
      "source": [
        "%%R\n",
        "lambda =uniroot(function(x) w0*(1-x^(n))/(1-x)-1, c(0,0.99), tol = 1e-28)$root\n",
        "print(lambda)\n",
        "\n",
        "#generamos la función que genera \"n\" escenarios con base en w0 y lambda\n",
        "genera_esc=function(lamda,w0,n)\n",
        "{\n",
        "  p_esc=matrix(0,n,1)\n",
        "  for (i in (1:n))\n",
        "  {\n",
        "    p_esc[i]=w0*lambda^(i-1)\n",
        "  }\n",
        "  p_esc\n",
        "}\n",
        "\n",
        "p_esc=genera_esc(lambda,w0,n-1)\n",
        "t(p_esc[1:10])\n",
        "sum(p_esc) #validamos que sume 1\n",
        "#print(p_esc)\n",
        "#Creamos las cajas de VaR y CVaR con alisado\n",
        "VaRca=matrix(0,1,ncol(PGT_Port))\n",
        "CVaRca=matrix(0,1,ncol(PGT_Port))\n",
        "print(ncol(PGT_Port))\n",
        "print(len(pos_fx))\n",
        "#print(pos_eq)\n",
        "print(class(V0T_port))\n",
        "#(1:(len(pos_fx)) + 1\n",
        "print((1:len(pos_fx))+1)\n",
        "\n",
        "\n",
        "#print(V0)\n",
        "#print(class(V0))\n",
        "#V0<-as.matrix(V0)\n",
        "#print(V0[1,2])"
      ],
      "execution_count": 0,
      "outputs": [
        {
          "output_type": "display_data",
          "data": {
            "text/plain": [
              "[1] 0.9500003\n",
              "[1] 1\n",
              "[1] 1\n",
              "[1] \"numeric\"\n",
              "[1] 2\n"
            ]
          },
          "metadata": {
            "tags": []
          }
        }
      ]
    },
    {
      "cell_type": "code",
      "metadata": {
        "id": "VgPqGE1YS7rz",
        "colab_type": "code",
        "outputId": "e141cbe9-8ddb-423f-8c4d-4f7fc61add32",
        "colab": {
          "base_uri": "https://localhost:8080/",
          "height": 157
        }
      },
      "source": [
        "%%R\n",
        "lambda =uniroot(function(x) w0*(1-x^(n))/(1-x)-1, c(0,0.99), tol = 1e-28)$root\n",
        "print(lambda)\n",
        "\n",
        "#generamos la función que genera \"n\" escenarios con base en w0 y lambda\n",
        "genera_esc=function(lamda,w0,n)\n",
        "{\n",
        "  p_esc=matrix(0,n,1)\n",
        "  for (i in (1:n))\n",
        "  {\n",
        "    p_esc[i]=w0*lambda^(i-1)\n",
        "  }\n",
        "  p_esc\n",
        "}\n",
        "\n",
        "p_esc=genera_esc(lambda,w0,n-1)\n",
        "t(p_esc[1:10])\n",
        "sum(p_esc) #validamos que sume 1\n",
        "#print(p_esc)\n",
        "#Creamos las cajas de VaR y CVaR con alisado\n",
        "VaRca=matrix(0,1,ncol(PGT_Port))\n",
        "CVaRca=matrix(0,1,ncol(PGT_Port))\n",
        "\n",
        "#IMPORTANTE: VALIDAR QUE SE TENGA EL MISMO ORDEN DE ESCENARIOS, ES POR ESO QUE METEMOS P_ESC[ORDER(P_ESC)]\n",
        "#for (j in (1:m))  \n",
        "for (j in 1:m)   #**************************************************************************\n",
        "{\n",
        "  VaRca[j]=wquantile(as.matrix(PGT_Port[,j]), p_esc[order(p_esc)], 1-alpha)\n",
        "  CVaRca[j]=wcvar(as.matrix(PGT_Port[,j]), as.matrix(p_esc[order(p_esc)]), 1-alpha)\n",
        "}\n",
        "\n",
        "#Resumen medidas de riesgo por posición\n",
        "VaRca=as.data.table(VaRca)\n",
        "CVaRca=as.data.table(CVaRca)\n",
        "#print(VaRca)\n",
        "#print(CVaRca)\n",
        "#valores absolutos con respecto al portafolio sin alisado\n",
        "x0<-X3_find #*********************************************************************************\n",
        "#V0 <- V0T_port #******************************************************************************\n",
        "V0 <- c(V0_fwtdc,V0_fwind) #*****************************************************************\n",
        "V0<- matrix(V0,nrow=1 ,ncol=2)\n",
        "names(VaRca)=names(x0)\n",
        "names(CVaRca)=names(x0)\n",
        "VaRca/abs(as.matrix(V0))\n",
        "CVaRca/abs(as.matrix(V0))\n",
        "#print(V0)\n",
        "#medias de riesgo por factor de riesgo acciones y divisas\n",
        "\n",
        "VaRfrca=matrix(0,1,2) \n",
        "CVaRfrca=matrix(0,1,2) \n",
        "\n",
        "#for (j in (1:2)) \n",
        "for (j in 1:1) #***************************************************************************\n",
        "{\n",
        "  VaRfrca[j]=wquantile(as.matrix(PGT_Port[,j]), p_esc[order(p_esc)], 1-alpha)\n",
        "  CVaRfrca[j]= wcvar(as.matrix(PGT_Port[,j]), as.matrix(p_esc[order(p_esc)]), 1-alpha)\n",
        "}\n",
        "\n",
        "\n",
        "\n",
        "VaRfrca=as.data.table(VaRfrca)\n",
        "CVaRfrca=as.data.table(CVaRfrca)\n",
        "\n",
        "names(VaRfrca)=c(\"divisas\", \"acciones\")\n",
        "names(CVaRfrca)=c(\"divisas\", \"acciones\")\n",
        "\n",
        "#VALORES ABSOLUTOS                #V0[,(1:len(pos_fx)+1)]\n",
        "VaRfrca/c(abs(as.matrix(sum(V0[,(1:(len(pos_fx))+1)]))),abs(as.matrix(sum(V0[,(len(pos_fx)+1):(len(pos_eq)+len(pos_fx))]))))\n",
        "CVaRfrca/c(abs(as.matrix(sum(V0[,(1:(len(pos_fx))+1)]))),abs(as.matrix(sum(V0[,(len(pos_fx)+1):(len(pos_eq)+len(pos_fx))]))))\n",
        "\n",
        "\n",
        "VaRcaT=wquantile(as.matrix(PGT_Port), p_esc[order(p_esc)], 1-alpha)\n",
        "CVaRcaT=wcvar(as.matrix(PGT_Port), p_esc[order(p_esc)], 1-alpha)\n",
        "\n",
        "\n",
        "VaRCont <- VaRTotal_Port\n",
        "CVaRCont <- CVaRTotal_Port\n",
        "V0\n",
        "VaRCont/abs(as.matrix(V0))\n",
        "VaRca/abs(as.matrix(V0))\n",
        "CVaRCont/abs(as.matrix(V0))\n",
        "CVaRca/abs(as.matrix(V0))\n",
        "\n",
        "\n",
        "#c(sum(V0[,1:3]),sum(V0[,4:5]))           #*******************************************************************************\n",
        "#VaRfr/c(abs(as.matrix(sum(V0[,1:3]))),abs(as.matrix(sum(V0[,4:5]))))\n",
        "#VaRfrca/c(abs(as.matrix(sum(V0[,1:3]))),abs(as.matrix(sum(V0[,4:5]))))\n",
        "#CVaRfr/c(abs(as.matrix(sum(V0[,1:3]))),abs(as.matrix(sum(V0[,4:5]))))\n",
        "#CVaRfrca/c(abs(as.matrix(sum(V0[,1:3]))),abs(as.matrix(sum(V0[,4:5]))))  #************************************************\n",
        "VaRfr<-VaRPort_ACC\n",
        "VaRfrca<-VaRPort_TI\n",
        "CVaRfr<-VaRPort_ACC\n",
        "CVaRfrca<-CVaRPort_TI\n",
        "VaRTotal<-VaRTotal_Port\n",
        "CVaRTotal<-CVaRTotal_Port\n",
        "\n",
        "c(sum(V0[,1:2]))\n",
        "VaRfr/abs(as.matrix(sum(V0[,1:2])))\n",
        "VaRfrca/abs(as.matrix(sum(V0[,1:2])))\n",
        "CVaRfr/abs(as.matrix(sum(V0[,1:2])))\n",
        "CVaRfrca/abs(as.matrix(sum(V0[,1:2])))\n",
        "\n",
        "\n",
        "sum(V0)\n",
        "print('VaR')\n",
        "print(VaRTotal/abs(sum(V0)))\n",
        "print(VaRcaT/abs(sum(V0)))\n",
        "print('CVaR')\n",
        "print(CVaRTotal/abs(sum(V0)))\n",
        "print(CVaRcaT/abs(sum(V0)))"
      ],
      "execution_count": 0,
      "outputs": [
        {
          "output_type": "display_data",
          "data": {
            "text/plain": [
              "[1] 0.9500003\n",
              "[1] \"VaR\"\n",
              "          2% \n",
              "-0.009882755 \n",
              "[1] -0.005942722\n",
              "[1] \"CVaR\"\n",
              "[1] -0.01064365\n",
              "[1] -0.009307567\n"
            ]
          },
          "metadata": {
            "tags": []
          }
        }
      ]
    },
    {
      "cell_type": "markdown",
      "metadata": {
        "id": "oLGiNpEMHGGq",
        "colab_type": "text"
      },
      "source": [
        "Tanto en el caso alisado y sin alisado el VaR se encuentra muy cerca del CVaR, pero proporcionalmente cambian mucho entre ellas, sin embargo se muestra un copmportamiento en que los datos no se alejan mucho del VaR."
      ]
    },
    {
      "cell_type": "markdown",
      "metadata": {
        "id": "45-GtbFqnL6V",
        "colab_type": "text"
      },
      "source": [
        "\n",
        "# **Swap**"
      ]
    },
    {
      "cell_type": "code",
      "metadata": {
        "id": "ohUCrWXU1Vt8",
        "colab_type": "code",
        "colab": {}
      },
      "source": [
        "%%R\n",
        "\n",
        "#función de cuantil más cercano\n",
        "equantile <- function(v,p=.5,ns=nrow(as.matrix(v))) \n",
        "{ \n",
        "  if ( !is.numeric(p) || any( p<0 | p>1) ) \n",
        "    stop(\"Percentil tiene que ser 0<=p<=1\") \n",
        "  ranking <- order(v) \n",
        "vw=matrix(0,ns,1)\n",
        "  vw[1:ns]=seq(1/ns,ns)  \n",
        "  sumw <- cumsum(vw[ranking]) \n",
        "  plist <- sumw / sumw[ length(sumw) ] \n",
        "  v [ ranking [ which.max( plist >= p ) ] ]  \n",
        "} \n",
        "\n",
        "\n",
        "wquantile <- function(v,w=rep(1,length(v)),p=.5) \n",
        "{ \n",
        "  if ( !is.numeric(w) || length(v) != length(w) ) \n",
        "    stop(\"Los valores y los pesos tienen que tener misma longitud\") \n",
        "  if ( !is.numeric(p) || any( p<0 | p>1) ) \n",
        "    stop(\"Percentil tiene que ser 0<=p<=1\") \n",
        "  if ( min(w) < 0 ) stop(\"Los pesos tiene que ser mayores que 0\") \n",
        "  ranking <- order(v) \n",
        "  sumw <- cumsum(w[ranking]) \n",
        "  plist <- sumw / sumw[ length(sumw) ] \n",
        "  v [ ranking [ which.max( plist >= p ) ] ]  \n",
        "}\n",
        "\n",
        "\n",
        "#CVaR con alisado\n",
        "wcvar <- function(v,w=rep(1,length(v)),p=.5) \n",
        "{ \n",
        "  if ( !is.numeric(w) || length(v) != length(w) ) \n",
        "    stop(\"Los valores y los pesos tienen que tener misma longitud\") \n",
        "  if ( !is.numeric(p) || any( p<0 | p>1) ) \n",
        "    stop(\"Percentil tiene que ser 0<=p<=1\") \n",
        "  if ( min(w) < 0 ) stop(\"Los pesos tiene que ser mayores que 0\") \n",
        "  ranking <- order(v) \n",
        "  sumw <- cumsum(w[ranking]) \n",
        "  plist <- sumw / sumw[ length(sumw) ] \n",
        "  loss= v [ ranking [ which( plist < p ) ] ]  \n",
        "  esc=w [ ranking [ which( plist < p ) ] ]  \n",
        "  sum(loss*esc)/(sum(esc))\n",
        "}\n"
      ],
      "execution_count": 0,
      "outputs": []
    },
    {
      "cell_type": "code",
      "metadata": {
        "id": "TrzkrMeCn4P8",
        "colab_type": "code",
        "colab": {}
      },
      "source": [
        "%%R\n",
        "fval=as.Date(\"20200228\",format=\"%Y%m%d\")\n",
        "btasadesc=\"RiesgosFinancieros/2020-2/Insumos/tasa_TIIE_SW_OP.txt\"\n",
        "btasacupvar=\"RiesgosFinancieros/2020-2/Insumos/tasa_DIRS_SW_OP.txt\"\n",
        "tasafija=cbind(0.052,0.049) #se establece la tasa fija a pagar para cada swap\n",
        "plazos=cbind(588,270) #se establece el número de días que vivirá el swap\n",
        "plazocupon=cbind(28,28) #se establece el número de días que se pagará cada cupón\n",
        "contratos=cbind(1600,-1200) #se establece el número de contratos_sw de cada swap\n",
        "nominal=cbind(1,1) #se establece el nominal_sw de cada swap\n",
        "por=cbind(0,1) #se establece 0 si se paga tasa fija y 1 si se paga tasa variable\n",
        "itpl = 1 # 1 es interpolacion alambrada y 0 lineal\n",
        "\n",
        "\n",
        "\n"
      ],
      "execution_count": 0,
      "outputs": []
    },
    {
      "cell_type": "code",
      "metadata": {
        "id": "dO83AHHvcYth",
        "colab_type": "code",
        "outputId": "6a941373-9989-4929-dfbd-b764fdbaa299",
        "colab": {
          "base_uri": "https://localhost:8080/",
          "height": 52
        }
      },
      "source": [
        "%%R\n",
        "#CARGA DE DATOS PARA SWAP\n",
        "  data1=read.table(btasadesc)\n",
        "  n1=nrow(data1)\n",
        "  m1_orig=ncol(data1)\n",
        "  X1_orig=data.frame(data1[2:n1,2:m1_orig])\n",
        "  nodos1=data.frame(data1[1,2:m1_orig])\n",
        "  \n",
        "  data2=read.table(btasacupvar)\n",
        "  n2=nrow(data2)\n",
        "  m2_orig=ncol(data2)\n",
        "  X2_orig=data.frame(data2[2:n1,2:m2_orig])\n",
        "  nodos2=data.frame(data2[1,2:m2_orig])\n",
        "  \n",
        "\t#interpolando\n",
        "\t\n",
        "\tcurvavp=as.matrix(X1_orig/100)\n",
        "\tcurvatc=X2_orig/100\n",
        "\tn1=nrow(curvavp)\n",
        "\tn2=nrow(curvatc)\n",
        "\tn=max(n1,n2)\n",
        "\t\n",
        "\tm=max(ncol(plazos),1)\n",
        "\tN= matrix(0,1,m)\n",
        "\tfor(j in (1:m)){\n",
        "\tN[j]=as.integer(plazos[j]/plazocupon[j])+1\n",
        "\t}\n",
        "\t\n",
        "\tVTplazos = matrix(0,1,sum(N))\n",
        "\tcontratosT=matrix(0,1,sum(N))\n",
        "\tnominalT=matrix(0,1,sum(N))\n",
        "\tporT=matrix(0,1,sum(N))\n",
        "\tplazocuponT=matrix(0,1,sum(N))\n",
        "\ttasafijaT=matrix(0,1,sum(N))\n",
        "\tVTplazosc=matrix(0,1,sum(N))\n",
        "\t\n",
        "\tplazini=plazos - plazocupon*(N-1)\n",
        "\t\n",
        "\tfor (j in (1:m)){\n",
        "\tif (j==1){\n",
        "\tVTplazos[,1:sum(N[1:j])]=seq(plazini[j],plazos[j], by=plazocupon[j])\n",
        "\tVTplazosc[,1:sum(N[1:j])]=c(0,VTplazos[,1:(sum(N[1:j])-1)])\n",
        "\tcontratosT[,1:sum(N[1:j])]=seq(contratos[j],contratos[j])\n",
        "\tnominalT[,1:sum(N[1:j])]=seq(nominal[j],nominal[j])\n",
        "\tporT[,1:sum(N[1:j])]=seq(por[j],por[j])\n",
        "\tplazocuponT[,1:sum(N[1:j])]=seq(plazocupon[j],plazocupon[j])\n",
        "\ttasafijaT[,1:sum(N[1:j])]=seq(tasafija[j],tasafija[j])\n",
        "\t}\n",
        "\telse{\n",
        "\tVTplazos[,(sum(N[1:j-1])+1):sum(N[1:j])]=seq(plazini[j],plazos[j], by=plazocupon[j])\n",
        "\tVTplazosc[,(sum(N[1:j-1])+1):sum(N[1:j])]=c(0,VTplazos[,(sum(N[1:j-1])+1):(sum(N[1:j])-1)])\n",
        "\tcontratosT[,(sum(N[1:j-1])+1):sum(N[1:j])]=seq(contratos[j],contratos[j])\n",
        "\tnominalT[,(sum(N[1:j-1])+1):sum(N[1:j])]=seq(nominal[j],nominal[j])\n",
        "\tporT[,(sum(N[1:j-1])+1):sum(N[1:j])]=seq(por[j],por[j])\n",
        "\tplazocuponT[,(sum(N[1:j-1])+1):sum(N[1:j])]=seq(plazocupon[j],plazocupon[j])\n",
        "\ttasafijaT[,(sum(N[1:j-1])+1):sum(N[1:j])]=seq(tasafija[j],tasafija[j])\n",
        "\t}\n",
        "\t}\n",
        "\t\n",
        "Xvp=matrix(0,n,ncol(VTplazos))\n",
        "Xtc=matrix(0,n,ncol(VTplazos))\n",
        "Xtcc=matrix(0,n,ncol(VTplazos))\n",
        "XtfwdT=matrix(0,n,ncol(VTplazos))\n",
        "\n",
        "for (i in (1:n))\n",
        "{\n",
        "  Xvp[i,]=if(itpl==0){approx(nodos1,curvavp[i,],VTplazos,rule=2)$y}else{talamb(nodos1,curvavp[i,],VTplazos)}\n",
        "  Xtc[i,]=if(itpl==0){approx(nodos2,curvatc[i,],VTplazos,rule=2)$y}else{talamb(nodos2,curvatc[i,],VTplazos)}\n",
        "  Xtcc[i,]=if(itpl==0){approx(nodos2,curvatc[i,],VTplazosc, rule=2)$y}else{talamb(nodos2,curvatc[i,],VTplazosc)}\n",
        "  \n",
        "  XtfwdT[i,]=((1+Xtc[i,]*VTplazos/360)/(1+Xtcc[i,]*VTplazosc/360)-1)*360/plazocuponT \n",
        "  for (j in (1:ncol(VTplazos)))\n",
        "  {\n",
        "    if (VTplazos[j]<= plazocuponT[j])\n",
        "    {\n",
        "      XtfwdT[i,j]=Xtc[i,j]\n",
        "    }\n",
        "    else\n",
        "    {\n",
        "      j=sum(N[1:j])\n",
        "    }\n",
        "  }\n",
        "}\n",
        "\n",
        "X=cbind(XtfwdT,Xvp)\n",
        "\n",
        "swap=function(por_swT, contratos_swT, nominal_swT, XtfwdT, tasafija_swT, plazocupon_swT, VTplazos_sw, Xvp, N)\n",
        "{\n",
        "  V0=matrix(0,1,ncol(N))\n",
        "  V0f=(((contratos_swT*(XtfwdT-tasafija_swT)*(plazocupon_swT/360)))/(1+Xvp*VTplazos_sw/360))*nominal_swT*(-1)^por_swT\n",
        "  for (j in (1:ncol(N)))\n",
        "  {\n",
        "    if(j==1)\n",
        "    {\n",
        "      V0[j]=sum(V0f[j:N[j]])\n",
        "    }\n",
        "    else\n",
        "    {\n",
        "      V0[j]=sum(V0f[(sum(N[1:j-1])+1):(sum(N[1:j]))])\n",
        "    }\n",
        "  }\n",
        "  V0\n",
        "}\n",
        "\n",
        "V0=swap(porT, contratosT, nominalT, XtfwdT[1,], tasafijaT, plazocuponT, VTplazos, Xvp[1,], N)\n",
        "V0\n"
      ],
      "execution_count": 0,
      "outputs": [
        {
          "output_type": "display_data",
          "data": {
            "text/plain": [
              "         [,1]     [,2]\n",
              "[1,] 63.05846 28.36398\n"
            ]
          },
          "metadata": {
            "tags": []
          }
        }
      ]
    },
    {
      "cell_type": "code",
      "metadata": {
        "id": "THKfBoNuYk5O",
        "colab_type": "code",
        "outputId": "ecc709a3-f59e-4461-dd4b-45af3c4e5c30",
        "colab": {
          "base_uri": "https://localhost:8080/",
          "height": 193
        }
      },
      "source": [
        "\n",
        "%%R\n",
        "#DIMENSION DE TODOS LOS INSTRUMENTOS\n",
        "n_if=matrix(0,1,1)\n",
        "n_if[1]=ncol(X) #swaps\n",
        "\n",
        "#valor del portafolios\n",
        "\n",
        "V0_port=V0\n",
        "V0T_port=sum(V0_port)\n",
        "\n",
        "\n",
        "\n",
        "#INTEGRACIÓN DE TODOS LOS FACTORES DE RIESGO EN UNA MATRIZ\n",
        "X_port=X #Factores de riesgo del portafolios de 8(9) instrumentos financieros\n",
        "\n",
        "\n",
        "#Cálculo de variaciones Delta_X DEL PORTAFOLIOS\n",
        "DeltaX_port=as.matrix(log(X_port[1:(n-1)]/X_port[2:(n)]))\n",
        "DeltaX_port[is.nan(DeltaX_port)] <- 0 #quitamos NaN\n",
        "DeltaX_port[is.na(DeltaX_port)] <- 0 #quitamos Na\n",
        "DeltaX_port[is.infinite(DeltaX_port)] <- 0 #quitamos Na\n",
        "\n",
        "\n",
        "Ns=nrow(DeltaX_port) #Definimos número de escenarios históricos\n",
        "alpha=0.98 #Nivel de Confianza para las medidas de riesgo\n",
        "\n",
        "DeltaX_s=DeltaX_port\n",
        "#print(head(DeltaX_s))\n",
        "print(n_if)\n",
        "print(Ns)\n",
        "vw=matrix(0,Ns,1)\n",
        "vw[1:Ns]=seq(1/Ns,1/Ns)\n",
        "\n",
        "print(sum(vw))\n",
        "\n",
        "#Cálculo de matriz de pérdidas y ganancias SWAP\n",
        "\n",
        "#riesgo del swap\n",
        "m=ncol(N)    #PASO CLAVE\n",
        "X_s_sw=matrix(0,Ns,n_if[1]) #Factores de riesgo simulados con base en DeltaX_s x0*(1+Delta_Xs)   #PASO CLAVE\n",
        "V_sw=matrix(0,Ns,m)\n",
        "Vfr1_sw=matrix(0,Ns,m)\n",
        "Vfr2_sw=matrix(0,Ns,m)\n",
        "PG_sw=matrix(0,Ns,m) #Pèrdidas y ganancias\n",
        "PGfr1_sw=matrix(0,Ns,m)\n",
        "PGfr2_sw=matrix(0,Ns,m)\n",
        "PGT_sw=matrix(0,Ns,1)\n",
        "PGfr1T_sw=matrix(0,Ns,1)\n",
        "PGfr2T_sw=matrix(0,Ns,1)\n",
        "\n",
        "DeltaX_s_sw=DeltaX_s[1:n_if[1],]    #PASO CLAVE\n",
        "x0_sw=as.numeric(c(XtfwdT[1,],Xvp[1,]))   #PASO CLAVE\n",
        "\n",
        "for (i in 1:Ns)\n",
        "{\n",
        "  X_s_sw[i,]=x0_sw*exp(DeltaX_s[i,])\n",
        "  #PASO CLAVE\n",
        "  V_sw[i,]=swap(porT, contratosT, nominalT, X_s_sw[i,1:(n_if[1]/2)], tasafijaT, plazocuponT, VTplazos, X_s_sw[i,(n_if[1]/2+1):(n_if[1])],N)\n",
        "  #PASO CLAVE\n",
        "  Vfr1_sw[i,]=swap(porT, contratosT, nominalT,X_s_sw[i,1:(n_if[1]/2)], tasafijaT, plazocuponT, VTplazos, Xvp[1,],N)\n",
        "  #PASO CLAVE\n",
        "  Vfr2_sw[i,]=swap(porT, contratosT, nominalT,  XtfwdT[1,], tasafijaT, plazocuponT, VTplazos, X_s_sw[i,(n_if[1]/2+1):(n_if[1])],N)\t\n",
        "  #PASO CLAVE\n",
        "  PG_sw[i,]=V_sw[i,]-V0\n",
        "  PGfr1_sw[i,]=Vfr1_sw[i,]-V0\n",
        "  PGfr2_sw[i,]=Vfr2_sw[i,]-V0\n",
        "  PGT_sw[i,]=sum(PG_sw[i,])\n",
        "  PGfr1T_sw[i,]=sum(PGfr1_sw[i,])\n",
        "  PGfr2T_sw[i,]=sum(PGfr2_sw[i,])\n",
        "}\n",
        "\n",
        "\n",
        "\n",
        "PG_sw[1:5,]\n",
        "PGfr1_sw[1:5,]\n",
        "PGfr2_sw[1:5,]\n",
        "PGT_sw[1:5,]\n",
        "\n",
        "PGT_Port=PGfr1T_sw+PGfr2T_sw\n",
        "#VaR por posición alisado\n",
        "VaRCont_sw=matrix(0,1,m)\n",
        "VaRfr1_sw=matrix(0,1,m)\n",
        "VaRfr2_sw=matrix(0,1,m)\n",
        "CVaRCont_sw=matrix(0,1,m)\n",
        "CVaRfr1_sw=matrix(0,1,m)\n",
        "CVaRfr2_sw=matrix(0,1,m)\n",
        "for (i in (1:m))\n",
        "{\n",
        "  VaRCont_sw[i]=quantile(PG_sw[,i],1-alpha,Ns)\n",
        "  VaRfr1_sw[i]=quantile(PGfr1_sw[,i],1-alpha,Ns)\n",
        "  VaRfr2_sw[i]=quantile(PGfr2_sw[,i],1-alpha,Ns)\n",
        "  CVaRfr1_sw[i]= mean(merge(which(PGfr1_sw[,i]<VaRfr1_sw[i]),cbind(seq(1,Ns),PGfr1_sw[,i]), by.x=1,by.y=1)[,2])\n",
        "  CVaRfr2_sw[i]= mean(merge(which(PGfr2_sw[,i]<VaRfr2_sw[i]),cbind(seq(1,Ns),PGfr2_sw[,i]), by.x=1,by.y=1)[,2])\n",
        "  CVaRCont_sw[i]= mean(merge(which(PG_sw[,i]<VaRCont_sw[i]),cbind(seq(1,Ns),PG_sw[,i]), by.x=1,by.y=1)[,2])\n",
        "}\n",
        "\n",
        "\n",
        "VaRCont_sw\n",
        "VaRfr1_sw\n",
        "VaRfr2_sw\n",
        "CVaRCont_sw\n",
        "CVaRfr1_sw\n",
        "CVaRfr2_sw\n",
        "\n",
        "#VaR Total\n",
        "\n",
        "VaRTotal_sw=quantile(PGT_sw,1-alpha,Ns)\n",
        "CVaRTotal_sw= mean(merge(which(PGT_sw<VaRTotal_sw),cbind(seq(1,Ns),PGT_sw), by.x=1,by.y=1)[,2])\n",
        "VaRTotalfr1_sw=quantile(PGfr1T_sw,1-alpha,Ns)\n",
        "CVaRTotalfr1_sw= mean(PGfr1T_sw[which(PGfr1T_sw<VaRTotalfr1_sw),])\n",
        "VaRTotalfr2_sw=quantile(PGfr2T_sw,1-alpha,Ns)\n",
        "CVaRTotalfr2_sw= mean(PGfr2T_sw[which(PGfr2T_sw<VaRTotalfr2_sw),])\n",
        "\n",
        "\n",
        "cbind(VaRTotal_sw,sum(V0), VaRCont_sw, V0)\n",
        "cbind(CVaRTotal_sw,sum(V0), CVaRCont_sw, V0)\n",
        "print(cbind(VaRTotal_sw,VaRTotalfr1_sw,VaRTotalfr2_sw))\n",
        "print(cbind(CVaRTotal_sw,CVaRTotalfr1_sw,CVaRTotalfr2_sw))\n",
        "print(VaRTotal_sw)"
      ],
      "execution_count": 0,
      "outputs": [
        {
          "output_type": "display_data",
          "data": {
            "text/plain": [
              "     [,1]\n",
              "[1,]   64\n",
              "[1] 254\n",
              "[1] 1\n",
              "   VaRTotal_sw VaRTotalfr1_sw VaRTotalfr2_sw\n",
              "2%   -2.345744      -2.384146    -0.04083734\n",
              "     CVaRTotal_sw CVaRTotalfr1_sw CVaRTotalfr2_sw\n",
              "[1,]    -3.460501       -3.515455     -0.06930213\n",
              "       2% \n",
              "-2.345744 \n"
            ]
          },
          "metadata": {
            "tags": []
          }
        }
      ]
    },
    {
      "cell_type": "code",
      "metadata": {
        "id": "03_Rxb9JApfD",
        "colab_type": "code",
        "outputId": "7862fb7f-e682-4e93-dfed-474b28cdc6b8",
        "colab": {
          "base_uri": "https://localhost:8080/",
          "height": 140
        }
      },
      "source": [
        "%%R\n",
        "lambda =uniroot(function(x) w0*(1-x^(n))/(1-x)-1, c(0,0.99), tol = 1e-28)$root\n",
        "print(lambda)\n",
        "\n",
        "#generamos la función que genera \"n\" escenarios con base en w0 y lambda\n",
        "genera_esc=function(lamda,w0,n)\n",
        "{\n",
        "  p_esc=matrix(0,n,1)\n",
        "  for (i in (1:n))\n",
        "  {\n",
        "    p_esc[i]=w0*lambda^(i-1)\n",
        "  }\n",
        "  p_esc\n",
        "}\n",
        "\n",
        "p_esc=genera_esc(lambda,w0,n-1)\n",
        "t(p_esc[1:10])\n",
        "sum(p_esc) #validamos que sume 1\n",
        "#print(p_esc)\n",
        "#Creamos las cajas de VaR y CVaR con alisado\n",
        "VaRca=matrix(0,1,ncol(PGT_Port))\n",
        "CVaRca=matrix(0,1,ncol(PGT_Port))\n",
        "\n",
        "#IMPORTANTE: VALIDAR QUE SE TENGA EL MISMO ORDEN DE ESCENARIOS, ES POR ESO QUE METEMOS P_ESC[ORDER(P_ESC)]\n",
        "#for (j in (1:m))  \n",
        "for (j in 1:m)   #**************************************************************************\n",
        "{\n",
        "  VaRca[j]=equantile(as.matrix(PGT_Port[j,]), p_esc[order(p_esc)], 1-alpha)\n",
        "  CVaRca[j]=wcvar(as.matrix(PGT_Port), as.matrix(p_esc[order(p_esc)]), 1-alpha)\n",
        "}\n",
        "\n",
        "#Resumen medidas de riesgo por posición\n",
        "VaRca=as.data.table(VaRca)\n",
        "CVaRca=as.data.table(CVaRca)\n",
        "print(VaRca)\n",
        "print(CVaRca)"
      ],
      "execution_count": 0,
      "outputs": [
        {
          "output_type": "display_data",
          "data": {
            "text/plain": [
              "[1] 0.9500001\n",
              "        VaRca\n",
              "1: -0.5839023\n",
              "2: -0.5826162\n",
              "      CVaRca\n",
              "1: -8.158625\n",
              "2: -8.158625\n"
            ]
          },
          "metadata": {
            "tags": []
          }
        }
      ]
    },
    {
      "cell_type": "markdown",
      "metadata": {
        "id": "3yOSk13MF1NO",
        "colab_type": "text"
      },
      "source": [
        "Para el caso de VaR sin alisado observamos que no se aleja demaciado del CVaR lo que nos indica que en los datos reales los valores después del VaR no se alejan mucho, sin embargo para los con alisado se observa que los datos después del VaR se alejan mucho, lo que nos indica una cola pesada."
      ]
    },
    {
      "cell_type": "markdown",
      "metadata": {
        "id": "vvNVJtUBqMM3",
        "colab_type": "text"
      },
      "source": [
        "# **Opciones**"
      ]
    },
    {
      "cell_type": "code",
      "metadata": {
        "id": "uAdmVHq-Cr30",
        "colab_type": "code",
        "colab": {}
      },
      "source": [
        "%%R\n",
        "#Opciones de tasa de interés con fecha de Valuación 28/02/2020\n",
        "fval=as.Date(\"20200228\",format=\"%Y%m%d\") #Fecha de valoración\n",
        "alpha= 0.99\n",
        "btasadesc=\"RiesgosFinancieros/2020-2/Tarea/tasa_TIIE_SW_OP.txt\"\n",
        "btasaspot=\"RiesgosFinancieros/2020-2/Tarea/tasa_DIRS_SW_OP.txt\"\n",
        "bvolspot=\"RiesgosFinancieros/2020-2/Tarea/tvoltiie_opc.txt\"\n",
        "plazos=cbind(1700,700) #T-t\n",
        "pr=28 #plazo de referencia  \n",
        "dct=360 #d_base\n",
        "cp=cbind(1,0) #si es call (cap) o put (floor)\n",
        "K=cbind(0.094,0.089)\n",
        "contratos=cbind(1000,500)\n",
        "nominal=1\n",
        "cs=1 #1 si es continua la tasa 0 si es simple\n",
        "itpl=0 #interpolaci?n lineal o 1 alambrada"
      ],
      "execution_count": 0,
      "outputs": []
    },
    {
      "cell_type": "code",
      "metadata": {
        "id": "GKW5NnUlF51E",
        "colab_type": "code",
        "colab": {}
      },
      "source": [
        "%%R\n",
        "data1<-read.table(btasadesc) \n",
        "n<-nrow(data1)\n",
        "m1_orig=ncol(data1)\n",
        "x1_orig=data.frame(data1[2:n,2:m1_orig])/100\n",
        "nodos1=data.frame(data1[1,2:m1_orig])\n",
        "data1[1:3,]\n",
        "#carga de tasas spot\n",
        "data2<-read.table(btasaspot)\n",
        "n<-nrow(data2)\n",
        "m2_orig=ncol(data2)\n",
        "x2_orig=data.frame(data2[2:n,2:m2_orig])/100\n",
        "nodos2=data.frame(data2[1,2:m2_orig])\n",
        "#carga de volatilidades de spot\n",
        "data3<-read.table(bvolspot)\n",
        "n<-nrow(data3)\n",
        "m3_orig=ncol(data3)\n",
        "x3_orig=data.frame(data3[2:n,2:m3_orig])\n",
        "nodos3=data.frame(data3[1,2:m3_orig])\n"
      ],
      "execution_count": 0,
      "outputs": []
    },
    {
      "cell_type": "code",
      "metadata": {
        "id": "edtFPdS_lKbS",
        "colab_type": "code",
        "colab": {}
      },
      "source": [
        "%%R\n",
        "#Interpolación de tasas y volatilidades\n",
        "m=ncol(plazos)\n",
        "x1=matrix(0,n-1,m)\n",
        "x2tc=matrix(0,n-1,m)\n",
        "x2tl=matrix(0,n-1,m)\n",
        "x2=matrix(0,n-1,m)\n",
        "x3=matrix(0,n-1,m)\n",
        "for (i in 1:(n-1))\n",
        "{\n",
        "  x1[i,]=if(itpl==0){approx(nodos1,x1_orig[i,],plazos)$y}else{talamb(nodos1,x1_orig[i,],plazos)}\n",
        "  x2tc[i,]=if(itpl==0){approx(nodos2,x2_orig[i,],plazos)$y}else{talamb(nodos2,x2_orig[i,],plazos)}\n",
        "  x2tl[i,]=if(itpl==0){approx(nodos2,x2_orig[i,],(plazos+pr))$y}else{talamb(nodos2,x2_orig[i,],(plazos+pr))}\n",
        "  x3[i,]=if(itpl==0){approx(nodos3,x3_orig[i,],plazos)$y}else{talamb(nodos3,x3_orig[i,],plazos)}\n",
        "  x2[i,]=((1+x2tl[i,]*(plazos+pr)/360)/(1+x2tc[i,]*(plazos)/360)-1)*360/pr\n",
        "}\n",
        "\n",
        "X=cbind(x1,x2,x3) #Factores de riesgo\n",
        "\n",
        "x01=x1[1,] #tasas de descuento\n",
        "x02=x2[1,] #tasas spot\n",
        "x03=x3[1,] #volatilidades\n",
        "\n",
        "#Variaciones Delta X\n",
        "x_1=X[2:(n-1),] #vector de factores de riesgo en t-1\n",
        "x_aux=X[1:(n-2),]  #vector auxiliar de valores en t\n",
        "DeltaX=x_aux/x_1-1 #matrix de variaciones de factores de riesgo\n",
        "\n",
        "#matrices de variaciones de factores de riesgo 1: rho, 2: spot, 3: vol de spot\n",
        "Dx1=DeltaX[,1:m]\n",
        "Dx2=DeltaX[,(m+1):(2*m)]\n",
        "Dx3=DeltaX[,(2*m+1):(3*m)]\n",
        "\n",
        "opctint = function(d,S,K,vol,t,cp,cs,pr,dct)\t#función de una opción europea\n",
        "{\n",
        "  d1=if(cs==1){(log(S/K)+vol^2*t/(365*2))*(1/(vol*sqrt(t/365)))}else{(log(S/K)+vol^2*t/(360*2))*(1/(vol*sqrt(t/360)))}\n",
        "  d2=if(cs==1){(log(S/K)-vol^2*t/(365*2))*(1/(vol*sqrt(t/365)))}else{(log(S/K)-vol^2*t/(360*2))*(1/(vol*sqrt(t/360)))}\n",
        "  vp=if(cs==1){log(1+d*t/360)*365/t}else{d}  \n",
        "  (if(cs==1){(S*pnorm(d1*(-1)^cp)-K*pnorm(d2*(-1)^cp))*(exp(-vp*t/365))*(-1)^cp}else{(S*pnorm(d1*(-1)^cp)-K*pnorm(d2*(-1)^cp))*(1/(1+vp*t/360))*(-1)^cp})*(pr/dct)/(1+S*pr/dct)\n",
        "}\n",
        "\n",
        "V0=opctint(x01,x02,K,x03,plazos,cp,cs,pr,dct)*contratos*nominal #Valor del portafolio\n",
        "\n",
        "V0\n",
        "\n",
        "Ns=10000 #Número de simulaciones\n",
        "\n",
        "mT=ncol(DeltaX)\n",
        "\n",
        "VarDeltaX=as.matrix(cov(DeltaX)*(n-1)/(n-2))\n",
        "\n",
        "  CVarDeltaX=as.matrix(chol(VarDeltaX))\n",
        "  M=matrix(0, Ns,mT)\n",
        "  \n",
        "    for (i in 1:mT)\n",
        "    {\n",
        "      M[,i]=quantile(DeltaX[,i],runif(Ns))\n",
        "    }\n",
        "  \n",
        "  DeltaX_s=M%*%CVarDeltaX  #Factores de riesgo simulados\n",
        "\n",
        "DeltaX_s[1:5,]\n",
        "\n",
        "sum(diag(var(DeltaX_s)))/sum(diag(var(DeltaX))) \n",
        "\n",
        "matrix(1,1,ncol(DeltaX_s))%*%var(DeltaX_s)%*%t(matrix(1,1,ncol(DeltaX_s)))/matrix(1,1,ncol(DeltaX_s))%*%var(DeltaX)%*%t(matrix(1,1,ncol(DeltaX_s))) #Comprobaci?n de matriz de varianza-cov vs original\n",
        "#PG--> Matriz de Pérdidas y ganancias\n",
        "\n",
        "X_s=matrix(0,Ns,ncol(DeltaX)) #Factores de riesgo simulados con base en DeltaX_s x0*(1+Delta_Xs)\n",
        "V=matrix(0,Ns,m)\n",
        "Vfr1=matrix(0,Ns,m)\n",
        "Vfr2=matrix(0,Ns,m)\n",
        "Vfr3=matrix(0,Ns,m)\n",
        "PG=matrix(0,Ns,m) \n",
        "PGfr1=matrix(0,Ns,m)\n",
        "PGfr2=matrix(0,Ns,m)\n",
        "PGfr3=matrix(0,Ns,m)\n",
        "PGT=matrix(0,Ns,1)\n",
        "PGfr1T=matrix(0,Ns,1)\n",
        "PGfr2T=matrix(0,Ns,1)\n",
        "PGfr3T=matrix(0,Ns,1)\n",
        "x0=X[1,]"
      ],
      "execution_count": 0,
      "outputs": []
    },
    {
      "cell_type": "code",
      "metadata": {
        "id": "GfYOlYmVXyfr",
        "colab_type": "code",
        "outputId": "ea79bc69-f372-4245-a6bd-08df813abd1e",
        "colab": {
          "base_uri": "https://localhost:8080/",
          "height": 122
        }
      },
      "source": [
        "%%R\n",
        "for (i in 1:Ns)\n",
        "{\n",
        "  X_s[i,]=x0*(1+DeltaX_s[i,])\n",
        "  V[i,]=opctint(X_s[i,1:m],X_s[i,(m+1):(2*m)],K,X_s[i,(2*m+1):(3*m)],plazos,cp,cs,pr,dct)*contratos*nominal\n",
        "  Vfr1[i,]=opctint(X_s[i,1:m],x02,K,x03,plazos,cp,cs,pr,dct)*contratos*nominal\n",
        "  Vfr2[i,]=opctint(x01,X_s[i,(m+1):(2*m)],K,x03,plazos,cp,cs,pr,dct)*contratos*nominal\n",
        "  Vfr3[i,]=opctint(x01,x02,K,X_s[i,(2*m+1):(3*m)],plazos,cp,cs,pr,dct)*contratos*nominal\n",
        "  PG[i,]=V[i,]-V0\n",
        "  PGfr1[i,]=Vfr1[i,]-V0\n",
        "  PGfr2[i,]=Vfr2[i,]-V0\n",
        "  PGfr3[i,]=Vfr3[i,]-V0\n",
        "  PGfr1T[i,]=sum(PGfr1[i,])\n",
        "  PGfr2T[i,]=sum(PGfr2[i,])\n",
        "  PGfr3T[i,]=sum(PGfr3[i,])\n",
        "  PGT[i,]=sum(PG[i,])\n",
        "}\n",
        "\n",
        "PG[1:5,]\n",
        "PGfr1[1:5,]\n",
        "PGfr2[1:5,]\n",
        "PGT[1:5,]\n",
        "\n",
        "VaRCont=matrix(0,1,m)\n",
        "VaRfr1=matrix(0,1,m)\n",
        "VaRfr2=matrix(0,1,m)\n",
        "VaRfr3=matrix(0,1,m)\n",
        "CVaRCont=matrix(0,1,m)\n",
        "CVaRfr1=matrix(0,1,m)\n",
        "CVaRfr2=matrix(0,1,m)\n",
        "CVaRfr3=matrix(0,1,m)\n",
        "for (i in (1:m))\n",
        "{\n",
        "  VaRCont[i]=quantile(PG[,i],1-alpha,Ns)\n",
        "  VaRfr1[i]=quantile(PGfr1[,i],1-alpha,Ns)\n",
        "  VaRfr2[i]=quantile(PGfr2[,i],1-alpha,Ns)\n",
        "  VaRfr3[i]=quantile(PGfr3[,i],1-alpha,Ns)\n",
        "  CVaRfr1[i]= mean(PGfr1[which(PGfr1[,i]<VaRfr1[i]),i])\n",
        "  CVaRfr2[i]= mean(PGfr2[which(PGfr2[,i]<VaRfr2[i]),i])\n",
        "  CVaRfr3[i]= mean(PGfr3[which(PGfr3[,i]<VaRfr3[i]),i])\n",
        "  CVaRCont[i]= mean(PG[which(PG[,i]<VaRCont[i]),i])\n",
        "}\n",
        "print(\"VaR CA\")\n",
        "print(VaRCont)\n",
        "#print(cbind(VaRfr1,VaRfr2,VaRfr3))\n",
        "print(\"CVaR CA\")\n",
        "print(CVaRCont)\n",
        "#print(cbind(CVaRfr1,CVaRfr2,CVaRfr3))"
      ],
      "execution_count": 0,
      "outputs": [
        {
          "output_type": "display_data",
          "data": {
            "text/plain": [
              "[1] \"VaR CA\"\n",
              "             [,1]         [,2]\n",
              "[1,] -0.003225828 -0.001769509\n",
              "[1] \"CVaR CA\"\n",
              "             [,1]         [,2]\n",
              "[1,] -0.004353114 -0.002402499\n"
            ]
          },
          "metadata": {
            "tags": []
          }
        }
      ]
    },
    {
      "cell_type": "code",
      "metadata": {
        "id": "EMYzCT1wYR7X",
        "colab_type": "code",
        "outputId": "00545f58-3b86-4462-deb7-c5c212e648c7",
        "colab": {
          "base_uri": "https://localhost:8080/",
          "height": 122
        }
      },
      "source": [
        "%%R\n",
        "#VaR Total\n",
        "VaRTotal=quantile(PGT,1-alpha,Ns)\n",
        "CVaRTotal= mean(PGT[which(PGT<VaRTotal),])\n",
        "VaRTotalfr1=quantile(PGfr1T,1-alpha,Ns)\n",
        "CVaRTotalfr1= mean(PGfr1T[which(PGfr1T<VaRTotalfr1),])\n",
        "VaRTotalfr2=quantile(PGfr2T,1-alpha,Ns)\n",
        "CVaRTotalfr2= mean(PGfr2T[which(PGfr2T<VaRTotalfr2),])\n",
        "VaRTotalfr3=quantile(PGfr3T,1-alpha,Ns)\n",
        "CVaRTotalfr3= mean(PGfr3T[which(PGfr3T<VaRTotalfr3),])\n",
        "\n",
        "print(\"VaR SA\")\n",
        "print(cbind(VaRTotalfr1,VaRTotalfr2,VaRTotalfr3,VaRTotal))\n",
        "print(\"CVaR SA\")\n",
        "print(cbind(CVaRTotalfr1,CVaRTotalfr2, CVaRTotalfr3,CVaRTotal))"
      ],
      "execution_count": 0,
      "outputs": [
        {
          "output_type": "display_data",
          "data": {
            "text/plain": [
              "[1] \"VaR SA\"\n",
              "     VaRTotalfr1 VaRTotalfr2  VaRTotalfr3     VaRTotal\n",
              "1% -0.0001732963 -0.00260921 -0.002727898 -0.003734542\n",
              "[1] \"CVaR SA\"\n",
              "      CVaRTotalfr1 CVaRTotalfr2 CVaRTotalfr3    CVaRTotal\n",
              "[1,] -0.0001827689 -0.003014411  -0.00545608 -0.005745593\n"
            ]
          },
          "metadata": {
            "tags": []
          }
        }
      ]
    },
    {
      "cell_type": "markdown",
      "metadata": {
        "id": "AeXG-VeKAGHk",
        "colab_type": "text"
      },
      "source": [
        "El VaR se encuentra muy cerca del CVaR en ambos casos (sin alisado y con alisado) lo que nos indica que en caso de superar la pérdida esperada, no la rebasa por mucho, o que no se consentran muchos valores extremos depués del VaR.\n",
        "\n"
      ]
    }
  ]
}
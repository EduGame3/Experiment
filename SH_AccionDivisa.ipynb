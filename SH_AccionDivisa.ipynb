{
  "nbformat": 4,
  "nbformat_minor": 0,
  "metadata": {
    "colab": {
      "name": "SH_AccionDivisa.ipynb",
      "provenance": [],
      "collapsed_sections": [],
      "authorship_tag": "ABX9TyNkqULdIsGzIEp7wXgAa8H0",
      "include_colab_link": true
    },
    "kernelspec": {
      "name": "python3",
      "display_name": "Python 3"
    }
  },
  "cells": [
    {
      "cell_type": "markdown",
      "metadata": {
        "id": "view-in-github",
        "colab_type": "text"
      },
      "source": [
        "<a href=\"https://colab.research.google.com/github/EduGame3/Experiment/blob/master/SH_AccionDivisa.ipynb\" target=\"_parent\"><img src=\"https://colab.research.google.com/assets/colab-badge.svg\" alt=\"Open In Colab\"/></a>"
      ]
    },
    {
      "cell_type": "code",
      "metadata": {
        "id": "L7kuYx9Uwb1v",
        "colab_type": "code",
        "colab": {
          "base_uri": "https://localhost:8080/",
          "height": 121
        },
        "outputId": "a98e7820-c8b8-4677-d8e4-7b32f8cf8b02"
      },
      "source": [
        "#ACCIONES\n",
        "%load_ext rpy2.ipython\n",
        "!rm -rf RiesgosFinancieros\n",
        "!git clone \"https://github.com/EduGame3/Experiment/\""
      ],
      "execution_count": 1,
      "outputs": [
        {
          "output_type": "stream",
          "text": [
            "Cloning into 'Experiment'...\n",
            "remote: Enumerating objects: 16, done.\u001b[K\n",
            "remote: Counting objects: 100% (16/16), done.\u001b[K\n",
            "remote: Compressing objects: 100% (13/13), done.\u001b[K\n",
            "remote: Total 16 (delta 2), reused 0 (delta 0), pack-reused 0\u001b[K\n",
            "Unpacking objects: 100% (16/16), done.\n"
          ],
          "name": "stdout"
        }
      ]
    },
    {
      "cell_type": "code",
      "metadata": {
        "id": "NGeSSAsfwitY",
        "colab_type": "code",
        "colab": {
          "base_uri": "https://localhost:8080/",
          "height": 1000
        },
        "outputId": "2febee1d-1f18-471e-87eb-00a7b6df288a"
      },
      "source": [
        "%%R\n",
        "#require(quantmod)\n",
        "install.packages(\"quantmod\")\n",
        "library(quantmod)\n",
        "#require(data.table)\n",
        "install.packages(\"data.table\")\n",
        "library(data.table)\n",
        "#require(\"PerformanceAnalytics\")\n",
        "install.packages(\"PerformanceAnalytics\")\n",
        "library(\"PerformanceAnalytics\")\n",
        "\n",
        "install.packages(\"Deriv\")\n",
        "library(Deriv)\n",
        "\n",
        "\n",
        "library(dplyr)\n",
        "con = gzcon(url('https://github.com/systematicinvestor/SIT/raw/master/sit.gz', 'rb'))\n",
        "source(con)\n",
        "close(con)"
      ],
      "execution_count": 2,
      "outputs": [
        {
          "output_type": "stream",
          "text": [
            "/usr/local/lib/python3.6/dist-packages/rpy2/rinterface/__init__.py:146: RRuntimeWarning: Installing package into ‘/usr/local/lib/R/site-library’\n",
            "(as ‘lib’ is unspecified)\n",
            "\n",
            "  warnings.warn(x, RRuntimeWarning)\n",
            "/usr/local/lib/python3.6/dist-packages/rpy2/rinterface/__init__.py:146: RRuntimeWarning: also installing the dependencies ‘xts’, ‘zoo’, ‘TTR’\n",
            "\n",
            "\n",
            "  warnings.warn(x, RRuntimeWarning)\n",
            "/usr/local/lib/python3.6/dist-packages/rpy2/rinterface/__init__.py:146: RRuntimeWarning: trying URL 'https://cran.rstudio.com/src/contrib/xts_0.12-0.tar.gz'\n",
            "\n",
            "  warnings.warn(x, RRuntimeWarning)\n",
            "/usr/local/lib/python3.6/dist-packages/rpy2/rinterface/__init__.py:146: RRuntimeWarning: Content type 'application/x-gzip'\n",
            "  warnings.warn(x, RRuntimeWarning)\n",
            "/usr/local/lib/python3.6/dist-packages/rpy2/rinterface/__init__.py:146: RRuntimeWarning:  length 540698 bytes (528 KB)\n",
            "\n",
            "  warnings.warn(x, RRuntimeWarning)\n",
            "/usr/local/lib/python3.6/dist-packages/rpy2/rinterface/__init__.py:146: RRuntimeWarning: =\n",
            "  warnings.warn(x, RRuntimeWarning)\n",
            "/usr/local/lib/python3.6/dist-packages/rpy2/rinterface/__init__.py:146: RRuntimeWarning: \n",
            "\n",
            "  warnings.warn(x, RRuntimeWarning)\n",
            "/usr/local/lib/python3.6/dist-packages/rpy2/rinterface/__init__.py:146: RRuntimeWarning: downloaded 528 KB\n",
            "\n",
            "\n",
            "  warnings.warn(x, RRuntimeWarning)\n",
            "/usr/local/lib/python3.6/dist-packages/rpy2/rinterface/__init__.py:146: RRuntimeWarning: trying URL 'https://cran.rstudio.com/src/contrib/zoo_1.8-7.tar.gz'\n",
            "\n",
            "  warnings.warn(x, RRuntimeWarning)\n",
            "/usr/local/lib/python3.6/dist-packages/rpy2/rinterface/__init__.py:146: RRuntimeWarning:  length 861309 bytes (841 KB)\n",
            "\n",
            "  warnings.warn(x, RRuntimeWarning)\n",
            "/usr/local/lib/python3.6/dist-packages/rpy2/rinterface/__init__.py:146: RRuntimeWarning: downloaded 841 KB\n",
            "\n",
            "\n",
            "  warnings.warn(x, RRuntimeWarning)\n",
            "/usr/local/lib/python3.6/dist-packages/rpy2/rinterface/__init__.py:146: RRuntimeWarning: trying URL 'https://cran.rstudio.com/src/contrib/TTR_0.23-6.tar.gz'\n",
            "\n",
            "  warnings.warn(x, RRuntimeWarning)\n",
            "/usr/local/lib/python3.6/dist-packages/rpy2/rinterface/__init__.py:146: RRuntimeWarning:  length 309148 bytes (301 KB)\n",
            "\n",
            "  warnings.warn(x, RRuntimeWarning)\n",
            "/usr/local/lib/python3.6/dist-packages/rpy2/rinterface/__init__.py:146: RRuntimeWarning: downloaded 301 KB\n",
            "\n",
            "\n",
            "  warnings.warn(x, RRuntimeWarning)\n",
            "/usr/local/lib/python3.6/dist-packages/rpy2/rinterface/__init__.py:146: RRuntimeWarning: trying URL 'https://cran.rstudio.com/src/contrib/quantmod_0.4-16.tar.gz'\n",
            "\n",
            "  warnings.warn(x, RRuntimeWarning)\n",
            "/usr/local/lib/python3.6/dist-packages/rpy2/rinterface/__init__.py:146: RRuntimeWarning:  length 152106 bytes (148 KB)\n",
            "\n",
            "  warnings.warn(x, RRuntimeWarning)\n",
            "/usr/local/lib/python3.6/dist-packages/rpy2/rinterface/__init__.py:146: RRuntimeWarning: downloaded 148 KB\n",
            "\n",
            "\n",
            "  warnings.warn(x, RRuntimeWarning)\n",
            "/usr/local/lib/python3.6/dist-packages/rpy2/rinterface/__init__.py:146: RRuntimeWarning: \n",
            "  warnings.warn(x, RRuntimeWarning)\n",
            "/usr/local/lib/python3.6/dist-packages/rpy2/rinterface/__init__.py:146: RRuntimeWarning: The downloaded source packages are in\n",
            "\t‘/tmp/Rtmp30IMbS/downloaded_packages’\n",
            "  warnings.warn(x, RRuntimeWarning)\n",
            "/usr/local/lib/python3.6/dist-packages/rpy2/rinterface/__init__.py:146: RRuntimeWarning: Loading required package: xts\n",
            "\n",
            "  warnings.warn(x, RRuntimeWarning)\n",
            "/usr/local/lib/python3.6/dist-packages/rpy2/rinterface/__init__.py:146: RRuntimeWarning: Loading required package: zoo\n",
            "\n",
            "  warnings.warn(x, RRuntimeWarning)\n",
            "/usr/local/lib/python3.6/dist-packages/rpy2/rinterface/__init__.py:146: RRuntimeWarning: \n",
            "Attaching package: ‘zoo’\n",
            "\n",
            "\n",
            "  warnings.warn(x, RRuntimeWarning)\n",
            "/usr/local/lib/python3.6/dist-packages/rpy2/rinterface/__init__.py:146: RRuntimeWarning: The following objects are masked from ‘package:base’:\n",
            "\n",
            "    as.Date, as.Date.numeric\n",
            "\n",
            "\n",
            "  warnings.warn(x, RRuntimeWarning)\n",
            "/usr/local/lib/python3.6/dist-packages/rpy2/rinterface/__init__.py:146: RRuntimeWarning: Loading required package: TTR\n",
            "\n",
            "  warnings.warn(x, RRuntimeWarning)\n",
            "/usr/local/lib/python3.6/dist-packages/rpy2/rinterface/__init__.py:146: RRuntimeWarning: Registered S3 method overwritten by 'quantmod':\n",
            "  method            from\n",
            "  as.zoo.data.frame zoo \n",
            "\n",
            "  warnings.warn(x, RRuntimeWarning)\n",
            "/usr/local/lib/python3.6/dist-packages/rpy2/rinterface/__init__.py:146: RRuntimeWarning: Version 0.4-0 included new data defaults. See ?getSymbols.\n",
            "\n",
            "  warnings.warn(x, RRuntimeWarning)\n",
            "/usr/local/lib/python3.6/dist-packages/rpy2/rinterface/__init__.py:146: RRuntimeWarning: trying URL 'https://cran.rstudio.com/src/contrib/data.table_1.12.8.tar.gz'\n",
            "\n",
            "  warnings.warn(x, RRuntimeWarning)\n",
            "/usr/local/lib/python3.6/dist-packages/rpy2/rinterface/__init__.py:146: RRuntimeWarning:  length 4948391 bytes (4.7 MB)\n",
            "\n",
            "  warnings.warn(x, RRuntimeWarning)\n",
            "/usr/local/lib/python3.6/dist-packages/rpy2/rinterface/__init__.py:146: RRuntimeWarning: downloaded 4.7 MB\n",
            "\n",
            "\n",
            "  warnings.warn(x, RRuntimeWarning)\n",
            "/usr/local/lib/python3.6/dist-packages/rpy2/rinterface/__init__.py:146: RRuntimeWarning: data.table 1.12.8 using 1 threads (see ?getDTthreads).  Latest news: r-datatable.com\n",
            "\n",
            "  warnings.warn(x, RRuntimeWarning)\n",
            "/usr/local/lib/python3.6/dist-packages/rpy2/rinterface/__init__.py:146: RRuntimeWarning: \n",
            "Attaching package: ‘data.table’\n",
            "\n",
            "\n",
            "  warnings.warn(x, RRuntimeWarning)\n",
            "/usr/local/lib/python3.6/dist-packages/rpy2/rinterface/__init__.py:146: RRuntimeWarning: The following objects are masked from ‘package:xts’:\n",
            "\n",
            "    first, last\n",
            "\n",
            "\n",
            "  warnings.warn(x, RRuntimeWarning)\n",
            "/usr/local/lib/python3.6/dist-packages/rpy2/rinterface/__init__.py:146: RRuntimeWarning: also installing the dependency ‘quadprog’\n",
            "\n",
            "\n",
            "  warnings.warn(x, RRuntimeWarning)\n",
            "/usr/local/lib/python3.6/dist-packages/rpy2/rinterface/__init__.py:146: RRuntimeWarning: trying URL 'https://cran.rstudio.com/src/contrib/quadprog_1.5-8.tar.gz'\n",
            "\n",
            "  warnings.warn(x, RRuntimeWarning)\n",
            "/usr/local/lib/python3.6/dist-packages/rpy2/rinterface/__init__.py:146: RRuntimeWarning:  length 36141 bytes (35 KB)\n",
            "\n",
            "  warnings.warn(x, RRuntimeWarning)\n",
            "/usr/local/lib/python3.6/dist-packages/rpy2/rinterface/__init__.py:146: RRuntimeWarning: downloaded 35 KB\n",
            "\n",
            "\n",
            "  warnings.warn(x, RRuntimeWarning)\n",
            "/usr/local/lib/python3.6/dist-packages/rpy2/rinterface/__init__.py:146: RRuntimeWarning: trying URL 'https://cran.rstudio.com/src/contrib/PerformanceAnalytics_2.0.4.tar.gz'\n",
            "\n",
            "  warnings.warn(x, RRuntimeWarning)\n",
            "/usr/local/lib/python3.6/dist-packages/rpy2/rinterface/__init__.py:146: RRuntimeWarning:  length 2455098 bytes (2.3 MB)\n",
            "\n",
            "  warnings.warn(x, RRuntimeWarning)\n",
            "/usr/local/lib/python3.6/dist-packages/rpy2/rinterface/__init__.py:146: RRuntimeWarning: downloaded 2.3 MB\n",
            "\n",
            "\n",
            "  warnings.warn(x, RRuntimeWarning)\n",
            "/usr/local/lib/python3.6/dist-packages/rpy2/rinterface/__init__.py:146: RRuntimeWarning: \n",
            "Attaching package: ‘PerformanceAnalytics’\n",
            "\n",
            "\n",
            "  warnings.warn(x, RRuntimeWarning)\n",
            "/usr/local/lib/python3.6/dist-packages/rpy2/rinterface/__init__.py:146: RRuntimeWarning: The following object is masked from ‘package:graphics’:\n",
            "\n",
            "    legend\n",
            "\n",
            "\n",
            "  warnings.warn(x, RRuntimeWarning)\n",
            "/usr/local/lib/python3.6/dist-packages/rpy2/rinterface/__init__.py:146: RRuntimeWarning: trying URL 'https://cran.rstudio.com/src/contrib/Deriv_4.0.tar.gz'\n",
            "\n",
            "  warnings.warn(x, RRuntimeWarning)\n",
            "/usr/local/lib/python3.6/dist-packages/rpy2/rinterface/__init__.py:146: RRuntimeWarning:  length 34866 bytes (34 KB)\n",
            "\n",
            "  warnings.warn(x, RRuntimeWarning)\n",
            "/usr/local/lib/python3.6/dist-packages/rpy2/rinterface/__init__.py:146: RRuntimeWarning: downloaded 34 KB\n",
            "\n",
            "\n",
            "  warnings.warn(x, RRuntimeWarning)\n",
            "/usr/local/lib/python3.6/dist-packages/rpy2/rinterface/__init__.py:146: RRuntimeWarning: \n",
            "Attaching package: ‘dplyr’\n",
            "\n",
            "\n",
            "  warnings.warn(x, RRuntimeWarning)\n",
            "/usr/local/lib/python3.6/dist-packages/rpy2/rinterface/__init__.py:146: RRuntimeWarning: The following objects are masked from ‘package:data.table’:\n",
            "\n",
            "    between, first, last\n",
            "\n",
            "\n",
            "  warnings.warn(x, RRuntimeWarning)\n",
            "/usr/local/lib/python3.6/dist-packages/rpy2/rinterface/__init__.py:146: RRuntimeWarning: The following objects are masked from ‘package:stats’:\n",
            "\n",
            "    filter, lag\n",
            "\n",
            "\n",
            "  warnings.warn(x, RRuntimeWarning)\n",
            "/usr/local/lib/python3.6/dist-packages/rpy2/rinterface/__init__.py:146: RRuntimeWarning: The following objects are masked from ‘package:base’:\n",
            "\n",
            "    intersect, setdiff, setequal, union\n",
            "\n",
            "\n",
            "  warnings.warn(x, RRuntimeWarning)\n"
          ],
          "name": "stderr"
        }
      ]
    },
    {
      "cell_type": "code",
      "metadata": {
        "id": "BgrVmcRZJSwa",
        "colab_type": "code",
        "colab": {}
      },
      "source": [
        "%%R\n",
        "#FUNCIÓN DE INTERPOLACIÓN ALAMBRADA\n",
        "\n",
        " #función de interpolación de tasas por el método alamabrada\n",
        "talamb<-function(nodos,curva,plazos){\n",
        "  n <-max(ncol(plazos),1)\n",
        "  m <-max(ncol(nodos),1)\n",
        "  TC=matrix(0,1,n)\n",
        "  TL=matrix(0,1,n)\n",
        "  TF=matrix(0,1,n)\n",
        "  for (j in 1:n)\n",
        "  {\n",
        "    i=1\n",
        "    repeat\n",
        "    {\n",
        "      if(nodos[i]<= plazos[j] && plazos[j] <=nodos[i+1])\n",
        "      {\n",
        "        TC[j]=curva[i]\n",
        "        TL[j]=curva[i+1]\n",
        "        TF[j]=((((1+TL[j]*nodos[i+1]/360)/(1+TC[j]*nodos[i]/360))^((plazos[j]-nodos[i])/(nodos[i+1]-nodos[i]))*(1+TC[j]*nodos[i]/360))-1)*360/plazos[j]\n",
        "        break\n",
        "      }\n",
        "      else if (plazos[j]<nodos[1])\n",
        "      {\n",
        "        TC[j]=curva[1]\n",
        "        TL[j]=curva[1]\n",
        "        TF[j]=curva[1]\n",
        "        break\n",
        "      }\n",
        "      else if (plazos[j]>nodos[m])\n",
        "      {\n",
        "        TC[j]=curva[m]\n",
        "        TL[j]=curva[m]\n",
        "        TF[j]=curva[m]\n",
        "        break\n",
        "      }\n",
        "      else\n",
        "      {i=i+1}\n",
        "    }\n",
        "  }\n",
        "  as.matrix(t(as.numeric(rbind(TF))))\n",
        "}\n",
        "\n",
        "\n",
        "#funciones necesarias\n",
        "diagv=function(x)\t\t\t#función para diagonalizar un vector\n",
        "{\n",
        "  n01=nrow(as.matrix(x))\n",
        "  m01=ncol(as.matrix(x))\n",
        "  dimmax=max(n01,m01)\n",
        "  res=matrix(0,dimmax,dimmax)\n",
        "  for (i in 1:dimmax)\n",
        "  {\n",
        "    res[i,i]=x[i]\n",
        "  }\n",
        "  res\n",
        "}\n",
        "\n",
        "#interpolación\n",
        "talamb=function(nodos,curva,plazos) #función de interpolación de tasas por el método alamabrada\n",
        "{\n",
        "  n=max(ncol(plazos),1)\n",
        "  m=max(ncol(nodos),1)\n",
        "  TC=matrix(0,1,n)\n",
        "  TL=matrix(0,1,n)\n",
        "  TF=matrix(0,1,n)\n",
        "  for (j in 1:n)\n",
        "  {\n",
        "    i=1\n",
        "    repeat\n",
        "    {\n",
        "      if(nodos[i]<= plazos[j] && plazos[j] <=nodos[i+1])\n",
        "      {\n",
        "        TC[j]=curva[i]\n",
        "        TL[j]=curva[i+1]\n",
        "        TF[j]=((((1+TL[j]*nodos[i+1]/360)/(1+TC[j]*nodos[i]/360))^((plazos[j]-nodos[i])/(nodos[i+1]-nodos[i]))*(1+TC[j]*nodos[i]/360))-1)*360/plazos[j]\n",
        "        break\n",
        "      }\n",
        "      else if (plazos[j]<nodos[1])\n",
        "      {\n",
        "        TC[j]=curva[1]\n",
        "        TL[j]=curva[1]\n",
        "        TF[j]=curva[1]\n",
        "        break\n",
        "      }\n",
        "      else if (plazos[j]>nodos[m])\n",
        "      {\n",
        "        TC[j]=curva[m]\n",
        "        TL[j]=curva[m]\n",
        "        TF[j]=curva[m]\n",
        "        break\n",
        "      }\n",
        "      else\n",
        "      {i=i+1}\n",
        "    }\n",
        "  }\n",
        "  as.matrix(t(as.numeric(rbind(TF))))\n",
        "}\n",
        "\n"
      ],
      "execution_count": 0,
      "outputs": []
    },
    {
      "cell_type": "markdown",
      "metadata": {
        "id": "0fqXYZmfwzC9",
        "colab_type": "text"
      },
      "source": [
        ""
      ]
    },
    {
      "cell_type": "markdown",
      "metadata": {
        "id": "uxbFNV1kMHU3",
        "colab_type": "text"
      },
      "source": [
        "##**Definición de parámetros:**\n",
        "### 1.a) 1000 acciones de GCarso, -5000 de America Móvil y 1200 WalMart. \n",
        "### 1.b) 1500 dólares (peso dólar), 700 euros, y -600 libras esterlinas."
      ]
    },
    {
      "cell_type": "code",
      "metadata": {
        "id": "jpV1xX_1w5dO",
        "colab_type": "code",
        "colab": {}
      },
      "source": [
        "%%R\n",
        "fval=as.Date(\"20200228\",format=\"%Y%m%d\") #Fecha de valoración\n",
        "itpl=0 #poner 0 si se quiere interpolación lineal o 1 si se quiere tasa alambrada\n",
        "alpha=0.98 #Nivel de confianza para obtener estimaciones de riesgo\n",
        "#setwd(direc)\t\n",
        "\n",
        "#ACCIONES Y DIVISAS\n",
        "#Cargar los símbolos de yahoo finance para EQ\n",
        "Symbols<-c  (\"AMXL.MX\",\"GCARSOA1.MX\", \"WMT.MX\" )#tienen que ir en orden alfabético\n",
        "pos_eq=c(-5000,1000,1200) #monto inicial invertido en acciones\n",
        "#Cargar los símbolos de yahoo finance para FX\n",
        "SymbolsFX<-c(\"EURUSD=X\",\"GBPUSD=X\",\"USDMXN=X\" ) #tienen que ir en orden alfabético\n",
        "pos_fx=c(700,-600,1500) #monto inicial invertido en divisas\n",
        "nh=3660 #días de historia"
      ],
      "execution_count": 0,
      "outputs": []
    },
    {
      "cell_type": "markdown",
      "metadata": {
        "id": "0dhsEWHcw8wR",
        "colab_type": "text"
      },
      "source": [
        "## **Carga de datos**"
      ]
    },
    {
      "cell_type": "code",
      "metadata": {
        "id": "SgcWBuJiw9jq",
        "colab_type": "code",
        "colab": {
          "base_uri": "https://localhost:8080/",
          "height": 173
        },
        "outputId": "2f4f1dff-64ea-464d-8ea0-f40bec7d9977"
      },
      "source": [
        "%%R\n",
        "#   CARGA DE DATOS DE ACCIONES\n",
        "pos=cbind(t(pos_fx),t(pos_eq))\n",
        "start_date=Sys.Date()-nh #fecha inicial     [los valores de toman 3660 dias atrás de la fecha de la compu, o llegan hasta el 28 de feb???]\n",
        "#   Creación del objeto para guardar los datos\n",
        "dataEnv<-new.env()\n",
        "dataEnvFX<-new.env()\n",
        "#   obtener los datos\n",
        "getSymbols.yahoo(Symbols,env=dataEnv,from=start_date)\n",
        "getSymbols.yahoo(SymbolsFX,env=dataEnvFX,from=start_date)\n",
        "#   muestra\n",
        "#print(tail(dataEnvFX$`GBPUSD=X`))\n",
        "#   limpiarlos, alinearnos y quedarnos con el precio de cierre \n",
        "bt.prep(dataEnv,align='remove.na',fill.gaps = T)\n",
        "bt.prep(dataEnvFX,align='remove.na',fill.gaps=T)\n",
        "#   muestra de datos\n",
        "#print(tail(dataEnv$prices))\n",
        "#head(dataEnvFX$prices)\n",
        "#   Nos quedamos con los precios (ya los teníamos)\n",
        "stock_prices = dataEnv$prices #acciones\n",
        "#print(tail(stock_prices[,]))\n",
        "stock_pricesFX=dataEnvFX$prices #divisas\n",
        "#print(tail(stock_pricesFX))\n",
        "#   cambiar todo a pesos mexicanos\n",
        "stock_pricesFX=cbind(stock_pricesFX[,1,with=F]*stock_pricesFX[,3,with=F],stock_pricesFX[,2,with=F]*stock_pricesFX[,3,with=F],stock_pricesFX[,3,with=F])\n",
        "#print(tail(stock_pricesFX)) #divisas\n",
        "stock_prices_EQFX=merge(stock_pricesFX,stock_prices,join = \"inner\")\n",
        "#print(head(stock_prices_EQFX)) #divisas y acciones\n",
        "#print(tail(stock_prices_EQFX))\n",
        "#   Preciso actuales\n",
        "#Preciso actuales\n",
        "#x0=as.data.table(as.matrix(stock_prices_EQFX[nrow(stock_prices_EQFX),])) #valores actuales\n",
        "x0=stock_prices_EQFX[nrow(stock_prices_EQFX),]\n",
        "print(x0)\n",
        "print(tail(stock_prices_EQFX))"
      ],
      "execution_count": 17,
      "outputs": [
        {
          "output_type": "display_data",
          "data": {
            "text/plain": [
              "           EURUSD.X GBPUSD.X USDMXN.X AMXL.MX GCARSOA1.MX WMT.MX\n",
              "2020-03-13 24.57016  27.6133  21.9672    14.7        49.8   2380\n",
              "           EURUSD.X GBPUSD.X USDMXN.X AMXL.MX GCARSOA1.MX  WMT.MX\n",
              "2020-03-06 22.23950 25.66113  19.8145   15.92       52.94 2349.33\n",
              "2020-03-09 23.97611 27.58383  21.0575   14.64       49.82 2491.00\n",
              "2020-03-10 23.72166 27.21260  20.8122   15.07       55.08 2434.00\n",
              "2020-03-11 23.52635 26.83853  20.7894   15.33       51.77 2428.00\n",
              "2020-03-12 24.11835 27.45225  21.4166   14.10       49.66 2273.00\n",
              "2020-03-13 24.57016 27.61330  21.9672   14.70       49.80 2380.00\n"
            ]
          },
          "metadata": {
            "tags": []
          }
        }
      ]
    },
    {
      "cell_type": "markdown",
      "metadata": {
        "id": "HTaB3tM8x-xx",
        "colab_type": "text"
      },
      "source": [
        "Paso 1: generación de rendimientos"
      ]
    },
    {
      "cell_type": "code",
      "metadata": {
        "id": "WzINmJ6Uw-Mc",
        "colab_type": "code",
        "colab": {
          "base_uri": "https://localhost:8080/",
          "height": 260
        },
        "outputId": "8f56aa28-410d-42fe-933a-a799043119d8"
      },
      "source": [
        "%%R\n",
        "stock_returns = Return.calculate(stock_prices_EQFX, method = c(\"continuous\"))\n",
        "#head(stock_returns[,1:3])\n",
        "#print(head(stock_returns))\n",
        "\n",
        "#CONFIRMACIÓN\n",
        "DeltaX=as.matrix(log(as.matrix(stock_prices_EQFX[2:nrow(stock_prices_EQFX)])/as.data.table(as.matrix(stock_prices_EQFX[1:(nrow(stock_prices_EQFX)-1)]))))\n",
        "#tail(DeltaX)\n",
        "head(DeltaX)"
      ],
      "execution_count": 23,
      "outputs": [
        {
          "output_type": "display_data",
          "data": {
            "text/plain": [
              "          EURUSD.X      GBPUSD.X      USDMXN.X       AMXL.MX   GCARSOA1.MX\n",
              "[1,] -0.0002486274 -0.0060081651 -0.0029194322  0.0076730985  0.0006477485\n",
              "[2,]  0.0015558186  0.0052712135 -0.0015186153  0.0006644519 -0.0045345787\n",
              "[3,]  0.0022010817  0.0055476490 -0.0039624220 -0.0036599608  0.0006459362\n",
              "[4,] -0.0002505650  0.0012022077 -0.0001677725  0.0142315822 -0.0036818139\n",
              "[5,] -0.0073164942  0.0001987766 -0.0051025219  0.0065509569  0.0054139287\n",
              "[6,] -0.0041520151  0.0007394573  0.0049427124  0.0065083211 -0.0015154363\n",
              "            WMT.MX\n",
              "[1,] -1.124997e-02\n",
              "[2,]  0.000000e+00\n",
              "[3,]  7.373133e-05\n",
              "[4,]  3.784415e-02\n",
              "[5,]  0.000000e+00\n",
              "[6,]  0.000000e+00\n"
            ]
          },
          "metadata": {
            "tags": []
          }
        }
      ]
    },
    {
      "cell_type": "markdown",
      "metadata": {
        "id": "u3J_qMzs1WOL",
        "colab_type": "text"
      },
      "source": [
        "Gráfica"
      ]
    },
    {
      "cell_type": "code",
      "metadata": {
        "id": "a3s35QGf0Tx2",
        "colab_type": "code",
        "colab": {
          "base_uri": "https://localhost:8080/",
          "height": 497
        },
        "outputId": "4ab72042-2f3b-4d7e-9999-d71081648ed5"
      },
      "source": [
        "%%R\n",
        "charts.PerformanceSummary(stock_returns,main='Stock Absolute Performance',legend.loc=\"bottomright\")"
      ],
      "execution_count": 22,
      "outputs": [
        {
          "output_type": "display_data",
          "data": {
            "image/png": "[encoded data removed]"
          },
          "metadata": {
            "tags": []
          }
        }
      ]
    },
    {
      "cell_type": "code",
      "metadata": {
        "id": "61_qnStg1Y-s",
        "colab_type": "code",
        "colab": {
          "base_uri": "https://localhost:8080/",
          "height": 52
        },
        "outputId": "3c7b1ec3-c0b8-4435-c546-ce7d9e52a72a"
      },
      "source": [
        "%%R\n",
        "n=nrow(DeltaX)\n",
        "n\n",
        "m=ncol(DeltaX)\n",
        "m\n",
        "\n",
        "\n",
        "V0=x0*pos #Valor del portafolio\n",
        "#print(V0)\n",
        "VT=sum(V0)\n",
        "#print(sum(V0))\n",
        "#Cálculo de Distribución de Pérdidas y Ganancias\n",
        "X_ast<-matrix(0,n,m) #matriz de simulacion de precios\n",
        "Y_ast<-matrix(0,n,m) #matriz de simulacion de instrumentos financieros\n",
        "PL<-matrix(0,n,m) \n",
        "PLTdCAcc<-matrix(0,n,2) #POR FACTOR DE RIESGO\n",
        "PLT=matrix(0,n,1) #TOTAL\n",
        "for (i in (1:n))\n",
        "{\n",
        "  X_ast[i,]=x0*exp(DeltaX[i,]) #Simulación del precio\n",
        "  Y_ast[i,]=X_ast[i,]*pos\n",
        "  PL[i,]=Y_ast[i,]-V0  #Pérdidas y ganancias por posición\n",
        "  PLTdCAcc[i,]=c(sum(PL[i,1:(len(pos_fx))]),sum(PL[i,(len(pos_fx)+1):(len(pos_eq)+len(pos_fx))])) #Pérdidas y ganancias por factor de riesgo\n",
        "  PLT[i]=sum(PL[i,]) #Pérdidas y ganancias totales\n",
        "}\n",
        "#print(PL[1:10,])\n",
        "#print(PLTdCAcc[1:10,])\n",
        "#print(PLT[1:10,])\n",
        "#print(PLT[1:10,])\n"
      ],
      "execution_count": 31,
      "outputs": [
        {
          "output_type": "display_data",
          "data": {
            "text/plain": [
              " [1] -32484.8345   -384.9502    326.7009 108887.7993   -509.1067   -475.5825\n",
              " [7] -32257.3379    861.8084   8821.4702   -326.2727\n"
            ]
          },
          "metadata": {
            "tags": []
          }
        }
      ]
    },
    {
      "cell_type": "markdown",
      "metadata": {
        "id": "dyura2db3Y78",
        "colab_type": "text"
      },
      "source": [
        "##**VaR por posición sin alisado.**"
      ]
    },
    {
      "cell_type": "code",
      "metadata": {
        "id": "OgScIGrWE7CA",
        "colab_type": "code",
        "outputId": "35d51bb6-b63d-45ba-a4c2-5585ad0b879e",
        "colab": {
          "base_uri": "https://localhost:8080/",
          "height": 156
        }
      },
      "source": [
        "%%R\n",
        "#VaR por posición sin alisado\n",
        "VaRCont=matrix(0,1,m)\n",
        "CVaRCont=matrix(0,1,m)\n",
        "alpha=0.95\n",
        "\n",
        "\n",
        "for (i in (1:m))\n",
        "{\n",
        "VaRCont[i]=quantile(PL[,i],1-alpha,n)\n",
        "CVaRCont[i]= mean(PL[which(PL[,i]<VaRCont[i]),i])\n",
        "}\n",
        "\n",
        "#Resumen medidas de riesgo por posición\n",
        "VaRCont=as.data.table(VaRCont)\n",
        "CVaRCont=as.data.table(CVaRCont)\n",
        "\n",
        "#valores absolutos con respecto al portafolio sin alisado\n",
        "names(VaRCont)=names(x0)\n",
        "names(CVaRCont)=names(x0)\n",
        "#print('valores absolutos con respecto al portafolio sin alisado')\n",
        "#print(\"VaR\")\n",
        "#print(VaRCont/abs(as.matrix(V0)))\n",
        "#print('CVaR')\n",
        "#print(CVaRCont/abs(as.matrix(V0)))\n",
        "\n",
        "\n",
        "#medias de riesgo por factor de riesgo acciones y divisas\n",
        "\n",
        "VaRfr=matrix(0,1,2)\n",
        "CVaRfr=matrix(0,1,2)\n",
        "\n",
        "for (i in (1:2))\n",
        "{\n",
        "  VaRfr[i]=quantile(PLTdCAcc[,i],1-alpha,n)\n",
        "  CVaRfr[i]= mean(PLTdCAcc[which(PLTdCAcc[,i]<VaRfr[i]),i])\n",
        "}\n",
        "\n",
        "\n",
        "\n",
        "VaRfr=as.data.table(VaRfr)\n",
        "CVaRfr=as.data.table(CVaRfr)\n",
        "#print('')\n",
        "#print('medias de riesgo por factor de riesgo acciones y divisas')\n",
        "#print(VaRfr)\n",
        "#print(CVaRfr)\n",
        "\n",
        "names(VaRfr)=c(\"divisas\", \"acciones\")\n",
        "names(CVaRfr)=c(\"divisas\", \"acciones\")\n",
        "#VALORES ABSOLUTOS\n",
        "VaRfr/c(abs(as.matrix(sum(V0[,1:(len(pos_fx)+1)]))),abs(as.matrix(sum(V0[,(len(pos_fx)+1):(len(pos_eq)+len(pos_fx))]))))\n",
        "CVaRfr/c(abs(as.matrix(sum(V0[,1:(len(pos_fx)+1)]))),abs(as.matrix(sum(V0[,(len(pos_fx)+1):(len(pos_eq)+len(pos_fx))]))))\n",
        "\n",
        "\n",
        "#hist(as.matrix(PL[,3]))\n",
        "#hist(as.matrix(PL[,2]))\n",
        "\n",
        "\n",
        "#VaR Total\n",
        "VaRTotal=quantile(PLT,1-alpha,n)\n",
        "CVaRTotal= mean(PLT[which(PLT<VaRTotal),])\n",
        "\n",
        "#VALOR ABSOLUTOS\n",
        "print('VaR Total')\n",
        "print(VaRTotal)\n",
        "print(VaRTotal/sum(V0))\n",
        "print('CVaR Total')\n",
        "print(CVaRTotal)\n",
        "print(CVaRTotal/sum(V0))"
      ],
      "execution_count": 56,
      "outputs": [
        {
          "output_type": "display_data",
          "data": {
            "text/plain": [
              "[1] \"VaR Total\"\n",
              "       5% \n",
              "-61436.49 \n",
              "        5% \n",
              "-0.0214372 \n",
              "[1] \"CVaR Total\"\n",
              "[1] -178578.1\n",
              "[1] -0.06231173\n"
            ]
          },
          "metadata": {
            "tags": []
          }
        }
      ]
    },
    {
      "cell_type": "markdown",
      "metadata": {
        "id": "mqPEFE-X6yDp",
        "colab_type": "text"
      },
      "source": [
        "##**VaR por posición con alisado**"
      ]
    },
    {
      "cell_type": "code",
      "metadata": {
        "id": "D2FJ027UNFIB",
        "colab_type": "code",
        "cellView": "code",
        "colab": {}
      },
      "source": [
        "%%R\n",
        "#Medidas de riesgo CON alisado\n",
        "\n",
        "#Se necesita definir\n",
        "#1) El valor del peso inicial del primer escenario \"w0\"\n",
        "#2) La función de cuantil con vector de probabilidades no iguales\n",
        "#3) La función de CVaR con probabilidades no iguales\n",
        "\n",
        "#w0=0.05\n",
        "\n",
        "#Creación de dos funciones que sirven para este fin\n",
        "# Percentil con pesos de probabilidades\n",
        "# \n",
        "# v  un vector de observaciones\n",
        "# w Un vector numérico de valores positivos, en general es la distrubición.\n",
        "# p  el valor de la probabilidad entre 0 y 1.\n",
        "# \n",
        "# Esta función no interpola\n",
        "\n",
        "w0<-0.05\n",
        "\n",
        "wquantile <- function(v,w=rep(1,length(v)),p=.5) \n",
        "{ \n",
        "  if ( !is.numeric(w) || length(v) != length(w) ) \n",
        "    stop(\"Los valores y los pesos tienen que tener misma longitud\") \n",
        "  if ( !is.numeric(p) || any( p<0 | p>1) ) \n",
        "    stop(\"Percentil tiene que ser 0<=p<=1\") \n",
        "  if ( min(w) < 0 ) stop(\"Los pesos tiene que ser mayores que 0\") \n",
        "  ranking <- order(v) \n",
        "  sumw <- cumsum(w[ranking]) \n",
        "  plist <- sumw / sumw[ length(sumw) ] \n",
        "  v [ ranking [ which.max( plist >= p ) ] ]  \n",
        "} \n",
        "\n",
        "#CVaR con alisado\n",
        "wcvar <- function(v,w=rep(1,length(v)),p=.5) \n",
        "{ \n",
        "  if ( !is.numeric(w) || length(v) != length(w) ) \n",
        "    stop(\"Los valores y los pesos tienen que tener misma longitud\") \n",
        "  if ( !is.numeric(p) || any( p<0 | p>1) ) \n",
        "    stop(\"Percentil tiene que ser 0<=p<=1\") \n",
        "  if ( min(w) < 0 ) stop(\"Los pesos tiene que ser mayores que 0\") \n",
        "  ranking <- order(v) \n",
        "  sumw <- cumsum(w[ranking]) \n",
        "  plist <- sumw / sumw[ length(sumw) ] \n",
        "  loss= v [ ranking [ which( plist < p ) ] ]  \n",
        "  esc=w [ ranking [ which( plist < p ) ] ]  \n",
        "  sum(loss*esc)/(sum(esc))\n",
        "} \n",
        "\n",
        "\n",
        "#esc_cvar=which(cumsum(p_esc[order(PLT[,1])])<pdca)\n",
        "\n",
        "\n",
        "#p_esc[esc_cvar]\n",
        "\n",
        "#tshs=cbind(PLT,p_esc)\n"
      ],
      "execution_count": 0,
      "outputs": []
    },
    {
      "cell_type": "code",
      "metadata": {
        "id": "lmONF8QZ7YI0",
        "colab_type": "code",
        "colab": {
          "base_uri": "https://localhost:8080/",
          "height": 139
        },
        "outputId": "40fa0520-875f-44b2-9891-70c2ead5c8d1"
      },
      "source": [
        "%%R\n",
        "lambda =uniroot(function(x) w0*(1-x^(n))/(1-x)-1, c(0,0.99), tol = 1e-28)$root\n",
        "lambda\n",
        "\n",
        "#generamos la función que genera \"n\" escenarios con base en w0 y lambda\n",
        "genera_esc=function(lamda,w0,n)\n",
        "{\n",
        "  p_esc=matrix(0,n,1)\n",
        "  for (i in (1:n))\n",
        "  {\n",
        "    p_esc[i]=w0*lambda^(i-1)\n",
        "  }\n",
        "  p_esc\n",
        "}\n",
        "\n",
        "p_esc=genera_esc(lambda,w0,n)\n",
        "t(p_esc[1:10])\n",
        "sum(p_esc) #validamos que sume 1\n",
        "\n",
        "#Creamos las cajas de VaR y CVaR con alisado\n",
        "VaRca=matrix(0,1,ncol(PL))\n",
        "CVaRca=matrix(0,1,ncol(PL))\n",
        "\n",
        "#IMPORTANTE: VALIDAR QUE SE TENGA EL MISMO ORDEN DE ESCENARIOS, ES POR ESO QUE METEMOS P_ESC[ORDER(P_ESC)]\n",
        "for (j in (1:m))\n",
        "{\n",
        "  VaRca[j]=wquantile(as.matrix(PL[,j]), p_esc[order(p_esc)], 1-alpha)\n",
        "  CVaRca[j]=wcvar(as.matrix(PL[,j]), as.matrix(p_esc[order(p_esc)]), 1-alpha)\n",
        "}\n",
        "\n",
        "#Resumen medidas de riesgo por posición\n",
        "VaRca=as.data.table(VaRca)\n",
        "CVaRca=as.data.table(CVaRca)\n",
        "\n",
        "#valores absolutos con respecto al portafolio sin alisado\n",
        "names(VaRca)=names(x0)\n",
        "names(CVaRca)=names(x0)\n",
        "VaRca/abs(as.matrix(V0))\n",
        "CVaRca/abs(as.matrix(V0))\n",
        "\n",
        "\n",
        "#medias de riesgo por factor de riesgo acciones y divisas\n",
        "\n",
        "VaRfrca=matrix(0,1,2)\n",
        "CVaRfrca=matrix(0,1,2)\n",
        "\n",
        "\n",
        "for (j in (1:2))\n",
        "{\n",
        "  VaRfrca[j]=wquantile(as.matrix(PLTdCAcc[,j]), p_esc[order(p_esc)], 1-alpha)\n",
        "  CVaRfrca[j]= wcvar(as.matrix(PLTdCAcc[,j]), as.matrix(p_esc[order(p_esc)]), 1-alpha)\n",
        "}\n",
        "\n",
        "\n",
        "\n",
        "VaRfrca=as.data.table(VaRfrca)\n",
        "CVaRfrca=as.data.table(CVaRfrca)\n",
        "\n",
        "names(VaRfrca)=c(\"divisas\", \"acciones\")\n",
        "names(CVaRfrca)=c(\"divisas\", \"acciones\")\n",
        "#VALORES ABSOLUTOS\n",
        "VaRfrca/c(abs(as.matrix(sum(V0[,1:(len(pos_fx)+1)]))),abs(as.matrix(sum(V0[,(len(pos_fx)+1):(len(pos_eq)+len(pos_fx))]))))\n",
        "CVaRfrca/c(abs(as.matrix(sum(V0[,1:(len(pos_fx)+1)]))),abs(as.matrix(sum(V0[,(len(pos_fx)+1):(len(pos_eq)+len(pos_fx))]))))\n",
        "\n",
        "\n",
        "VaRcaT=wquantile(as.matrix(PLT), p_esc[order(p_esc)], 1-alpha)\n",
        "CVaRcaT=wcvar(as.matrix(PLT), p_esc[order(p_esc)], 1-alpha)\n",
        "\n",
        "\n",
        "V0\n",
        "VaRCont/abs(as.matrix(V0))\n",
        "VaRca/abs(as.matrix(V0))\n",
        "CVaRCont/abs(as.matrix(V0))\n",
        "CVaRca/abs(as.matrix(V0))\n",
        "\n",
        "\n",
        "c(sum(V0[,1:3]),sum(V0[,4:5]))\n",
        "VaRfr/c(abs(as.matrix(sum(V0[,1:3]))),abs(as.matrix(sum(V0[,4:5]))))\n",
        "VaRfrca/c(abs(as.matrix(sum(V0[,1:3]))),abs(as.matrix(sum(V0[,4:5]))))\n",
        "CVaRfr/c(abs(as.matrix(sum(V0[,1:3]))),abs(as.matrix(sum(V0[,4:5]))))\n",
        "CVaRfrca/c(abs(as.matrix(sum(V0[,1:3]))),abs(as.matrix(sum(V0[,4:5]))))\n",
        "\n",
        "\n",
        "sum(V0)\n",
        "print('VaR')\n",
        "print(VaRTotal/abs(sum(V0)))\n",
        "print(VaRcaT/abs(sum(V0)))\n",
        "print('CVaR')\n",
        "print(CVaRTotal/abs(sum(V0)))\n",
        "print(CVaRcaT/abs(sum(V0)))\n"
      ],
      "execution_count": 64,
      "outputs": [
        {
          "output_type": "display_data",
          "data": {
            "text/plain": [
              "[1] \"VaR\"\n",
              "        5% \n",
              "-0.0214372 \n",
              "[1] -0.03586113\n",
              "[1] \"CVaR\"\n",
              "[1] -0.06231173\n",
              "[1] -0.06190322\n"
            ]
          },
          "metadata": {
            "tags": []
          }
        }
      ]
    },
    {
      "cell_type": "code",
      "metadata": {
        "id": "d_I1nJzB71K9",
        "colab_type": "code",
        "colab": {}
      },
      "source": [
        ""
      ],
      "execution_count": 0,
      "outputs": []
    }
  ]
}